{
  "nbformat": 4,
  "nbformat_minor": 0,
  "metadata": {
    "colab": {
      "provenance": [],
      "authorship_tag": "ABX9TyMxLRTiMfQZ9dNcGX6PTzUH",
      "include_colab_link": true
    },
    "kernelspec": {
      "name": "python3",
      "display_name": "Python 3"
    },
    "language_info": {
      "name": "python"
    }
  },
  "cells": [
    {
      "cell_type": "markdown",
      "metadata": {
        "id": "view-in-github",
        "colab_type": "text"
      },
      "source": [
        "<a href=\"https://colab.research.google.com/github/JCaballerot/Python-Programming101/blob/main/01_Introduccion_a_Python/(visto%20en%20clase)%2005_Eficiencia_de_Programa_Algoritmos_Recursivos_e_Introducci%C3%B3n_a_Funciones.ipynb\" target=\"_parent\"><img src=\"https://colab.research.google.com/assets/colab-badge.svg\" alt=\"Open In Colab\"/></a>"
      ]
    },
    {
      "cell_type": "markdown",
      "source": [
        "<img src=\"https://www.ctic.uni.edu.pe/wp-content/uploads/2022/04/588px-x-348px-web-1.png\" alt=\"HTML5 Icon\" width=\"900\" height=\"350\" >\n"
      ],
      "metadata": {
        "id": "kpRjEjfp-AbE"
      }
    },
    {
      "cell_type": "markdown",
      "source": [
        "# Eficiencia del Programa, Algoritmos Recursivos"
      ],
      "metadata": {
        "id": "D7AkNgnu97O2"
      }
    },
    {
      "cell_type": "markdown",
      "source": [
        "## Objetivo:\n",
        "\n",
        "Este laboratorio está diseñado para que los estudiantes comprendan el uso de funciones en Python, cómo medir la eficiencia de un programa, y cómo implementar y optimizar algoritmos de búsqueda y recursión. También aprenderán a comparar distintos algoritmos de búsqueda y ordenamiento y a evaluar su rendimiento.\n",
        "\n"
      ],
      "metadata": {
        "id": "5O1ZbxoL-EAB"
      }
    },
    {
      "cell_type": "markdown",
      "source": [
        "---\n",
        "\n",
        "## 1. Introducción a Funciones\n",
        "\n",
        "### 1.1 Concepto de Funciones\n",
        "Una función es un bloque de código reutilizable que realiza una tarea específica. Las funciones permiten modularizar el código, haciéndolo más limpio, legible y reutilizable. Además, las funciones facilitan la recursión, que es clave en muchos algoritmos eficientes.\n",
        "\n"
      ],
      "metadata": {
        "id": "ETPiaVoC-IYp"
      }
    },
    {
      "cell_type": "markdown",
      "source": [
        "**Sintaxis de una Función en Python:**"
      ],
      "metadata": {
        "id": "gLWVPCax-Noz"
      }
    },
    {
      "cell_type": "code",
      "execution_count": null,
      "metadata": {
        "id": "Ungfjy3J96ax"
      },
      "outputs": [],
      "source": [
        "def nombre_funcion(argumentos):\n",
        "    # Cuerpo de la función\n",
        "    return resultado\n"
      ]
    },
    {
      "cell_type": "markdown",
      "source": [
        "**Ejemplo de Función Básica:**"
      ],
      "metadata": {
        "id": "TVQjuxJa-RAn"
      }
    },
    {
      "cell_type": "code",
      "source": [
        "def saludar(nombre):\n",
        "    return f\"Hola, {nombre}!\"\n",
        "\n",
        "print(saludar(\"Juan\"))  # Llamada a la función\n"
      ],
      "metadata": {
        "id": "JVbSyQPt-TVn"
      },
      "execution_count": null,
      "outputs": []
    },
    {
      "cell_type": "markdown",
      "source": [
        "### 1.2 Parámetros y Argumentos\n",
        "\n",
        "Una función puede recibir uno o más parámetros, que son valores que se pasan a la función cuando se la llama."
      ],
      "metadata": {
        "id": "xX0osRfN-VPm"
      }
    },
    {
      "cell_type": "markdown",
      "source": [
        "**Ejemplo:**"
      ],
      "metadata": {
        "id": "ekfgA4m1-cOQ"
      }
    },
    {
      "cell_type": "code",
      "source": [
        "def sumar(a, b):\n",
        "    return a + b\n",
        "\n",
        "resultado = sumar(3, 5)  # Llamada a la función\n",
        "print(resultado)  # Imprime 8"
      ],
      "metadata": {
        "id": "MDCKsn5N-Zhm"
      },
      "execution_count": null,
      "outputs": []
    },
    {
      "cell_type": "markdown",
      "source": [
        "**Ejercicios de Funciones Básicas**\n",
        "\n",
        "- 1. Escribe una función multiplicar(a, b) que reciba dos números y devuelva su producto.\n",
        "\n",
        "- 2. Crea una función llamada es_par(numero) que reciba un número y devuelva True si es par, o False si es impar.\n",
        "\n",
        "- 3. Define una función mayor_de_dos(x, y) que reciba dos números y devuelva el mayor de ambos."
      ],
      "metadata": {
        "id": "R4z9QbkR-w2t"
      }
    },
    {
      "cell_type": "code",
      "source": [],
      "metadata": {
        "id": "9gBBIsAG_Uk-"
      },
      "execution_count": null,
      "outputs": []
    },
    {
      "cell_type": "markdown",
      "source": [
        "### 1.3 Funciones con Valor por Defecto\n",
        "\n",
        "Las funciones pueden tener parámetros con valores por defecto, lo que permite llamarlas sin especificar todos los argumentos.\n",
        "\n",
        "**Ejemplo:**"
      ],
      "metadata": {
        "id": "HM9VnIyQ-l6v"
      }
    },
    {
      "cell_type": "code",
      "source": [
        "def saludar(nombre=\"desconocido\"):\n",
        "    return f\"Hola, {nombre}!\"\n",
        "\n",
        "print(saludar())  # Llama a la función sin argumento\n",
        "print(saludar(\"Ana\"))  # Llama a la función con argumento\n"
      ],
      "metadata": {
        "id": "DIviXyc4-qkO"
      },
      "execution_count": null,
      "outputs": []
    },
    {
      "cell_type": "markdown",
      "source": [
        "**Ejercicios de Funciones con Valores por Defecto**\n",
        "\n",
        "- 1. Crea una función llamada area_rectangulo(base, altura=10) que devuelva el área de un rectángulo. Si no se proporciona la altura, que sea 10 por defecto.\n",
        "\n",
        "- 2. Escribe una función mostrar_mensaje(mensaje=\"Bienvenidos\") que imprima un mensaje en pantalla. Prueba llamarla sin pasarle un argumento.\n",
        "\n",
        "- 3. Define una función descuento(precio, porcentaje=10) que calcule el precio después de aplicar un descuento porcentual. Si no se especifica el porcentaje, debe aplicar un 10% de descuento."
      ],
      "metadata": {
        "id": "i3oUVUjb-sLs"
      }
    },
    {
      "cell_type": "code",
      "source": [],
      "metadata": {
        "id": "G2Y64ZyA_T1H"
      },
      "execution_count": null,
      "outputs": []
    },
    {
      "cell_type": "markdown",
      "source": [
        "## 2. Eficiencia del Programa\n",
        "\n",
        "### 2.1 Notación Big-O y Complejidad Temporal"
      ],
      "metadata": {
        "id": "RCWfJOTU-vnM"
      }
    },
    {
      "cell_type": "markdown",
      "source": [
        "La notación Big-O es una forma de expresar cómo crece el tiempo de ejecución de un algoritmo a medida que aumenta el tamaño de la entrada. Big-O se enfoca en la tasa de crecimiento de tiempo, dejando de lado detalles específicos de hardware o implementación.\n",
        "\n",
        "\n",
        "Algunos de los órdenes de crecimiento más comunes son:\n",
        "\n",
        "- **O(1) - Constante:** El tiempo no depende del tamaño de la entrada.\n",
        "- **O(n) - Lineal:** El tiempo de ejecución aumenta proporcionalmente al tamaño de la entrada.\n",
        "- **O(log n) - Logarítmica:** El tiempo de ejecución aumenta más lentamente conforme crece la entrada.\n",
        "- **O(n^2) - Cuadrática:** El tiempo de ejecución aumenta cuadráticamente con el tamaño de la entrada."
      ],
      "metadata": {
        "id": "mFrUJ4ii-0Pi"
      }
    },
    {
      "cell_type": "markdown",
      "source": [
        "**Ejercicios sobre Notación Big-O**\n",
        "\n",
        "- 1. Analiza la complejidad de la función multiplicar(a, b) que creaste anteriormente. ¿Es constante, lineal o cuadrática?\n",
        "- 2. ¿Cuál es la complejidad de la función mayor_de_dos(x, y)? Razona tu respuesta.\n",
        "- 3. Si una función tiene un tiempo de ejecución O(n^2), ¿qué significa para listas con tamaños de 100, 1000 y 10,000 elementos?"
      ],
      "metadata": {
        "id": "xs5wy5od_ool"
      }
    },
    {
      "cell_type": "code",
      "source": [
        "def multiplicar(a, b):\n",
        "    \"\"\"documentacion\"\"\"\n",
        "    return a*b\n"
      ],
      "metadata": {
        "id": "EGEknLDf_vFH"
      },
      "execution_count": 3,
      "outputs": []
    },
    {
      "cell_type": "code",
      "source": [
        "from random import randint\n"
      ],
      "metadata": {
        "id": "OEyz4wCQmf2O"
      },
      "execution_count": null,
      "outputs": []
    },
    {
      "cell_type": "code",
      "source": [
        "%%time\n",
        "%%capture\n",
        "multiplicar(randint(0, 1000), randint(0, 1000))"
      ],
      "metadata": {
        "id": "pXB4SqxEka8a",
        "outputId": "8a807609-dc2f-4234-e9e1-d8b6a82bcb03",
        "colab": {
          "base_uri": "https://localhost:8080/"
        }
      },
      "execution_count": 17,
      "outputs": [
        {
          "output_type": "stream",
          "name": "stdout",
          "text": [
            "CPU times: user 1.6 ms, sys: 0 ns, total: 1.6 ms\n",
            "Wall time: 1.61 ms\n"
          ]
        }
      ]
    },
    {
      "cell_type": "code",
      "source": [
        "%%time\n",
        "%%capture\n",
        "for i in range(0, 100):\n",
        "  multiplicar(randint(0, 1000), randint(0, 1000))"
      ],
      "metadata": {
        "id": "adviPJMhk2Ra",
        "outputId": "8c3dacfb-98cc-4bc6-9ba9-d09bfc4f15a6",
        "colab": {
          "base_uri": "https://localhost:8080/"
        }
      },
      "execution_count": 18,
      "outputs": [
        {
          "output_type": "stream",
          "name": "stdout",
          "text": [
            "CPU times: user 1.65 ms, sys: 0 ns, total: 1.65 ms\n",
            "Wall time: 1.66 ms\n"
          ]
        }
      ]
    },
    {
      "cell_type": "code",
      "source": [
        "%%time\n",
        "%%capture\n",
        "for i in range(0, 1000):\n",
        "  multiplicar(randint(0, 1000), randint(0, 1000))"
      ],
      "metadata": {
        "id": "DOFCHx74l26g",
        "outputId": "bfc933b4-5b59-492e-abb0-d780eb3ddb07",
        "colab": {
          "base_uri": "https://localhost:8080/"
        }
      },
      "execution_count": 16,
      "outputs": [
        {
          "output_type": "stream",
          "name": "stdout",
          "text": [
            "CPU times: user 3.16 ms, sys: 0 ns, total: 3.16 ms\n",
            "Wall time: 3.19 ms\n"
          ]
        }
      ]
    },
    {
      "cell_type": "code",
      "source": [
        "import time\n",
        "\n",
        "start = time.time()"
      ],
      "metadata": {
        "id": "8TPbPQ7lnl6X"
      },
      "execution_count": 24,
      "outputs": []
    },
    {
      "cell_type": "code",
      "source": [
        "end = time.time()"
      ],
      "metadata": {
        "id": "YNZRKK8an5fA"
      },
      "execution_count": 25,
      "outputs": []
    },
    {
      "cell_type": "code",
      "source": [
        "end - start"
      ],
      "metadata": {
        "id": "ycLAdLjPoANh",
        "outputId": "dc5845ac-5515-4596-9c35-43164e1255f3",
        "colab": {
          "base_uri": "https://localhost:8080/"
        }
      },
      "execution_count": 26,
      "outputs": [
        {
          "output_type": "execute_result",
          "data": {
            "text/plain": [
              "25.558349609375"
            ]
          },
          "metadata": {},
          "execution_count": 26
        }
      ]
    },
    {
      "cell_type": "code",
      "source": [
        "repeticiones = []\n",
        "tiempo = []\n",
        "\n",
        "for n in range(0, 10_000_001, 500_000):\n",
        "  start = time.time()\n",
        "  for i in range(0, n):\n",
        "    multiplicar(randint(0, 1000), randint(0, 1000))\n",
        "  repeticiones.append(n)\n",
        "  tiempo.append(time.time() - start)\n",
        "  print(f'{n} repeticiones del proceso tardan {time.time() - start} segundos')\n"
      ],
      "metadata": {
        "id": "r9TOAjcmmrNP",
        "outputId": "4dc7042c-f1da-44ba-f223-c30400214e18",
        "colab": {
          "base_uri": "https://localhost:8080/"
        }
      },
      "execution_count": 33,
      "outputs": [
        {
          "output_type": "stream",
          "name": "stdout",
          "text": [
            "0 repeticiones del proceso tardan 3.814697265625e-06 segundos\n",
            "500000 repeticiones del proceso tardan 0.9018826484680176 segundos\n",
            "1000000 repeticiones del proceso tardan 1.83896803855896 segundos\n",
            "1500000 repeticiones del proceso tardan 2.701176166534424 segundos\n",
            "2000000 repeticiones del proceso tardan 4.465366363525391 segundos\n",
            "2500000 repeticiones del proceso tardan 5.0556254386901855 segundos\n",
            "3000000 repeticiones del proceso tardan 5.351367473602295 segundos\n",
            "3500000 repeticiones del proceso tardan 7.580914258956909 segundos\n",
            "4000000 repeticiones del proceso tardan 7.883573770523071 segundos\n",
            "4500000 repeticiones del proceso tardan 8.500149965286255 segundos\n",
            "5000000 repeticiones del proceso tardan 10.147998571395874 segundos\n",
            "5500000 repeticiones del proceso tardan 11.10945987701416 segundos\n",
            "6000000 repeticiones del proceso tardan 11.92050838470459 segundos\n",
            "6500000 repeticiones del proceso tardan 12.874486923217773 segundos\n",
            "7000000 repeticiones del proceso tardan 13.78346872329712 segundos\n",
            "7500000 repeticiones del proceso tardan 14.630473852157593 segundos\n",
            "8000000 repeticiones del proceso tardan 15.53148865699768 segundos\n",
            "8500000 repeticiones del proceso tardan 16.619150161743164 segundos\n",
            "9000000 repeticiones del proceso tardan 18.838144063949585 segundos\n",
            "9500000 repeticiones del proceso tardan 23.42513394355774 segundos\n",
            "10000000 repeticiones del proceso tardan 26.897674083709717 segundos\n"
          ]
        }
      ]
    },
    {
      "cell_type": "code",
      "source": [
        "import matplotlib.pyplot as plt\n",
        "\n",
        "plt.figure(figsize=(8, 4))\n",
        "plt.plot(repeticiones, tiempo, marker='o', linestyle='-', linewidth=2)\n",
        "plt.ylim(0, 10_00)\n"
      ],
      "metadata": {
        "id": "y9yDOYY0rc8J",
        "outputId": "2c4ed9c1-b65a-4dbf-c89b-cf479dbf89f4",
        "colab": {
          "base_uri": "https://localhost:8080/",
          "height": 409
        }
      },
      "execution_count": 48,
      "outputs": [
        {
          "output_type": "execute_result",
          "data": {
            "text/plain": [
              "(0.0, 1000.0)"
            ]
          },
          "metadata": {},
          "execution_count": 48
        },
        {
          "output_type": "display_data",
          "data": {
            "text/plain": [
              "<Figure size 800x400 with 1 Axes>"
            ],
            "image/png": "[encoded data removed]"
          },
          "metadata": {}
        }
      ]
    },
    {
      "cell_type": "markdown",
      "source": [
        "## 3. Algoritmos de Búsqueda\n"
      ],
      "metadata": {
        "id": "4U2MHm39_0vC"
      }
    },
    {
      "cell_type": "markdown",
      "source": [
        "### 3.1 Búsqueda Lineal\n",
        "\n",
        "La búsqueda lineal es un método de búsqueda sencillo que examina cada elemento de una lista uno por uno hasta encontrar el elemento deseado o hasta que todos los elementos hayan sido revisados."
      ],
      "metadata": {
        "id": "fE-Azqim_6EQ"
      }
    },
    {
      "cell_type": "markdown",
      "source": [
        "**Ejemplo de Búsqueda Lineal (O(n)):**\n"
      ],
      "metadata": {
        "id": "h-Ls7mOc-2RP"
      }
    },
    {
      "cell_type": "code",
      "source": [
        "def busqueda_lineal(lista, objetivo):\n",
        "    for i in range(len(lista)):\n",
        "        if lista[i] == objetivo:\n",
        "            return i\n",
        "    return -1  # Retorna -1 si no se encuentra el objetivo\n"
      ],
      "metadata": {
        "id": "0U58KQyE-zyO"
      },
      "execution_count": null,
      "outputs": []
    },
    {
      "cell_type": "markdown",
      "source": [
        "**Ejercicios de Búsqueda Lineal**\n",
        "\n",
        "- 1. Implementa busqueda_lineal y pruébala con una lista de 10,000 números. Mide el tiempo de ejecución cuando el objetivo está al inicio, en el medio y al final de la lista.\n",
        "\n",
        "- 2. Modifica busqueda_lineal para que retorne una lista con todos los índices donde se encuentra el objetivo (si aparece varias veces en la lista).\n",
        "\n",
        "- 3. Utiliza busqueda_lineal en una lista desordenada de nombres y encuentra la posición de un nombre específico."
      ],
      "metadata": {
        "id": "JUzVij-R-7eY"
      }
    },
    {
      "cell_type": "code",
      "source": [],
      "metadata": {
        "id": "CIhZ7eN0AP6F"
      },
      "execution_count": null,
      "outputs": []
    },
    {
      "cell_type": "markdown",
      "source": [
        "### 3.2 Búsqueda Binaria\n",
        "\n",
        "La búsqueda binaria es un método de búsqueda eficiente para listas ordenadas. Divide la lista en mitades, descarta la mitad en la que el objetivo no puede estar, y repite el proceso con la mitad restante.\n",
        "\n"
      ],
      "metadata": {
        "id": "kEys0kFsAZLB"
      }
    },
    {
      "cell_type": "markdown",
      "source": [
        "**Ejemplo de Búsqueda Binaria**"
      ],
      "metadata": {
        "id": "7IbMn_ekAiHB"
      }
    },
    {
      "cell_type": "code",
      "source": [
        "def busqueda_binaria(lista, objetivo):\n",
        "    bajo = 0\n",
        "    alto = len(lista) - 1\n",
        "    while bajo <= alto:\n",
        "        medio = (bajo + alto) // 2\n",
        "        if lista[medio] == objetivo:\n",
        "            return medio\n",
        "        elif lista[medio] < objetivo:\n",
        "            bajo = medio + 1\n",
        "        else:\n",
        "            alto = medio - 1\n",
        "    return -1  # Retorna -1 si no se encuentra el objetivo\n"
      ],
      "metadata": {
        "id": "fOGRemm0Almi"
      },
      "execution_count": null,
      "outputs": []
    },
    {
      "cell_type": "markdown",
      "source": [
        "**Ejercicios de Búsqueda Binaria**\n",
        "\n",
        "- 1. Implementa busqueda_binaria y pruébala en una lista ordenada de 1 millón de números. Compara el tiempo de ejecución con busqueda_lineal.\n",
        "\n",
        "- 2. Modifica busqueda_binaria para que retorne True si encuentra el objetivo y False si no lo encuentra.\n",
        "\n",
        "- 3. Crea una función que determine si un nombre está en una lista ordenada de nombres usando búsqueda binaria."
      ],
      "metadata": {
        "id": "FaIq6r_oAowv"
      }
    },
    {
      "cell_type": "code",
      "source": [],
      "metadata": {
        "id": "W7KvFLOQAzHT"
      },
      "execution_count": null,
      "outputs": []
    },
    {
      "cell_type": "markdown",
      "source": [
        "## 4. Comparación de Algoritmos de Eficiencia: Algoritmos de Ordenamiento"
      ],
      "metadata": {
        "id": "bweX0lXGAy47"
      }
    },
    {
      "cell_type": "markdown",
      "source": [
        "### 4.1 Ejemplo: Ordenamiento Burbuja\n",
        "\n",
        "El ordenamiento burbuja es un algoritmo de ordenamiento simple pero ineficiente. Compara elementos adyacentes y los intercambia si están en el orden incorrecto. Este proceso se repite hasta que la lista esté completamente ordenada.\n",
        "\n",
        "\n",
        "**Ventajas del Ordenamiento Burbuja**\n",
        "\n",
        "Es fácil de implementar y entender.\n",
        "Funciona bien en listas pequeñas o en listas que ya están casi ordenadas.\n",
        "\n",
        "**Desventajas del Ordenamiento Burbuja**\n",
        "\n",
        "Es ineficiente para listas largas debido a su complejidad de tiempo O(n^2), ya que necesita hacer muchas comparaciones y cambios.\n",
        "Generalmente es menos eficiente que otros algoritmos de ordenamiento como el Merge Sort."
      ],
      "metadata": {
        "id": "sL4a4l0qBrV3"
      }
    },
    {
      "cell_type": "markdown",
      "source": [
        "**Código de Ejemplo**"
      ],
      "metadata": {
        "id": "MQD9aJ3hB3ky"
      }
    },
    {
      "cell_type": "code",
      "source": [
        "def burbuja(arr):\n",
        "    n = len(arr)\n",
        "    for i in range(n):\n",
        "        for j in range(0, n - i - 1):\n",
        "            if arr[j] > arr[j + 1]:\n",
        "                arr[j], arr[j + 1] = arr[j + 1], arr[j]\n"
      ],
      "metadata": {
        "id": "smS9-56fB23s"
      },
      "execution_count": null,
      "outputs": []
    },
    {
      "cell_type": "markdown",
      "source": [
        "**Ejercicios de Ordenamiento Burbuja**\n",
        "\n",
        "- 1. Implementa burbuja() y pruébalo con una lista desordenada de 1,000 números.\n",
        "- 2. Modifica burbuja() para que también cuente el número de intercambios realizados durante el ordenamiento.\n",
        "- 3. Crea una función que genere listas desordenadas de distintos tamaños y mide el tiempo que toma burbuja() para ordenar cada una."
      ],
      "metadata": {
        "id": "EX3bx7vJB8tV"
      }
    },
    {
      "cell_type": "code",
      "source": [],
      "metadata": {
        "id": "_uYg3JeQCB8w"
      },
      "execution_count": null,
      "outputs": []
    },
    {
      "cell_type": "markdown",
      "source": [
        "### 4.2 Ejemplo: Merge Sort\n",
        "\n",
        "Merge Sort es un algoritmo de ordenamiento mucho más eficiente que burbuja en listas grandes. Usa un enfoque de \"divide y vencerás\", dividiendo la lista en dos mitades, ordenando cada mitad recursivamente y luego combinando (o \"mezclando\") las dos mitades ordenadas.\n",
        "\n",
        "**Ventajas del Merge Sort**\n",
        "\n",
        "Es mucho más eficiente que burbuja para listas grandes.\n",
        "Tiene una complejidad de O(n log n), lo que significa que es mucho más rápido que los algoritmos O(n^2) para listas grandes.\n",
        "Es un algoritmo estable, lo cual significa que mantiene el orden de los elementos iguales.\n",
        "\n",
        "**Desventajas del Merge Sort**\n",
        "\n",
        "Usa más espacio de memoria porque necesita almacenar las sublistas durante el proceso de ordenamiento.\n",
        "Puede ser más complejo de entender que el ordenamiento burbuja debido a su naturaleza recursiva y su enfoque de \"divide y vencerás\"."
      ],
      "metadata": {
        "id": "Xk8fpFPBCL5e"
      }
    },
    {
      "cell_type": "markdown",
      "source": [
        "**Código de Ejemplo**"
      ],
      "metadata": {
        "id": "XnBXlCxaCVVX"
      }
    },
    {
      "cell_type": "code",
      "source": [
        "def merge_sort(arr):\n",
        "    if len(arr) > 1:\n",
        "        medio = len(arr) // 2\n",
        "        izquierda = arr[:medio]\n",
        "        derecha = arr[medio:]\n",
        "        merge_sort(izquierda)\n",
        "        merge_sort(derecha)\n",
        "\n",
        "        i = j = k = 0\n",
        "        while i < len(izquierda) and j < len(derecha):\n",
        "            if izquierda[i] < derecha[j]:\n",
        "                arr[k] = izquierda[i]\n",
        "                i += 1\n",
        "            else:\n",
        "                arr[k] = derecha[j]\n",
        "                j += 1\n",
        "            k += 1\n",
        "\n",
        "        while i < len(izquierda):\n",
        "            arr[k] = izquierda[i]\n",
        "            i += 1\n",
        "            k += 1\n",
        "\n",
        "        while j < len(derecha):\n",
        "            arr[k] = derecha[j]\n",
        "            j += 1\n",
        "            k += 1\n"
      ],
      "metadata": {
        "id": "QRT3xc2JCTJj"
      },
      "execution_count": null,
      "outputs": []
    },
    {
      "cell_type": "markdown",
      "source": [
        "**Ejercicios de Merge Sort**\n",
        "\n",
        "- 1. Implementa merge_sort() y pruébalo con listas de tamaños 1,000, 10,000 y 100,000.\n",
        "- 2. Compara el rendimiento de merge_sort() y burbuja() en una lista de 10,000 elementos.\n",
        "- 3. Crea una función que use merge_sort() para ordenar una lista de palabras y verifica que están en orden alfabético."
      ],
      "metadata": {
        "id": "qDjSfv-3CboB"
      }
    },
    {
      "cell_type": "code",
      "source": [],
      "metadata": {
        "id": "VjZY5yRlCkIM"
      },
      "execution_count": null,
      "outputs": []
    },
    {
      "cell_type": "markdown",
      "source": [
        "## 5. Algoritmos Recursivos\n"
      ],
      "metadata": {
        "id": "ejxh_5TVCmHZ"
      }
    },
    {
      "cell_type": "markdown",
      "source": [
        "### 5.1 Concepto de Recursión\n",
        "\n",
        "La recursión es una técnica donde una función se llama a sí misma para resolver un problema. Es especialmente útil en problemas que pueden dividirse en partes más pequeñas, cada una de las cuales se parece al problema original. Sin embargo, la recursión debe tener cuidado con el \"caso base\" para evitar llamadas infinitas y posibles errores de pila."
      ],
      "metadata": {
        "id": "HI99QcbtCrkj"
      }
    },
    {
      "cell_type": "markdown",
      "source": [
        "**Ejemplo: Factorial de un Número**\n",
        "\n",
        "El factorial de un número n es el producto de todos los enteros positivos hasta n:\n",
        "\n",
        "n! = n * (n-1) * (n-2) * ... * 1\n",
        "En términos recursivos: n! = n * (n-1)!, con 0! = 1 como caso base."
      ],
      "metadata": {
        "id": "WG2Xg5xHCv-O"
      }
    },
    {
      "cell_type": "markdown",
      "source": [
        "**Versión Recursiva:**"
      ],
      "metadata": {
        "id": "t27U3zYZC1f4"
      }
    },
    {
      "cell_type": "code",
      "source": [
        "def factorial(n):\n",
        "    if n == 0:   # Caso base\n",
        "        return 1\n",
        "    else:\n",
        "        return n * factorial(n - 1)\n"
      ],
      "metadata": {
        "id": "XSX1mfYbCzLZ"
      },
      "execution_count": null,
      "outputs": []
    },
    {
      "cell_type": "markdown",
      "source": [
        "**Ejercicios sobre Recursión y Factorial**\n",
        "\n",
        "- 1. Calcula el factorial de 10, 20 y 50 usando la función recursiva y la iterativa.\n",
        "- 2. Implementa una versión iterativa del factorial sin usar bucles (for o while), solo recursión.\n",
        "- 3. Usa el factorial recursivo para encontrar el valor máximo de n antes de que la función falle con un error."
      ],
      "metadata": {
        "id": "Q6fuXsQHC8yF"
      }
    },
    {
      "cell_type": "code",
      "source": [],
      "metadata": {
        "id": "zUJ5IXy5C0jw"
      },
      "execution_count": null,
      "outputs": []
    },
    {
      "cell_type": "markdown",
      "source": [
        "### 5.2 Ejemplo Recursivo: Serie de Fibonacci\n",
        "\n",
        "La serie de Fibonacci es una secuencia donde cada número es la suma de los dos anteriores:\n",
        "\n",
        "F(0) = 0, F(1) = 1\n",
        "F(n) = F(n-1) + F(n-2) para n > 1"
      ],
      "metadata": {
        "id": "jZTj4P-0DHsw"
      }
    },
    {
      "cell_type": "markdown",
      "source": [
        "**Código Recursivo:**"
      ],
      "metadata": {
        "id": "pSiQiGE6DLmZ"
      }
    },
    {
      "cell_type": "code",
      "source": [
        "def fibonacci(n):\n",
        "    if n == 0:   # Caso base\n",
        "        return 0\n",
        "    elif n == 1: # Caso base\n",
        "        return 1\n",
        "    else:\n",
        "        return fibonacci(n - 1) + fibonacci(n - 2)\n"
      ],
      "metadata": {
        "id": "iuBtwxEwDOah"
      },
      "execution_count": null,
      "outputs": []
    },
    {
      "cell_type": "markdown",
      "source": [
        "**Problema de Eficiencia en Fibonacci Recursivo**\n",
        "\n",
        "La versión recursiva simple de Fibonacci es ineficiente (O(2^n)) porque recalcula valores ya conocidos. Esto se puede mejorar con memoización, que guarda los resultados de subproblemas para evitar cálculos redundantes."
      ],
      "metadata": {
        "id": "-CbiMvbUDQ7X"
      }
    },
    {
      "cell_type": "markdown",
      "source": [
        "**Versión con Memoización (Optimizada):**\n"
      ],
      "metadata": {
        "id": "pETlaYSiDUg8"
      }
    },
    {
      "cell_type": "code",
      "source": [
        "def fibonacci_memo(n, memo={}):\n",
        "    if n in memo:       # Verifica si el valor ya fue calculado\n",
        "        return memo[n]\n",
        "    if n == 0:\n",
        "        resultado = 0\n",
        "    elif n == 1:\n",
        "        resultado = 1\n",
        "    else:\n",
        "        resultado = fibonacci_memo(n - 1, memo) + fibonacci_memo(n - 2, memo)\n",
        "    memo[n] = resultado  # Guarda el resultado para uso futuro\n",
        "    return resultado\n"
      ],
      "metadata": {
        "id": "UmJ4zYoADYVk"
      },
      "execution_count": null,
      "outputs": []
    },
    {
      "cell_type": "markdown",
      "source": [
        "Memoización es una técnica de optimización que almacena los resultados de cálculos costosos o repetidos para evitar recomputarlos. En el contexto de funciones recursivas, se usa para acelerar el proceso al recordar los resultados de llamadas previas y reutilizarlos cuando se vuelven a necesitar.\n",
        "\n",
        "**¿Cómo Funciona la Memoización?**\n",
        "La memoización utiliza una estructura de datos (generalmente un diccionario) para almacenar los resultados de las llamadas a la función, con la entrada como clave y el resultado como valor. Así, cuando la función es llamada nuevamente con la misma entrada, en lugar de recalcular el resultado, simplemente devuelve el valor almacenado."
      ],
      "metadata": {
        "id": "6o9zUMViEHcU"
      }
    },
    {
      "cell_type": "markdown",
      "source": [
        "**Sin Memoización**\n",
        "La versión sin memoización recalcula cada número repetidamente, aumentando exponencialmente el tiempo de ejecución."
      ],
      "metadata": {
        "id": "O1UD0ufYEPFk"
      }
    },
    {
      "cell_type": "code",
      "source": [
        "def fibonacci(n):\n",
        "    if n == 0:\n",
        "        return 0\n",
        "    elif n == 1:\n",
        "        return 1\n",
        "    else:\n",
        "        return fibonacci(n - 1) + fibonacci(n - 2)\n"
      ],
      "metadata": {
        "id": "Y35PsYLxEOk0"
      },
      "execution_count": null,
      "outputs": []
    },
    {
      "cell_type": "markdown",
      "source": [
        "**Ventajas de la Memoización**\n",
        "\n",
        "La memoización reduce la complejidad de Fibonacci recursivo de O(2^n) a O(n).\n",
        "Esto demuestra cómo un enfoque de optimización simple puede mejorar drásticamente el rendimiento.\n"
      ],
      "metadata": {
        "id": "v3GZpe-8Dt8i"
      }
    },
    {
      "cell_type": "markdown",
      "source": [
        "**Ejercicio 5.2**\n",
        "\n",
        "- 1. Calcula el número de Fibonacci para n = 35, n = 50, y n = 100 usando ambas versiones (simple y con memoización).\n",
        "- 2. Compara el tiempo de ejecución y discute cómo la memoización mejora la eficiencia.\n",
        "- 3. Implementa una versión de Fibonacci usando programación dinámica en lugar de memoización.\n"
      ],
      "metadata": {
        "id": "Rfx8fCoOD1m5"
      }
    },
    {
      "cell_type": "code",
      "source": [],
      "metadata": {
        "id": "WknkfrrDD6hR"
      },
      "execution_count": null,
      "outputs": []
    },
    {
      "cell_type": "markdown",
      "source": [
        "**Ejercicios de Recursividad y Memoización**\n",
        "\n",
        "- 1. Suma de una Lista de Números: Escribe una función recursiva suma(lista) que reciba una lista de números y devuelva la suma de todos sus elementos. Usa memoización para almacenar la suma de sublistas y evita calcularla varias veces en el mismo proceso.\n",
        "\n",
        "- 2. Potencia Recursiva: Implementa una función recursiva potencia(base, exponente) que calcule base^exponente. Utiliza memoización para almacenar los resultados de cada cálculo parcial. Por ejemplo, si calculas 3^4, también deberías guardar el resultado de 3^2 y 3^3 en el proceso.\n",
        "\n",
        "- 3. Máximo Común Divisor (MCD): Escribe una función recursiva mcd(a, b) que calcule el máximo común divisor de dos números a y b utilizando el algoritmo de Euclides. Aplica memoización para almacenar resultados previos de mcd(a, b) para optimizar el cálculo en llamadas repetidas.\n",
        "\n",
        "- 4. Caminos en una Cuadrícula (Grid Paths): Dada una cuadrícula de n x m, escribe una función contar_caminos(n, m) que devuelva el número de formas de ir desde la esquina superior izquierda hasta la esquina inferior derecha, moviéndote solo hacia abajo o hacia la derecha. Utiliza memoización para almacenar los resultados de subproblemas y así evitar recálculos.\n",
        "\n",
        "- 5. Problema de la Mochila (Knapsack Problem): Dado un conjunto de pesos y valores de n elementos y una capacidad W de una mochila, escribe una función recursiva mochila(n, W) que maximice el valor de los elementos que pueden incluirse en la mochila sin superar la capacidad. Aplica memoización para almacenar los resultados de subproblemas y así reducir el número de cálculos.\n",
        "\n",
        "- 6. Número de Formas de Hacer Cambio (Coin Change): Escribe una función formas_cambio(monedas, monto) que calcule el número de formas de hacer cambio para una cantidad monto usando un conjunto de monedas de diferentes denominaciones. Usa memoización para almacenar resultados de subproblemas y reducir el número de cálculos.\n",
        "\n",
        "- 7. Contar Subconjuntos con Suma Dada: Dada una lista de números y un número objetivo S, escribe una función recursiva contar_subconjuntos(lista, S) que cuente el número de subconjuntos de lista cuya suma sea exactamente S. Utiliza memoización para almacenar los resultados de subproblemas y mejorar la eficiencia.\n",
        "\n",
        "- 8. Combinaciones de Escaleras: Dada una escalera con n escalones, el usuario puede subir 1, 2 o 3 escalones a la vez. Escribe una función contar_formas(n) que cuente el número de maneras de llegar a la cima de la escalera. Aplica memoización para evitar cálculos redundantes en subproblemas.\n",
        "\n",
        "- 9. Número de Formas de Dividir una Suma (Partition Sum): Dado un número entero n, escribe una función recursiva particiones(n, max_valor) que devuelva el número de formas de dividir n en una suma de números menores o iguales a max_valor. Utiliza"
      ],
      "metadata": {
        "id": "lzTDN-kOErEf"
      }
    },
    {
      "cell_type": "markdown",
      "source": [
        "---"
      ],
      "metadata": {
        "id": "EOW10t2h_omm"
      }
    },
    {
      "cell_type": "markdown",
      "source": [
        "## Conclusión del Laboratorio\n",
        "\n",
        "Este laboratorio proporciona una introducción a funciones, la base para trabajar con algoritmos recursivos y medir la eficiencia de los programas. A lo largo del laboratorio, has creado funciones que realizan tareas clave y evaluado cómo varían en eficiencia en diferentes escenarios."
      ],
      "metadata": {
        "id": "A41jdqaS_mtf"
      }
    },
    {
      "cell_type": "markdown",
      "source": [
        "---\n",
        "\n",
        "# Gracias por completar este laboratorio!\n",
        "\n",
        "---"
      ],
      "metadata": {
        "id": "7TG1VELS_r3t"
      }
    }
  ]
}