{
  "nbformat": 4,
  "nbformat_minor": 0,
  "metadata": {
    "colab": {
      "provenance": [],
      "authorship_tag": "ABX9TyP/Yo8lNYhQRjj5YhKZsGyD",
      "include_colab_link": true
    },
    "kernelspec": {
      "name": "python3",
      "display_name": "Python 3"
    },
    "language_info": {
      "name": "python"
    }
  },
  "cells": [
    {
      "cell_type": "markdown",
      "metadata": {
        "id": "view-in-github",
        "colab_type": "text"
      },
      "source": [
        "<a href=\"https://colab.research.google.com/github/JCaballerot/Python-Programming101/blob/main/01_Introduccion_a_Python/07_Manipulaci%C3%B3n_de_Datos_con_Pandas.ipynb\" target=\"_parent\"><img src=\"https://colab.research.google.com/assets/colab-badge.svg\" alt=\"Open In Colab\"/></a>"
      ]
    },
    {
      "cell_type": "markdown",
      "source": [
        "<img src=\"https://www.ctic.uni.edu.pe/wp-content/uploads/2022/04/588px-x-348px-web-1.png\" alt=\"HTML5 Icon\" width=\"900\" height=\"350\" >\n"
      ],
      "metadata": {
        "id": "MooD4hTm31Vt"
      }
    },
    {
      "cell_type": "markdown",
      "source": [
        "# **Manipulación de Datos con Pandas**\n"
      ],
      "metadata": {
        "id": "K-MCkYYK34P4"
      }
    },
    {
      "cell_type": "markdown",
      "source": [
        "**Objetivo**\n",
        "\n",
        "El objetivo de este laboratorio es capacitar al estudiante con las herramientas y técnicas esenciales para la manipulación de datos utilizando la biblioteca Pandas. Al final del laboratorio, el estudiante será capaz de realizar operaciones básicas y avanzadas en conjuntos de datos, combinarlos, agruparlos y extraer información útil para el análisis."
      ],
      "metadata": {
        "id": "2Z33Wodp3-tN"
      }
    },
    {
      "cell_type": "markdown",
      "source": [
        "**Contenido**\n",
        "\n",
        "1. <a href=\"#item31\">Introducción a Pandas</a>\n",
        "2. <a href=\"#item31\">Operaciones Básicas con DataFrames</a>\n",
        "3. <a href=\"#item31\">Combinación de Datasets</a>\n",
        "4. <a href=\"#item31\">Agregación y Agrupamiento</a>\n",
        "\n",
        "</font>\n",
        "</div>\n",
        "\n",
        "\n",
        "---"
      ],
      "metadata": {
        "id": "JAUjYHXh4eON"
      }
    },
    {
      "cell_type": "markdown",
      "source": [
        "# 1. Introducción a Pandas\n"
      ],
      "metadata": {
        "id": "p9LzdD-M446H"
      }
    },
    {
      "cell_type": "markdown",
      "source": [
        "\n",
        "## 1.1. ¿Qué es Pandas?\n",
        "\n",
        "Pandas es una biblioteca de código abierto para el lenguaje de programación Python, que proporciona estructuras de datos y herramientas de análisis de datos de alto rendimiento y fáciles de usar. Es fundamental en el campo de la ciencia de datos y el análisis de datos.\n",
        "\n",
        "**Características clave de Pandas:**\n",
        "\n",
        "- Estructuras de datos flexibles: Series y DataFrames para datos unidimensionales y bidimensionales.\n",
        "- Indexación potente: Permite acceso y manipulación eficientes de datos.\n",
        "- Herramientas de limpieza y preparación de datos: Funciones para manejar datos faltantes, duplicados, y más.\n",
        "- Integración con otras bibliotecas: Se complementa bien con NumPy, Matplotlib, y otras.\n",
        "\n"
      ],
      "metadata": {
        "id": "2AfaDLwL49W9"
      }
    },
    {
      "cell_type": "markdown",
      "source": [
        "## 1.2. Estructuras de datos en Pandas\n",
        "\n",
        "**Series:** Estructura unidimensional similar a una columna en una tabla."
      ],
      "metadata": {
        "id": "8hccIM5E4_-l"
      }
    },
    {
      "cell_type": "code",
      "execution_count": null,
      "metadata": {
        "id": "ftltg7vH3sHu"
      },
      "outputs": [],
      "source": [
        "import pandas as pd\n",
        "\n",
        "# Crear una Serie\n",
        "s = pd.Series([1, 3, 5, 7, 9])\n",
        "print(s)\n"
      ]
    },
    {
      "cell_type": "markdown",
      "source": [
        "**DataFrame:** Estructura bidimensional, similar a una hoja de cálculo con filas y columnas.\n"
      ],
      "metadata": {
        "id": "v-rWiF3V5Og_"
      }
    },
    {
      "cell_type": "code",
      "source": [
        "# Crear un DataFrame\n",
        "data = {\n",
        "    'Nombre': ['Ana', 'Luis', 'Carlos'],\n",
        "    'Edad': [23, 45, 34],\n",
        "    'Ciudad': ['Madrid', 'Barcelona', 'Valencia']\n",
        "}\n",
        "\n",
        "df = pd.DataFrame(data)\n",
        "print(df)\n"
      ],
      "metadata": {
        "id": "W33pvkFQ5RqT"
      },
      "execution_count": null,
      "outputs": []
    },
    {
      "cell_type": "markdown",
      "source": [
        "## 1.3. Importación y exploración inicial de datos\n",
        "\n",
        "Importar datos desde un archivo CSV:\n"
      ],
      "metadata": {
        "id": "4zHIp6Za5UDJ"
      }
    },
    {
      "cell_type": "code",
      "source": [
        "# archivo 'datos.csv'\n",
        "df = pd.read_csv('datos.csv')\n"
      ],
      "metadata": {
        "id": "A3S15dqV5ZJk"
      },
      "execution_count": null,
      "outputs": []
    },
    {
      "cell_type": "markdown",
      "source": [
        "**Exploración inicial:**\n",
        "\n",
        "Ver las primeras filas:"
      ],
      "metadata": {
        "id": "-vZMoYww5ct-"
      }
    },
    {
      "cell_type": "code",
      "source": [
        "print(df.head())  # Muestra las primeras 5 filas"
      ],
      "metadata": {
        "id": "5x58Hu3c5fli"
      },
      "execution_count": null,
      "outputs": []
    },
    {
      "cell_type": "markdown",
      "source": [
        "Resumen de información:"
      ],
      "metadata": {
        "id": "AStQhat35h9m"
      }
    },
    {
      "cell_type": "code",
      "source": [
        "print(df.info())  # Información sobre tipos de datos y valores nulos"
      ],
      "metadata": {
        "id": "-in4Jvn65kbx"
      },
      "execution_count": null,
      "outputs": []
    },
    {
      "cell_type": "markdown",
      "source": [
        "Estadísticas descriptivas:"
      ],
      "metadata": {
        "id": "6f22Ad5g5mek"
      }
    },
    {
      "cell_type": "code",
      "source": [
        "print(df.describe())  # Estadísticas básicas de las columnas numéricas"
      ],
      "metadata": {
        "id": "ktC5S5uR5orp"
      },
      "execution_count": null,
      "outputs": []
    },
    {
      "cell_type": "markdown",
      "source": [
        "##2. Operaciones Básicas con DataFrames\n",
        "\n"
      ],
      "metadata": {
        "id": "8VIXzKs15rU1"
      }
    },
    {
      "cell_type": "markdown",
      "source": [
        "###2.1. Acceso a datos\n",
        "\n",
        "**Conceptos clave:**\n",
        "\n",
        "- Acceso a columnas y filas.\n",
        "- Uso de loc (basado en etiquetas) y iloc (basado en posiciones).\n"
      ],
      "metadata": {
        "id": "M5IIdie45wEc"
      }
    },
    {
      "cell_type": "markdown",
      "source": [
        "**Ejemplo:**"
      ],
      "metadata": {
        "id": "PCk-sby55zWx"
      }
    },
    {
      "cell_type": "code",
      "source": [
        "import pandas as pd\n",
        "\n",
        "# Crear un DataFrame de ejemplo\n",
        "data = {\n",
        "    'Nombre': ['Ana', 'Luis', 'Carlos', 'María'],\n",
        "    'Edad': [23, 45, 34, 29],\n",
        "    'Ciudad': ['Madrid', 'Barcelona', 'Valencia', 'Sevilla']\n",
        "}\n",
        "\n",
        "df = pd.DataFrame(data)"
      ],
      "metadata": {
        "id": "F5h9uwuS52_I"
      },
      "execution_count": 1,
      "outputs": []
    },
    {
      "cell_type": "code",
      "source": [
        "# Acceder a una columna\n",
        "edades = df['Edad']\n",
        "print(\"Edades:\")\n",
        "print(edades)"
      ],
      "metadata": {
        "id": "Oyicx69t5595"
      },
      "execution_count": null,
      "outputs": []
    },
    {
      "cell_type": "code",
      "source": [
        "\n",
        "# Acceder a múltiples columnas\n",
        "nombre_ciudad = df[['Nombre', 'Ciudad']]\n",
        "print(\"\\nNombre y Ciudad:\")\n",
        "print(nombre_ciudad)"
      ],
      "metadata": {
        "id": "l0bmMjBn57Gb"
      },
      "execution_count": null,
      "outputs": []
    },
    {
      "cell_type": "code",
      "source": [
        "# Acceder a una fila por etiqueta\n",
        "fila_ana = df.loc[0]\n",
        "print(\"\\nFila de Ana:\")\n",
        "print(fila_ana)"
      ],
      "metadata": {
        "id": "F62ePJFh58PG"
      },
      "execution_count": null,
      "outputs": []
    },
    {
      "cell_type": "code",
      "source": [
        "# Acceder a una fila por posición\n",
        "fila_primera = df.iloc[0]\n",
        "print(\"\\nPrimera fila:\")\n",
        "print(fila_primera)\n"
      ],
      "metadata": {
        "id": "VSKqoSjP59VV"
      },
      "execution_count": null,
      "outputs": []
    },
    {
      "cell_type": "markdown",
      "source": [
        "### 2.2. Selección y filtrado\n",
        "\n",
        "Conceptos clave:\n",
        "\n",
        "- Filtrado condicional.\n",
        "- Uso de operadores lógicos (&, |, ~).\n",
        "\n",
        "**Ejemplo:**"
      ],
      "metadata": {
        "id": "H74mTOI161jO"
      }
    },
    {
      "cell_type": "code",
      "source": [
        "# Filtrar por condición\n",
        "mayores_30 = df[df['Edad'] > 30]\n",
        "print(\"\\nPersonas mayores de 30 años:\")\n",
        "print(mayores_30)"
      ],
      "metadata": {
        "id": "BrsIDIpq66iw"
      },
      "execution_count": null,
      "outputs": []
    },
    {
      "cell_type": "code",
      "source": [
        "# Filtrar por múltiples condiciones\n",
        "madrid_mayor_25 = df[(df['Ciudad'] == 'Madrid') & (df['Edad'] > 25)]\n",
        "print(\"\\nPersonas de Madrid mayores de 25 años:\")\n",
        "print(madrid_mayor_25)"
      ],
      "metadata": {
        "id": "kicBXdNJ6-bI"
      },
      "execution_count": null,
      "outputs": []
    },
    {
      "cell_type": "code",
      "source": [
        "# Uso de isin para múltiples valores\n",
        "ciudades = df[df['Ciudad'].isin(['Madrid', 'Valencia'])]\n",
        "print(\"\\nPersonas de Madrid o Valencia:\")\n",
        "print(ciudades)"
      ],
      "metadata": {
        "id": "AyXvZ-xz6_W0"
      },
      "execution_count": null,
      "outputs": []
    },
    {
      "cell_type": "markdown",
      "source": [
        "### 2.3. Ordenamiento de datos\n",
        "\n",
        "**Conceptos clave:**\n",
        "\n",
        "- Ordenar por una o varias columnas.\n",
        "- Orden ascendente (ascending=True) y descendente (ascending=False).\n",
        "\n",
        "**Ejemplo:**"
      ],
      "metadata": {
        "id": "rjTnmJa47Fj2"
      }
    },
    {
      "cell_type": "code",
      "source": [
        "# Ordenar por edad ascendente\n",
        "df_ordenado_edad = df.sort_values(by='Edad')\n",
        "print(\"\\nDataFrame ordenado por edad (ascendente):\")\n",
        "print(df_ordenado_edad)\n"
      ],
      "metadata": {
        "id": "VENmIp1_7NZ3"
      },
      "execution_count": null,
      "outputs": []
    },
    {
      "cell_type": "code",
      "source": [
        "\n",
        "# Ordenar por edad descendente\n",
        "df_ordenado_edad_desc = df.sort_values(by='Edad', ascending=False)\n",
        "print(\"\\nDataFrame ordenado por edad (descendente):\")\n",
        "print(df_ordenado_edad_desc)\n"
      ],
      "metadata": {
        "id": "ZBIC7-Qw7OW0"
      },
      "execution_count": null,
      "outputs": []
    },
    {
      "cell_type": "code",
      "source": [
        "\n",
        "# Ordenar por ciudad y luego por edad\n",
        "df_ordenado_ciudad_edad = df.sort_values(by=['Ciudad', 'Edad'])\n",
        "print(\"\\nDataFrame ordenado por ciudad y edad:\")\n",
        "print(df_ordenado_ciudad_edad)\n"
      ],
      "metadata": {
        "id": "IQdj36Rj7PPg"
      },
      "execution_count": null,
      "outputs": []
    },
    {
      "cell_type": "markdown",
      "source": [
        "### 2.4. Modificación y eliminación de datos\n",
        "\n",
        "**Conceptos clave:**\n",
        "\n",
        "- Añadir y modificar columnas.\n",
        "- Eliminar filas y columnas.\n",
        "\n",
        "**Ejemplo:**"
      ],
      "metadata": {
        "id": "UkmhJrvp7S8j"
      }
    },
    {
      "cell_type": "code",
      "source": [
        "# Añadir una nueva columna\n",
        "df['Puntaje'] = [88, 92, 79, 85]\n",
        "print(\"\\nDataFrame con nueva columna 'Puntaje':\")\n",
        "print(df)\n"
      ],
      "metadata": {
        "id": "4bNfCTjx7X13"
      },
      "execution_count": null,
      "outputs": []
    },
    {
      "cell_type": "code",
      "source": [
        "# Modificar valores\n",
        "df.loc[df['Nombre'] == 'Ana', 'Edad'] = 24\n",
        "print(\"\\nDataFrame después de modificar la edad de Ana:\")\n",
        "print(df)\n"
      ],
      "metadata": {
        "id": "Uqg9xsGg7ZRG"
      },
      "execution_count": null,
      "outputs": []
    },
    {
      "cell_type": "code",
      "source": [
        "# Eliminar una columna\n",
        "df_sin_puntaje = df.drop('Puntaje', axis=1)\n",
        "print(\"\\nDataFrame sin la columna 'Puntaje':\")\n",
        "print(df_sin_puntaje)\n"
      ],
      "metadata": {
        "id": "lJpSFHdJ7aOO"
      },
      "execution_count": null,
      "outputs": []
    },
    {
      "cell_type": "code",
      "source": [
        "# Eliminar una fila\n",
        "df_sin_fila = df.drop(2)  # Eliminar la fila con índice 2\n",
        "print(\"\\nDataFrame sin la fila de Carlos:\")\n",
        "print(df_sin_fila)"
      ],
      "metadata": {
        "id": "flaQ2ZFr7bCz"
      },
      "execution_count": null,
      "outputs": []
    },
    {
      "cell_type": "markdown",
      "source": [
        "### 2.5. Manejo de datos faltantes\n",
        "\n",
        "**Conceptos clave:**\n",
        "\n",
        "- Identificar y tratar valores nulos (NaN).\n",
        "- Métodos para eliminar o imputar datos faltantes.\n",
        "\n",
        "**Ejemplo:**"
      ],
      "metadata": {
        "id": "I1v54W0k7oBY"
      }
    },
    {
      "cell_type": "code",
      "source": [
        "# Introducir valores faltantes\n",
        "df_con_nan = df.copy()\n",
        "df_con_nan.loc[1, 'Edad'] = None\n",
        "print(\"\\nDataFrame con valor faltante:\")\n",
        "print(df_con_nan)\n"
      ],
      "metadata": {
        "id": "en6ahIvQ7u1u"
      },
      "execution_count": null,
      "outputs": []
    },
    {
      "cell_type": "code",
      "source": [
        "# Identificar valores faltantes\n",
        "print(\"\\nValores faltantes en 'Edad':\")\n",
        "print(df_con_nan['Edad'].isnull())"
      ],
      "metadata": {
        "id": "b82Xl5Qu7zG1"
      },
      "execution_count": null,
      "outputs": []
    },
    {
      "cell_type": "code",
      "source": [
        "\n",
        "# Eliminar filas con valores faltantes\n",
        "df_sin_nan = df_con_nan.dropna()\n",
        "print(\"\\nDataFrame sin filas con valores faltantes:\")\n",
        "print(df_sin_nan)"
      ],
      "metadata": {
        "id": "OG2qqlSI70A6"
      },
      "execution_count": null,
      "outputs": []
    },
    {
      "cell_type": "code",
      "source": [
        "# Imputar valores faltantes\n",
        "df_imputado = df_con_nan.fillna({'Edad': df_con_nan['Edad'].mean()})\n",
        "print(\"\\nDataFrame con valores faltantes imputados:\")\n",
        "print(df_imputado)\n"
      ],
      "metadata": {
        "id": "t1-8pNwx7025"
      },
      "execution_count": null,
      "outputs": []
    },
    {
      "cell_type": "markdown",
      "source": [
        "###2.6. Tamaño y resumen de datos\n",
        "\n",
        "**Conceptos clave:**\n",
        "\n",
        "- Obtener el número de filas y columnas.\n",
        "- Resumen estadístico de los datos.\n",
        "\n",
        "**Ejemplo:**"
      ],
      "metadata": {
        "id": "-pwGWfnV7_ta"
      }
    },
    {
      "cell_type": "code",
      "source": [
        "# Obtener el número de filas y columnas\n",
        "filas, columnas = df.shape\n",
        "print(f\"\\nEl DataFrame tiene {filas} filas y {columnas} columnas.\")\n"
      ],
      "metadata": {
        "id": "8X5Fi45I8FLg"
      },
      "execution_count": null,
      "outputs": []
    },
    {
      "cell_type": "code",
      "source": [
        "\n",
        "# Listar las columnas\n",
        "print(\"\\nColumnas del DataFrame:\")\n",
        "print(df.columns)"
      ],
      "metadata": {
        "id": "sMkyQIwR8GKv"
      },
      "execution_count": null,
      "outputs": []
    },
    {
      "cell_type": "code",
      "source": [
        "# Resumen estadístico\n",
        "print(\"\\nResumen estadístico:\")\n",
        "print(df.describe())"
      ],
      "metadata": {
        "id": "uSbMCV0v8HTD"
      },
      "execution_count": null,
      "outputs": []
    },
    {
      "cell_type": "markdown",
      "source": [
        "### 2.7. Ejercicios\n"
      ],
      "metadata": {
        "id": "puCi0ULr8YgK"
      }
    },
    {
      "cell_type": "markdown",
      "source": [
        "\n",
        "**Ejercicio 1**\n",
        "\n",
        "Crea un DataFrame con la siguiente información:\n",
        "\n",
        "- Nombre: 'Juan', 'Laura', 'Pedro', 'Carmen', 'Luis'\n",
        "- Departamento: 'Ventas', 'Marketing', 'Ventas', 'Finanzas', 'Marketing'\n",
        "- Salario: 50000, 60000, 55000, 65000, 62000\n",
        "\n",
        "Tareas:\n",
        "\n",
        "- Accede a la columna de salarios.\n",
        "- Filtra los empleados del departamento de 'Marketing'.\n",
        "- Ordena el DataFrame por salario de manera descendente.\n",
        "- Añade una nueva columna 'Bono' que sea el 10% del salario.\n",
        "- Calcula el salario total (salario + bono) y añade una columna 'SalarioTotal'.\n"
      ],
      "metadata": {
        "id": "9OLcT4GN8N9Z"
      }
    },
    {
      "cell_type": "code",
      "source": [],
      "metadata": {
        "id": "zhsxiDbY8V_n"
      },
      "execution_count": null,
      "outputs": []
    },
    {
      "cell_type": "markdown",
      "source": [
        "**Ejercicio 2**\n",
        "\n",
        "Utilizando el DataFrame del ejercicio anterior:\n",
        "\n",
        "- Modifica el salario de 'Juan' a 52000.\n",
        "- Elimina el empleado 'Pedro' del DataFrame.\n",
        "- Identifica si hay datos faltantes en el DataFrame.\n",
        "- Si hay datos faltantes, imputa con el valor promedio de la columna correspondiente.\n",
        "\n",
        "\n"
      ],
      "metadata": {
        "id": "qoYgZBXr8WVp"
      }
    },
    {
      "cell_type": "code",
      "source": [],
      "metadata": {
        "id": "vIA6-xCb8fAx"
      },
      "execution_count": null,
      "outputs": []
    },
    {
      "cell_type": "markdown",
      "source": [
        "**Ejercicio 3**\n",
        "\n",
        "Crea un DataFrame con datos de ventas:\n",
        "\n",
        "- Producto: 'Producto A', 'Producto B', 'Producto C', 'Producto D'\n",
        "- Ventas Enero: 150, 200, 140, 170\n",
        "- Ventas Febrero: 180, None, 160, 190\n",
        "\n",
        "Tareas:\n",
        "\n",
        "- Calcula el total de ventas por producto sumando 'Ventas Enero' y 'Ventas Febrero'.\n",
        "- Identifica los productos con datos faltantes en 'Ventas Febrero'.\n",
        "- Imputa los valores faltantes con el promedio de 'Ventas Febrero'.\n",
        "- Ordena el DataFrame por total de ventas de manera ascendente."
      ],
      "metadata": {
        "id": "ml6_UKpX8fYu"
      }
    },
    {
      "cell_type": "code",
      "source": [],
      "metadata": {
        "id": "rHbiYSor8kuH"
      },
      "execution_count": null,
      "outputs": []
    },
    {
      "cell_type": "markdown",
      "source": [
        "---\n",
        "\n",
        "# Gracias por completar este laboratorio!\n",
        "\n",
        "---"
      ],
      "metadata": {
        "id": "ggeSQ8Uw8vVR"
      }
    }
  ]
}