{
  "nbformat": 4,
  "nbformat_minor": 0,
  "metadata": {
    "colab": {
      "provenance": [],
      "include_colab_link": true
    },
    "kernelspec": {
      "name": "python3",
      "display_name": "Python 3"
    },
    "language_info": {
      "name": "python"
    }
  },
  "cells": [
    {
      "cell_type": "markdown",
      "metadata": {
        "id": "view-in-github",
        "colab_type": "text"
      },
      "source": [
        "<a href=\"https://colab.research.google.com/github/hvu88/Programacion_101/blob/Parte2/01_Introduccion_a_Python/07_Manipulaci%C3%B3n_de_Datos_con_Pandas.ipynb\" target=\"_parent\"><img src=\"https://colab.research.google.com/assets/colab-badge.svg\" alt=\"Open In Colab\"/></a>"
      ]
    },
    {
      "cell_type": "markdown",
      "source": [
        "<img src=\"https://www.ctic.uni.edu.pe/wp-content/uploads/2022/04/588px-x-348px-web-1.png\" alt=\"HTML5 Icon\" width=\"900\" height=\"350\" >\n"
      ],
      "metadata": {
        "id": "MooD4hTm31Vt"
      }
    },
    {
      "cell_type": "markdown",
      "source": [
        "# **Manipulación de Datos con Pandas**\n"
      ],
      "metadata": {
        "id": "K-MCkYYK34P4"
      }
    },
    {
      "cell_type": "markdown",
      "source": [
        "**Objetivo**\n",
        "\n",
        "El objetivo de este laboratorio es capacitar al estudiante con las herramientas y técnicas esenciales para la manipulación de datos utilizando la biblioteca Pandas. Al final del laboratorio, el estudiante será capaz de realizar operaciones básicas y avanzadas en conjuntos de datos, combinarlos, agruparlos y extraer información útil para el análisis."
      ],
      "metadata": {
        "id": "2Z33Wodp3-tN"
      }
    },
    {
      "cell_type": "markdown",
      "source": [
        "**Contenido**\n",
        "\n",
        "1. <a href=\"#item31\">Introducción a Pandas</a>\n",
        "2. <a href=\"#item31\">Operaciones Básicas con DataFrames</a>\n",
        "3. <a href=\"#item31\">Combinación de Datasets</a>\n",
        "4. <a href=\"#item31\">Agregación y Agrupamiento</a>\n",
        "\n",
        "</font>\n",
        "</div>\n",
        "\n",
        "\n",
        "---"
      ],
      "metadata": {
        "id": "JAUjYHXh4eON"
      }
    },
    {
      "cell_type": "markdown",
      "source": [
        "# 1. Introducción a Pandas\n"
      ],
      "metadata": {
        "id": "p9LzdD-M446H"
      }
    },
    {
      "cell_type": "markdown",
      "source": [
        "\n",
        "## 1.1. ¿Qué es Pandas?\n",
        "\n",
        "Pandas es una biblioteca de código abierto para el lenguaje de programación Python, que proporciona estructuras de datos y herramientas de análisis de datos de alto rendimiento y fáciles de usar. Es fundamental en el campo de la ciencia de datos y el análisis de datos.\n",
        "\n",
        "**Características clave de Pandas:**\n",
        "\n",
        "- Estructuras de datos flexibles: Series y DataFrames para datos unidimensionales y bidimensionales.\n",
        "- Indexación potente: Permite acceso y manipulación eficientes de datos.\n",
        "- Herramientas de limpieza y preparación de datos: Funciones para manejar datos faltantes, duplicados, y más.\n",
        "- Integración con otras bibliotecas: Se complementa bien con NumPy, Matplotlib, y otras.\n",
        "\n"
      ],
      "metadata": {
        "id": "2AfaDLwL49W9"
      }
    },
    {
      "cell_type": "markdown",
      "source": [
        "## 1.2. Estructuras de datos en Pandas\n",
        "\n",
        "**Series:** Estructura unidimensional similar a una columna en una tabla."
      ],
      "metadata": {
        "id": "8hccIM5E4_-l"
      }
    },
    {
      "cell_type": "code",
      "execution_count": 1,
      "metadata": {
        "id": "ftltg7vH3sHu",
        "colab": {
          "base_uri": "https://localhost:8080/"
        },
        "outputId": "867a96d3-89b8-415c-ca13-b8ec1a855572"
      },
      "outputs": [
        {
          "output_type": "stream",
          "name": "stdout",
          "text": [
            "0    1\n",
            "1    3\n",
            "2    5\n",
            "3    7\n",
            "4    9\n",
            "dtype: int64\n"
          ]
        }
      ],
      "source": [
        "import pandas as pd\n",
        "\n",
        "# Crear una Serie\n",
        "s = pd.Series([1, 3, 5, 7, 9])\n",
        "print(s)\n"
      ]
    },
    {
      "cell_type": "markdown",
      "source": [
        "**DataFrame:** Estructura bidimensional, similar a una hoja de cálculo con filas y columnas.\n"
      ],
      "metadata": {
        "id": "v-rWiF3V5Og_"
      }
    },
    {
      "cell_type": "code",
      "source": [
        "# Crear un DataFrame\n",
        "data = {\n",
        "    'Nombre': ['Ana', 'Luis', 'Carlos','Jose','Miguel','Pedro'],\n",
        "    'Edad': [23, 45, 34,23,44,54],\n",
        "    'Ciudad': ['Madrid', 'Barcelona', 'Valencia', 'Lima', 'Trujillo','Paris']\n",
        "}\n",
        "\n",
        "df = pd.DataFrame(data)\n",
        "print(df)\n",
        "\n",
        "# Guardar el DataFrame en un archivo CSV\n",
        "df.to_csv('datos.csv', index=False)  # index=False para no guardar el índice\n",
        "\n",
        "print(\"Archivo 'datos.csv' guardado correctamente.\")\n"
      ],
      "metadata": {
        "id": "W33pvkFQ5RqT",
        "colab": {
          "base_uri": "https://localhost:8080/"
        },
        "outputId": "9d72474e-53c0-4c4d-9a9f-6d7b7e2e20b2"
      },
      "execution_count": 44,
      "outputs": [
        {
          "output_type": "stream",
          "name": "stdout",
          "text": [
            "   Nombre  Edad     Ciudad\n",
            "0     Ana    23     Madrid\n",
            "1    Luis    45  Barcelona\n",
            "2  Carlos    34   Valencia\n",
            "3    Jose    23       Lima\n",
            "4  Miguel    44   Trujillo\n",
            "5   Pedro    54      Paris\n",
            "Archivo 'datos.csv' guardado correctamente.\n"
          ]
        }
      ]
    },
    {
      "cell_type": "markdown",
      "source": [
        "## 1.3. Importación y exploración inicial de datos\n",
        "\n",
        "Importar datos desde un archivo CSV:\n"
      ],
      "metadata": {
        "id": "4zHIp6Za5UDJ"
      }
    },
    {
      "cell_type": "code",
      "source": [
        "# archivo 'datos.csv'\n",
        "df = pd.read_csv('titanic.csv')\n"
      ],
      "metadata": {
        "id": "A3S15dqV5ZJk"
      },
      "execution_count": 26,
      "outputs": []
    },
    {
      "cell_type": "markdown",
      "source": [
        "**Exploración inicial:**\n",
        "\n",
        "Ver las primeras filas:"
      ],
      "metadata": {
        "id": "-vZMoYww5ct-"
      }
    },
    {
      "cell_type": "code",
      "source": [
        "print(df.head())  # Muestra las primeras 5 filas"
      ],
      "metadata": {
        "id": "5x58Hu3c5fli",
        "colab": {
          "base_uri": "https://localhost:8080/"
        },
        "outputId": "6a55736b-e291-4825-dac4-f49a72147dea"
      },
      "execution_count": 27,
      "outputs": [
        {
          "output_type": "stream",
          "name": "stdout",
          "text": [
            "   PassengerId  Survived  Pclass  \\\n",
            "0            1         0       3   \n",
            "1            2         1       1   \n",
            "2            3         1       3   \n",
            "3            4         1       1   \n",
            "4            5         0       3   \n",
            "\n",
            "                                                Name     Sex   Age  SibSp  \\\n",
            "0                            Braund, Mr. Owen Harris    male  22.0      1   \n",
            "1  Cumings, Mrs. John Bradley (Florence Briggs Th...  female  38.0      1   \n",
            "2                             Heikkinen, Miss. Laina  female  26.0      0   \n",
            "3       Futrelle, Mrs. Jacques Heath (Lily May Peel)  female  35.0      1   \n",
            "4                           Allen, Mr. William Henry    male  35.0      0   \n",
            "\n",
            "   Parch            Ticket     Fare Cabin Embarked  \n",
            "0      0         A/5 21171   7.2500   NaN        S  \n",
            "1      0          PC 17599  71.2833   C85        C  \n",
            "2      0  STON/O2. 3101282   7.9250   NaN        S  \n",
            "3      0            113803  53.1000  C123        S  \n",
            "4      0            373450   8.0500   NaN        S  \n"
          ]
        }
      ]
    },
    {
      "cell_type": "markdown",
      "source": [
        "Resumen de información:"
      ],
      "metadata": {
        "id": "AStQhat35h9m"
      }
    },
    {
      "cell_type": "code",
      "source": [
        "print(df.info())  # Información sobre tipos de datos y valores nulos"
      ],
      "metadata": {
        "id": "-in4Jvn65kbx",
        "colab": {
          "base_uri": "https://localhost:8080/"
        },
        "outputId": "d51bb5ae-5e57-4d5a-a48b-5ecf21468aa2"
      },
      "execution_count": 29,
      "outputs": [
        {
          "output_type": "stream",
          "name": "stdout",
          "text": [
            "<class 'pandas.core.frame.DataFrame'>\n",
            "RangeIndex: 891 entries, 0 to 890\n",
            "Data columns (total 12 columns):\n",
            " #   Column       Non-Null Count  Dtype  \n",
            "---  ------       --------------  -----  \n",
            " 0   PassengerId  891 non-null    int64  \n",
            " 1   Survived     891 non-null    int64  \n",
            " 2   Pclass       891 non-null    int64  \n",
            " 3   Name         891 non-null    object \n",
            " 4   Sex          891 non-null    object \n",
            " 5   Age          714 non-null    float64\n",
            " 6   SibSp        891 non-null    int64  \n",
            " 7   Parch        891 non-null    int64  \n",
            " 8   Ticket       891 non-null    object \n",
            " 9   Fare         891 non-null    float64\n",
            " 10  Cabin        204 non-null    object \n",
            " 11  Embarked     889 non-null    object \n",
            "dtypes: float64(2), int64(5), object(5)\n",
            "memory usage: 83.7+ KB\n",
            "None\n"
          ]
        }
      ]
    },
    {
      "cell_type": "markdown",
      "source": [
        "Estadísticas descriptivas:"
      ],
      "metadata": {
        "id": "6f22Ad5g5mek"
      }
    },
    {
      "cell_type": "code",
      "source": [
        "print(df.describe(percentiles=[0.1,0.9]))  # Estadísticas básicas de las columnas numéricas"
      ],
      "metadata": {
        "colab": {
          "base_uri": "https://localhost:8080/"
        },
        "id": "oS5dRnNzu5UJ",
        "outputId": "67a709bf-0589-4e04-ed35-db9414a1f563"
      },
      "execution_count": 34,
      "outputs": [
        {
          "output_type": "stream",
          "name": "stdout",
          "text": [
            "       PassengerId    Survived      Pclass         Age       SibSp  \\\n",
            "count   891.000000  891.000000  891.000000  714.000000  891.000000   \n",
            "mean    446.000000    0.383838    2.308642   29.699118    0.523008   \n",
            "std     257.353842    0.486592    0.836071   14.526497    1.102743   \n",
            "min       1.000000    0.000000    1.000000    0.420000    0.000000   \n",
            "10%      90.000000    0.000000    1.000000   14.000000    0.000000   \n",
            "50%     446.000000    0.000000    3.000000   28.000000    0.000000   \n",
            "90%     802.000000    1.000000    3.000000   50.000000    1.000000   \n",
            "max     891.000000    1.000000    3.000000   80.000000    8.000000   \n",
            "\n",
            "            Parch        Fare  \n",
            "count  891.000000  891.000000  \n",
            "mean     0.381594   32.204208  \n",
            "std      0.806057   49.693429  \n",
            "min      0.000000    0.000000  \n",
            "10%      0.000000    7.550000  \n",
            "50%      0.000000   14.454200  \n",
            "90%      2.000000   77.958300  \n",
            "max      6.000000  512.329200  \n"
          ]
        }
      ]
    },
    {
      "cell_type": "code",
      "source": [
        "# @title Texto de título predeterminado\n",
        "print(df.describe())  # Estadísticas básicas de las columnas numéricas"
      ],
      "metadata": {
        "cellView": "form",
        "colab": {
          "base_uri": "https://localhost:8080/"
        },
        "id": "Pn-iERFfuyIT",
        "outputId": "a02a87d4-bf5f-43ca-a6fe-5e12b3d69849"
      },
      "execution_count": 31,
      "outputs": [
        {
          "output_type": "stream",
          "name": "stdout",
          "text": [
            "       PassengerId    Survived      Pclass         Age       SibSp  \\\n",
            "count   891.000000  891.000000  891.000000  714.000000  891.000000   \n",
            "mean    446.000000    0.383838    2.308642   29.699118    0.523008   \n",
            "std     257.353842    0.486592    0.836071   14.526497    1.102743   \n",
            "min       1.000000    0.000000    1.000000    0.420000    0.000000   \n",
            "25%     223.500000    0.000000    2.000000   20.125000    0.000000   \n",
            "50%     446.000000    0.000000    3.000000   28.000000    0.000000   \n",
            "75%     668.500000    1.000000    3.000000   38.000000    1.000000   \n",
            "max     891.000000    1.000000    3.000000   80.000000    8.000000   \n",
            "\n",
            "            Parch        Fare  \n",
            "count  891.000000  891.000000  \n",
            "mean     0.381594   32.204208  \n",
            "std      0.806057   49.693429  \n",
            "min      0.000000    0.000000  \n",
            "25%      0.000000    7.910400  \n",
            "50%      0.000000   14.454200  \n",
            "75%      0.000000   31.000000  \n",
            "max      6.000000  512.329200  \n"
          ]
        }
      ]
    },
    {
      "cell_type": "code",
      "source": [
        "df.shape"
      ],
      "metadata": {
        "colab": {
          "base_uri": "https://localhost:8080/"
        },
        "id": "HrO--mQTwBcw",
        "outputId": "717abae7-dbab-4c8d-bb5d-6350c12358ba"
      },
      "execution_count": 36,
      "outputs": [
        {
          "output_type": "execute_result",
          "data": {
            "text/plain": [
              "(891, 12)"
            ]
          },
          "metadata": {},
          "execution_count": 36
        }
      ]
    },
    {
      "cell_type": "code",
      "source": [
        "len(df)"
      ],
      "metadata": {
        "colab": {
          "base_uri": "https://localhost:8080/"
        },
        "id": "WorbNUcQwFz5",
        "outputId": "5a4dbf8a-7b53-46e4-c8a4-81c97dbebb51"
      },
      "execution_count": 38,
      "outputs": [
        {
          "output_type": "execute_result",
          "data": {
            "text/plain": [
              "891"
            ]
          },
          "metadata": {},
          "execution_count": 38
        }
      ]
    },
    {
      "cell_type": "code",
      "source": [
        "df.columns.to_frame()"
      ],
      "metadata": {
        "colab": {
          "base_uri": "https://localhost:8080/",
          "height": 143
        },
        "id": "nRpM8gztwL_I",
        "outputId": "d84f0675-95da-42e7-ecdf-aa08cd08c12d"
      },
      "execution_count": 46,
      "outputs": [
        {
          "output_type": "execute_result",
          "data": {
            "text/plain": [
              "             0\n",
              "Nombre  Nombre\n",
              "Edad      Edad\n",
              "Ciudad  Ciudad"
            ],
            "text/html": [
              "\n",
              "  <div id=\"df-f74bbc40-cf43-4915-9147-8df303c811a6\" class=\"colab-df-container\">\n",
              "    <div>\n",
              "<style scoped>\n",
              "    .dataframe tbody tr th:only-of-type {\n",
              "        vertical-align: middle;\n",
              "    }\n",
              "\n",
              "    .dataframe tbody tr th {\n",
              "        vertical-align: top;\n",
              "    }\n",
              "\n",
              "    .dataframe thead th {\n",
              "        text-align: right;\n",
              "    }\n",
              "</style>\n",
              "<table border=\"1\" class=\"dataframe\">\n",
              "  <thead>\n",
              "    <tr style=\"text-align: right;\">\n",
              "      <th></th>\n",
              "      <th>0</th>\n",
              "    </tr>\n",
              "  </thead>\n",
              "  <tbody>\n",
              "    <tr>\n",
              "      <th>Nombre</th>\n",
              "      <td>Nombre</td>\n",
              "    </tr>\n",
              "    <tr>\n",
              "      <th>Edad</th>\n",
              "      <td>Edad</td>\n",
              "    </tr>\n",
              "    <tr>\n",
              "      <th>Ciudad</th>\n",
              "      <td>Ciudad</td>\n",
              "    </tr>\n",
              "  </tbody>\n",
              "</table>\n",
              "</div>\n",
              "    <div class=\"colab-df-buttons\">\n",
              "\n",
              "  <div class=\"colab-df-container\">\n",
              "    <button class=\"colab-df-convert\" onclick=\"convertToInteractive('df-f74bbc40-cf43-4915-9147-8df303c811a6')\"\n",
              "            title=\"Convert this dataframe to an interactive table.\"\n",
              "            style=\"display:none;\">\n",
              "\n",
              "  <svg xmlns=\"http://www.w3.org/2000/svg\" height=\"24px\" viewBox=\"0 -960 960 960\">\n",
              "    <path d=\"M120-120v-720h720v720H120Zm60-500h600v-160H180v160Zm220 220h160v-160H400v160Zm0 220h160v-160H400v160ZM180-400h160v-160H180v160Zm440 0h160v-160H620v160ZM180-180h160v-160H180v160Zm440 0h160v-160H620v160Z\"/>\n",
              "  </svg>\n",
              "    </button>\n",
              "\n",
              "  <style>\n",
              "    .colab-df-container {\n",
              "      display:flex;\n",
              "      gap: 12px;\n",
              "    }\n",
              "\n",
              "    .colab-df-convert {\n",
              "      background-color: #E8F0FE;\n",
              "      border: none;\n",
              "      border-radius: 50%;\n",
              "      cursor: pointer;\n",
              "      display: none;\n",
              "      fill: #1967D2;\n",
              "      height: 32px;\n",
              "      padding: 0 0 0 0;\n",
              "      width: 32px;\n",
              "    }\n",
              "\n",
              "    .colab-df-convert:hover {\n",
              "      background-color: #E2EBFA;\n",
              "      box-shadow: 0px 1px 2px rgba(60, 64, 67, 0.3), 0px 1px 3px 1px rgba(60, 64, 67, 0.15);\n",
              "      fill: #174EA6;\n",
              "    }\n",
              "\n",
              "    .colab-df-buttons div {\n",
              "      margin-bottom: 4px;\n",
              "    }\n",
              "\n",
              "    [theme=dark] .colab-df-convert {\n",
              "      background-color: #3B4455;\n",
              "      fill: #D2E3FC;\n",
              "    }\n",
              "\n",
              "    [theme=dark] .colab-df-convert:hover {\n",
              "      background-color: #434B5C;\n",
              "      box-shadow: 0px 1px 3px 1px rgba(0, 0, 0, 0.15);\n",
              "      filter: drop-shadow(0px 1px 2px rgba(0, 0, 0, 0.3));\n",
              "      fill: #FFFFFF;\n",
              "    }\n",
              "  </style>\n",
              "\n",
              "    <script>\n",
              "      const buttonEl =\n",
              "        document.querySelector('#df-f74bbc40-cf43-4915-9147-8df303c811a6 button.colab-df-convert');\n",
              "      buttonEl.style.display =\n",
              "        google.colab.kernel.accessAllowed ? 'block' : 'none';\n",
              "\n",
              "      async function convertToInteractive(key) {\n",
              "        const element = document.querySelector('#df-f74bbc40-cf43-4915-9147-8df303c811a6');\n",
              "        const dataTable =\n",
              "          await google.colab.kernel.invokeFunction('convertToInteractive',\n",
              "                                                    [key], {});\n",
              "        if (!dataTable) return;\n",
              "\n",
              "        const docLinkHtml = 'Like what you see? Visit the ' +\n",
              "          '<a target=\"_blank\" href=https://colab.research.google.com/notebooks/data_table.ipynb>data table notebook</a>'\n",
              "          + ' to learn more about interactive tables.';\n",
              "        element.innerHTML = '';\n",
              "        dataTable['output_type'] = 'display_data';\n",
              "        await google.colab.output.renderOutput(dataTable, element);\n",
              "        const docLink = document.createElement('div');\n",
              "        docLink.innerHTML = docLinkHtml;\n",
              "        element.appendChild(docLink);\n",
              "      }\n",
              "    </script>\n",
              "  </div>\n",
              "\n",
              "\n",
              "<div id=\"df-f55b619c-7c65-4ec7-bf1f-acb62d770b8b\">\n",
              "  <button class=\"colab-df-quickchart\" onclick=\"quickchart('df-f55b619c-7c65-4ec7-bf1f-acb62d770b8b')\"\n",
              "            title=\"Suggest charts\"\n",
              "            style=\"display:none;\">\n",
              "\n",
              "<svg xmlns=\"http://www.w3.org/2000/svg\" height=\"24px\"viewBox=\"0 0 24 24\"\n",
              "     width=\"24px\">\n",
              "    <g>\n",
              "        <path d=\"M19 3H5c-1.1 0-2 .9-2 2v14c0 1.1.9 2 2 2h14c1.1 0 2-.9 2-2V5c0-1.1-.9-2-2-2zM9 17H7v-7h2v7zm4 0h-2V7h2v10zm4 0h-2v-4h2v4z\"/>\n",
              "    </g>\n",
              "</svg>\n",
              "  </button>\n",
              "\n",
              "<style>\n",
              "  .colab-df-quickchart {\n",
              "      --bg-color: #E8F0FE;\n",
              "      --fill-color: #1967D2;\n",
              "      --hover-bg-color: #E2EBFA;\n",
              "      --hover-fill-color: #174EA6;\n",
              "      --disabled-fill-color: #AAA;\n",
              "      --disabled-bg-color: #DDD;\n",
              "  }\n",
              "\n",
              "  [theme=dark] .colab-df-quickchart {\n",
              "      --bg-color: #3B4455;\n",
              "      --fill-color: #D2E3FC;\n",
              "      --hover-bg-color: #434B5C;\n",
              "      --hover-fill-color: #FFFFFF;\n",
              "      --disabled-bg-color: #3B4455;\n",
              "      --disabled-fill-color: #666;\n",
              "  }\n",
              "\n",
              "  .colab-df-quickchart {\n",
              "    background-color: var(--bg-color);\n",
              "    border: none;\n",
              "    border-radius: 50%;\n",
              "    cursor: pointer;\n",
              "    display: none;\n",
              "    fill: var(--fill-color);\n",
              "    height: 32px;\n",
              "    padding: 0;\n",
              "    width: 32px;\n",
              "  }\n",
              "\n",
              "  .colab-df-quickchart:hover {\n",
              "    background-color: var(--hover-bg-color);\n",
              "    box-shadow: 0 1px 2px rgba(60, 64, 67, 0.3), 0 1px 3px 1px rgba(60, 64, 67, 0.15);\n",
              "    fill: var(--button-hover-fill-color);\n",
              "  }\n",
              "\n",
              "  .colab-df-quickchart-complete:disabled,\n",
              "  .colab-df-quickchart-complete:disabled:hover {\n",
              "    background-color: var(--disabled-bg-color);\n",
              "    fill: var(--disabled-fill-color);\n",
              "    box-shadow: none;\n",
              "  }\n",
              "\n",
              "  .colab-df-spinner {\n",
              "    border: 2px solid var(--fill-color);\n",
              "    border-color: transparent;\n",
              "    border-bottom-color: var(--fill-color);\n",
              "    animation:\n",
              "      spin 1s steps(1) infinite;\n",
              "  }\n",
              "\n",
              "  @keyframes spin {\n",
              "    0% {\n",
              "      border-color: transparent;\n",
              "      border-bottom-color: var(--fill-color);\n",
              "      border-left-color: var(--fill-color);\n",
              "    }\n",
              "    20% {\n",
              "      border-color: transparent;\n",
              "      border-left-color: var(--fill-color);\n",
              "      border-top-color: var(--fill-color);\n",
              "    }\n",
              "    30% {\n",
              "      border-color: transparent;\n",
              "      border-left-color: var(--fill-color);\n",
              "      border-top-color: var(--fill-color);\n",
              "      border-right-color: var(--fill-color);\n",
              "    }\n",
              "    40% {\n",
              "      border-color: transparent;\n",
              "      border-right-color: var(--fill-color);\n",
              "      border-top-color: var(--fill-color);\n",
              "    }\n",
              "    60% {\n",
              "      border-color: transparent;\n",
              "      border-right-color: var(--fill-color);\n",
              "    }\n",
              "    80% {\n",
              "      border-color: transparent;\n",
              "      border-right-color: var(--fill-color);\n",
              "      border-bottom-color: var(--fill-color);\n",
              "    }\n",
              "    90% {\n",
              "      border-color: transparent;\n",
              "      border-bottom-color: var(--fill-color);\n",
              "    }\n",
              "  }\n",
              "</style>\n",
              "\n",
              "  <script>\n",
              "    async function quickchart(key) {\n",
              "      const quickchartButtonEl =\n",
              "        document.querySelector('#' + key + ' button');\n",
              "      quickchartButtonEl.disabled = true;  // To prevent multiple clicks.\n",
              "      quickchartButtonEl.classList.add('colab-df-spinner');\n",
              "      try {\n",
              "        const charts = await google.colab.kernel.invokeFunction(\n",
              "            'suggestCharts', [key], {});\n",
              "      } catch (error) {\n",
              "        console.error('Error during call to suggestCharts:', error);\n",
              "      }\n",
              "      quickchartButtonEl.classList.remove('colab-df-spinner');\n",
              "      quickchartButtonEl.classList.add('colab-df-quickchart-complete');\n",
              "    }\n",
              "    (() => {\n",
              "      let quickchartButtonEl =\n",
              "        document.querySelector('#df-f55b619c-7c65-4ec7-bf1f-acb62d770b8b button');\n",
              "      quickchartButtonEl.style.display =\n",
              "        google.colab.kernel.accessAllowed ? 'block' : 'none';\n",
              "    })();\n",
              "  </script>\n",
              "</div>\n",
              "\n",
              "    </div>\n",
              "  </div>\n"
            ],
            "application/vnd.google.colaboratory.intrinsic+json": {
              "type": "dataframe",
              "summary": "{\n  \"name\": \"df\",\n  \"rows\": 3,\n  \"fields\": [\n    {\n      \"column\": 0,\n      \"properties\": {\n        \"dtype\": \"string\",\n        \"num_unique_values\": 3,\n        \"samples\": [\n          \"Nombre\",\n          \"Edad\",\n          \"Ciudad\"\n        ],\n        \"semantic_type\": \"\",\n        \"description\": \"\"\n      }\n    }\n  ]\n}"
            }
          },
          "metadata": {},
          "execution_count": 46
        }
      ]
    },
    {
      "cell_type": "markdown",
      "source": [
        "##2. Operaciones Básicas con DataFrames\n",
        "\n"
      ],
      "metadata": {
        "id": "8VIXzKs15rU1"
      }
    },
    {
      "cell_type": "markdown",
      "source": [
        "###2.1. Acceso a datos\n",
        "\n",
        "**Conceptos clave:**\n",
        "\n",
        "- Acceso a columnas y filas.\n",
        "- Uso de loc (basado en etiquetas) y iloc (basado en posiciones).\n"
      ],
      "metadata": {
        "id": "M5IIdie45wEc"
      }
    },
    {
      "cell_type": "markdown",
      "source": [
        "**Ejemplo:**"
      ],
      "metadata": {
        "id": "PCk-sby55zWx"
      }
    },
    {
      "cell_type": "code",
      "source": [
        "import pandas as pd\n",
        "\n",
        "# Crear un DataFrame de ejemplo\n",
        "data = {\n",
        "    'Nombre': ['Ana', 'Luis', 'Carlos', 'María'],\n",
        "    'Edad': [23, 45, 34, 29],\n",
        "    'Ciudad': ['Madrid', 'Barcelona', 'Valencia', 'Sevilla'],\n",
        "    'Sexo': ['F', 'M', 'M', 'F']\n",
        "}\n",
        "\n",
        "df = pd.DataFrame(data)"
      ],
      "metadata": {
        "id": "F5h9uwuS52_I"
      },
      "execution_count": 63,
      "outputs": []
    },
    {
      "cell_type": "code",
      "source": [
        "# Acceder a una columna\n",
        "edades = df['Edad']\n",
        "print(\"Edades:\")\n",
        "print(edades)"
      ],
      "metadata": {
        "id": "Oyicx69t5595",
        "colab": {
          "base_uri": "https://localhost:8080/"
        },
        "outputId": "a8e37b02-646c-4878-c5dc-0ac3bd83f096"
      },
      "execution_count": 49,
      "outputs": [
        {
          "output_type": "stream",
          "name": "stdout",
          "text": [
            "Edades:\n",
            "0    23\n",
            "1    45\n",
            "2    34\n",
            "3    29\n",
            "Name: Edad, dtype: int64\n"
          ]
        }
      ]
    },
    {
      "cell_type": "code",
      "source": [
        "\n",
        "# Acceder a múltiples columnas\n",
        "nombre_ciudad = df[['Nombre', 'Ciudad']]\n",
        "print(nombre_ciudad)"
      ],
      "metadata": {
        "id": "l0bmMjBn57Gb",
        "colab": {
          "base_uri": "https://localhost:8080/"
        },
        "outputId": "bf026900-71d3-4910-bba0-b8328ec3ab56"
      },
      "execution_count": 51,
      "outputs": [
        {
          "output_type": "stream",
          "name": "stdout",
          "text": [
            "   Nombre     Ciudad\n",
            "0     Ana     Madrid\n",
            "1    Luis  Barcelona\n",
            "2  Carlos   Valencia\n",
            "3   María    Sevilla\n"
          ]
        }
      ]
    },
    {
      "cell_type": "code",
      "source": [
        "# Acceder a una fila por etiqueta\n",
        "fila_ana = df.loc[0]\n",
        "print(\"\\nFila de Ana:\")\n",
        "print(fila_ana)"
      ],
      "metadata": {
        "id": "F62ePJFh58PG",
        "colab": {
          "base_uri": "https://localhost:8080/"
        },
        "outputId": "e89068c9-c344-4740-9a38-ab82d2c4ff0e"
      },
      "execution_count": 52,
      "outputs": [
        {
          "output_type": "stream",
          "name": "stdout",
          "text": [
            "\n",
            "Fila de Ana:\n",
            "Nombre       Ana\n",
            "Edad          23\n",
            "Ciudad    Madrid\n",
            "Name: 0, dtype: object\n"
          ]
        }
      ]
    },
    {
      "cell_type": "code",
      "source": [
        "# Acceder a una fila por posición\n",
        "fila_primera = df.iloc[0]\n",
        "print(\"\\nPrimera fila:\")\n",
        "print(fila_primera)\n"
      ],
      "metadata": {
        "id": "VSKqoSjP59VV",
        "colab": {
          "base_uri": "https://localhost:8080/"
        },
        "outputId": "88e71436-4f86-4fea-f585-bbcb6d2f1cc1"
      },
      "execution_count": 53,
      "outputs": [
        {
          "output_type": "stream",
          "name": "stdout",
          "text": [
            "\n",
            "Primera fila:\n",
            "Nombre       Ana\n",
            "Edad          23\n",
            "Ciudad    Madrid\n",
            "Name: 0, dtype: object\n"
          ]
        }
      ]
    },
    {
      "cell_type": "markdown",
      "source": [
        "### 2.2. Selección y filtrado\n",
        "\n",
        "Conceptos clave:\n",
        "\n",
        "- Filtrado condicional.\n",
        "- Uso de operadores lógicos (&, |, ~).\n",
        "\n",
        "**Ejemplo:**"
      ],
      "metadata": {
        "id": "H74mTOI161jO"
      }
    },
    {
      "cell_type": "code",
      "source": [
        "# Filtrar por condición\n",
        "mayores_30 = df[df['Edad'] > 30]\n",
        "print(\"\\nPersonas mayores de 30 años:\")\n",
        "print(mayores_30)"
      ],
      "metadata": {
        "id": "BrsIDIpq66iw",
        "colab": {
          "base_uri": "https://localhost:8080/"
        },
        "outputId": "69597a05-e00d-4481-9e5a-099bdd0aa087"
      },
      "execution_count": 55,
      "outputs": [
        {
          "output_type": "stream",
          "name": "stdout",
          "text": [
            "\n",
            "Personas mayores de 30 años:\n",
            "   Nombre  Edad     Ciudad\n",
            "1    Luis    45  Barcelona\n",
            "2  Carlos    34   Valencia\n"
          ]
        }
      ]
    },
    {
      "cell_type": "code",
      "source": [
        "df_30 = df.loc[df.Edad >=30]\n",
        "print(df_30)\n",
        "print(df_30.describe())"
      ],
      "metadata": {
        "id": "DKT6qIF1xsCL",
        "outputId": "4e52f92d-f6b6-4dfd-dcde-475f56a713e5",
        "colab": {
          "base_uri": "https://localhost:8080/"
        }
      },
      "execution_count": 62,
      "outputs": [
        {
          "output_type": "stream",
          "name": "stdout",
          "text": [
            "   Nombre  Edad     Ciudad\n",
            "1    Luis    45  Barcelona\n",
            "2  Carlos    34   Valencia\n",
            "            Edad\n",
            "count   2.000000\n",
            "mean   39.500000\n",
            "std     7.778175\n",
            "min    34.000000\n",
            "25%    36.750000\n",
            "50%    39.500000\n",
            "75%    42.250000\n",
            "max    45.000000\n"
          ]
        }
      ]
    },
    {
      "cell_type": "code",
      "source": [
        "df_30 = df.loc[(df.Edad >=29) & (df.Sexo == 'F')]\n",
        "print(df_30)\n",
        "print(df_30.describe())"
      ],
      "metadata": {
        "id": "2iIKrqhyySiW",
        "outputId": "51fcc6f6-7930-4a5d-f8e1-31057dc1abb3",
        "colab": {
          "base_uri": "https://localhost:8080/"
        }
      },
      "execution_count": 65,
      "outputs": [
        {
          "output_type": "stream",
          "name": "stdout",
          "text": [
            "  Nombre  Edad   Ciudad Sexo\n",
            "3  María    29  Sevilla    F\n",
            "       Edad\n",
            "count   1.0\n",
            "mean   29.0\n",
            "std     NaN\n",
            "min    29.0\n",
            "25%    29.0\n",
            "50%    29.0\n",
            "75%    29.0\n",
            "max    29.0\n"
          ]
        }
      ]
    },
    {
      "cell_type": "code",
      "source": [
        "# Filtrar por múltiples condiciones\n",
        "madrid_mayor_25 = df[(df['Ciudad'] == 'Madrid') & (df['Edad'] > 25)]\n",
        "print(\"\\nPersonas de Madrid mayores de 25 años:\")\n",
        "print(madrid_mayor_25)"
      ],
      "metadata": {
        "id": "kicBXdNJ6-bI"
      },
      "execution_count": null,
      "outputs": []
    },
    {
      "cell_type": "code",
      "source": [
        "# Uso de isin para múltiples valores\n",
        "ciudades = df[df['Ciudad'].isin(['Madrid', 'Valencia'])]\n",
        "print(\"\\nPersonas de Madrid o Valencia:\")\n",
        "print(ciudades)"
      ],
      "metadata": {
        "id": "AyXvZ-xz6_W0"
      },
      "execution_count": null,
      "outputs": []
    },
    {
      "cell_type": "markdown",
      "source": [
        "### 2.3. Ordenamiento de datos\n",
        "\n",
        "**Conceptos clave:**\n",
        "\n",
        "- Ordenar por una o varias columnas.\n",
        "- Orden ascendente (ascending=True) y descendente (ascending=False).\n",
        "\n",
        "**Ejemplo:**"
      ],
      "metadata": {
        "id": "rjTnmJa47Fj2"
      }
    },
    {
      "cell_type": "code",
      "source": [
        "# Ordenar por edad ascendente\n",
        "df_ordenado_edad = df.sort_values(by='Edad')\n",
        "print(\"\\nDataFrame ordenado por edad (ascendente):\")\n",
        "print(df_ordenado_edad)\n"
      ],
      "metadata": {
        "id": "VENmIp1_7NZ3"
      },
      "execution_count": null,
      "outputs": []
    },
    {
      "cell_type": "code",
      "source": [
        "\n",
        "# Ordenar por edad descendente\n",
        "df_ordenado_edad_desc = df.sort_values(by='Edad', ascending=False)\n",
        "print(\"\\nDataFrame ordenado por edad (descendente):\")\n",
        "print(df_ordenado_edad_desc)\n"
      ],
      "metadata": {
        "id": "ZBIC7-Qw7OW0"
      },
      "execution_count": null,
      "outputs": []
    },
    {
      "cell_type": "code",
      "source": [
        "\n",
        "# Ordenar por ciudad y luego por edad\n",
        "df_ordenado_ciudad_edad = df.sort_values(by=['Ciudad', 'Edad'])\n",
        "print(\"\\nDataFrame ordenado por ciudad y edad:\")\n",
        "print(df_ordenado_ciudad_edad)\n"
      ],
      "metadata": {
        "id": "IQdj36Rj7PPg"
      },
      "execution_count": null,
      "outputs": []
    },
    {
      "cell_type": "markdown",
      "source": [
        "### 2.4. Modificación y eliminación de datos\n",
        "\n",
        "**Conceptos clave:**\n",
        "\n",
        "- Añadir y modificar columnas.\n",
        "- Eliminar filas y columnas.\n",
        "\n",
        "**Ejemplo:**"
      ],
      "metadata": {
        "id": "UkmhJrvp7S8j"
      }
    },
    {
      "cell_type": "code",
      "source": [
        "# Añadir una nueva columna\n",
        "df['Puntaje'] = [88, 92, 79, 85]\n",
        "print(\"\\nDataFrame con nueva columna 'Puntaje':\")\n",
        "print(df)\n"
      ],
      "metadata": {
        "id": "4bNfCTjx7X13"
      },
      "execution_count": null,
      "outputs": []
    },
    {
      "cell_type": "code",
      "source": [
        "# Modificar valores\n",
        "df.loc[df['Nombre'] == 'Ana', 'Edad'] = 24\n",
        "print(\"\\nDataFrame después de modificar la edad de Ana:\")\n",
        "print(df)\n"
      ],
      "metadata": {
        "id": "Uqg9xsGg7ZRG"
      },
      "execution_count": null,
      "outputs": []
    },
    {
      "cell_type": "code",
      "source": [
        "# Eliminar una columna\n",
        "df_sin_puntaje = df.drop('Puntaje', axis=1)\n",
        "print(\"\\nDataFrame sin la columna 'Puntaje':\")\n",
        "print(df_sin_puntaje)\n"
      ],
      "metadata": {
        "id": "lJpSFHdJ7aOO"
      },
      "execution_count": null,
      "outputs": []
    },
    {
      "cell_type": "code",
      "source": [
        "# Eliminar una fila\n",
        "df_sin_fila = df.drop(2)  # Eliminar la fila con índice 2\n",
        "print(\"\\nDataFrame sin la fila de Carlos:\")\n",
        "print(df_sin_fila)"
      ],
      "metadata": {
        "id": "flaQ2ZFr7bCz"
      },
      "execution_count": null,
      "outputs": []
    },
    {
      "cell_type": "markdown",
      "source": [
        "### 2.5. Manejo de datos faltantes\n",
        "\n",
        "**Conceptos clave:**\n",
        "\n",
        "- Identificar y tratar valores nulos (NaN).\n",
        "- Métodos para eliminar o imputar datos faltantes.\n",
        "\n",
        "**Ejemplo:**"
      ],
      "metadata": {
        "id": "I1v54W0k7oBY"
      }
    },
    {
      "cell_type": "code",
      "source": [
        "# Introducir valores faltantes\n",
        "df_con_nan = df.copy()\n",
        "df_con_nan.loc[1, 'Edad'] = None\n",
        "print(\"\\nDataFrame con valor faltante:\")\n",
        "print(df_con_nan)\n"
      ],
      "metadata": {
        "id": "en6ahIvQ7u1u"
      },
      "execution_count": null,
      "outputs": []
    },
    {
      "cell_type": "code",
      "source": [
        "# Identificar valores faltantes\n",
        "print(\"\\nValores faltantes en 'Edad':\")\n",
        "print(df_con_nan['Edad'].isnull())"
      ],
      "metadata": {
        "id": "b82Xl5Qu7zG1"
      },
      "execution_count": null,
      "outputs": []
    },
    {
      "cell_type": "code",
      "source": [
        "\n",
        "# Eliminar filas con valores faltantes\n",
        "df_sin_nan = df_con_nan.dropna()\n",
        "print(\"\\nDataFrame sin filas con valores faltantes:\")\n",
        "print(df_sin_nan)"
      ],
      "metadata": {
        "id": "OG2qqlSI70A6"
      },
      "execution_count": null,
      "outputs": []
    },
    {
      "cell_type": "code",
      "source": [
        "# Imputar valores faltantes\n",
        "df_imputado = df_con_nan.fillna({'Edad': df_con_nan['Edad'].mean()})\n",
        "print(\"\\nDataFrame con valores faltantes imputados:\")\n",
        "print(df_imputado)\n"
      ],
      "metadata": {
        "id": "t1-8pNwx7025"
      },
      "execution_count": null,
      "outputs": []
    },
    {
      "cell_type": "markdown",
      "source": [
        "###2.6. Tamaño y resumen de datos\n",
        "\n",
        "**Conceptos clave:**\n",
        "\n",
        "- Obtener el número de filas y columnas.\n",
        "- Resumen estadístico de los datos.\n",
        "\n",
        "**Ejemplo:**"
      ],
      "metadata": {
        "id": "-pwGWfnV7_ta"
      }
    },
    {
      "cell_type": "code",
      "source": [
        "# Obtener el número de filas y columnas\n",
        "filas, columnas = df.shape\n",
        "print(f\"\\nEl DataFrame tiene {filas} filas y {columnas} columnas.\")\n"
      ],
      "metadata": {
        "id": "8X5Fi45I8FLg"
      },
      "execution_count": null,
      "outputs": []
    },
    {
      "cell_type": "code",
      "source": [
        "\n",
        "# Listar las columnas\n",
        "print(\"\\nColumnas del DataFrame:\")\n",
        "print(df.columns)"
      ],
      "metadata": {
        "id": "sMkyQIwR8GKv"
      },
      "execution_count": null,
      "outputs": []
    },
    {
      "cell_type": "code",
      "source": [
        "# Resumen estadístico\n",
        "print(\"\\nResumen estadístico:\")\n",
        "print(df.describe())"
      ],
      "metadata": {
        "id": "uSbMCV0v8HTD"
      },
      "execution_count": null,
      "outputs": []
    },
    {
      "cell_type": "markdown",
      "source": [
        "### 2.7. Ejercicios\n"
      ],
      "metadata": {
        "id": "puCi0ULr8YgK"
      }
    },
    {
      "cell_type": "markdown",
      "source": [
        "\n",
        "**Ejercicio 1**\n",
        "\n",
        "Crea un DataFrame con la siguiente información:\n",
        "\n",
        "- Nombre: 'Juan', 'Laura', 'Pedro', 'Carmen', 'Luis'\n",
        "- Departamento: 'Ventas', 'Marketing', 'Ventas', 'Finanzas', 'Marketing'\n",
        "- Salario: 50000, 60000, 55000, 65000, 62000\n",
        "\n",
        "Tareas:\n",
        "\n",
        "- Accede a la columna de salarios.\n",
        "- Filtra los empleados del departamento de 'Marketing'.\n",
        "- Ordena el DataFrame por salario de manera descendente.\n",
        "- Añade una nueva columna 'Bono' que sea el 10% del salario.\n",
        "- Calcula el salario total (salario + bono) y añade una columna 'SalarioTotal'.\n"
      ],
      "metadata": {
        "id": "9OLcT4GN8N9Z"
      }
    },
    {
      "cell_type": "code",
      "source": [],
      "metadata": {
        "id": "zhsxiDbY8V_n"
      },
      "execution_count": null,
      "outputs": []
    },
    {
      "cell_type": "markdown",
      "source": [
        "**Ejercicio 2**\n",
        "\n",
        "Utilizando el DataFrame del ejercicio anterior:\n",
        "\n",
        "- Modifica el salario de 'Juan' a 52000.\n",
        "- Elimina el empleado 'Pedro' del DataFrame.\n",
        "- Identifica si hay datos faltantes en el DataFrame.\n",
        "- Si hay datos faltantes, imputa con el valor promedio de la columna correspondiente.\n",
        "\n",
        "\n"
      ],
      "metadata": {
        "id": "qoYgZBXr8WVp"
      }
    },
    {
      "cell_type": "code",
      "source": [],
      "metadata": {
        "id": "vIA6-xCb8fAx"
      },
      "execution_count": null,
      "outputs": []
    },
    {
      "cell_type": "markdown",
      "source": [
        "**Ejercicio 3**\n",
        "\n",
        "Crea un DataFrame con datos de ventas:\n",
        "\n",
        "- Producto: 'Producto A', 'Producto B', 'Producto C', 'Producto D'\n",
        "- Ventas Enero: 150, 200, 140, 170\n",
        "- Ventas Febrero: 180, None, 160, 190\n",
        "\n",
        "Tareas:\n",
        "\n",
        "- Calcula el total de ventas por producto sumando 'Ventas Enero' y 'Ventas Febrero'.\n",
        "- Identifica los productos con datos faltantes en 'Ventas Febrero'.\n",
        "- Imputa los valores faltantes con el promedio de 'Ventas Febrero'.\n",
        "- Ordena el DataFrame por total de ventas de manera ascendente."
      ],
      "metadata": {
        "id": "ml6_UKpX8fYu"
      }
    },
    {
      "cell_type": "code",
      "source": [],
      "metadata": {
        "id": "rHbiYSor8kuH"
      },
      "execution_count": null,
      "outputs": []
    },
    {
      "cell_type": "markdown",
      "source": [
        "---\n",
        "\n",
        "# Gracias por completar este laboratorio!\n",
        "\n",
        "---"
      ],
      "metadata": {
        "id": "ggeSQ8Uw8vVR"
      }
    }
  ]
}