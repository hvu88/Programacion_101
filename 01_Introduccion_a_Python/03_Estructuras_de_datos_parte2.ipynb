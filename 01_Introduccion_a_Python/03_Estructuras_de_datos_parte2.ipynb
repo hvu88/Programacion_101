{
  "nbformat": 4,
  "nbformat_minor": 0,
  "metadata": {
    "colab": {
      "provenance": [],
      "include_colab_link": true
    },
    "kernelspec": {
      "name": "python3",
      "display_name": "Python 3"
    },
    "language_info": {
      "name": "python"
    }
  },
  "cells": [
    {
      "cell_type": "markdown",
      "metadata": {
        "id": "view-in-github",
        "colab_type": "text"
      },
      "source": [
        "<a href=\"https://colab.research.google.com/github/hvu88/Programacion_101/blob/Parte2/01_Introduccion_a_Python/03_Estructuras_de_datos_parte2.ipynb\" target=\"_parent\"><img src=\"https://colab.research.google.com/assets/colab-badge.svg\" alt=\"Open In Colab\"/></a>"
      ]
    },
    {
      "cell_type": "markdown",
      "source": [
        "<img src=\"https://www.ctic.uni.edu.pe/wp-content/uploads/2022/04/588px-x-348px-web-1.png\" alt=\"HTML5 Icon\" width=\"900\" height=\"350\" >\n"
      ],
      "metadata": {
        "id": "0xv6Piu7tRkP"
      }
    },
    {
      "cell_type": "markdown",
      "source": [
        "<h1 align=center><font size = 5>ESTRUCTURAS DE DATOS - PARTE 2\n",
        "</font></h1>\n",
        "\n",
        "---\n"
      ],
      "metadata": {
        "id": "iJvpwSTptUZI"
      }
    },
    {
      "cell_type": "markdown",
      "source": [
        "**Tabla de Contenidos**\n",
        "\n",
        "- Diccionarios\n",
        "- Sets\n",
        "- Matrices\n",
        "\n",
        "---"
      ],
      "metadata": {
        "id": "gM88wvb0uEt7"
      }
    },
    {
      "cell_type": "markdown",
      "source": [
        "## 1. Diccionarios\n",
        "\n",
        "**Concepto:**\n",
        "\n",
        "Un diccionario es una estructura de datos que almacena pares clave-valor. Las claves deben ser únicas y se utilizan para acceder a los valores asociados."
      ],
      "metadata": {
        "id": "P3deKEL-tbDJ"
      }
    },
    {
      "cell_type": "markdown",
      "source": [
        "### Ejemplo 1.1: Creación de Diccionarios y Acceso a Elementos\n"
      ],
      "metadata": {
        "id": "hlZnLeo_uPwN"
      }
    },
    {
      "cell_type": "code",
      "source": [
        "# Crear un diccionario\n",
        "persona = {'nombre': 'Ana', 'edad': 30, 'ciudad': 'Lima'}\n",
        "print(persona)"
      ],
      "metadata": {
        "id": "P-TTXZxuuRe7",
        "colab": {
          "base_uri": "https://localhost:8080/"
        },
        "outputId": "1eb0b126-d3e8-4334-fdb9-8a58461fd3f6"
      },
      "execution_count": 12,
      "outputs": [
        {
          "output_type": "stream",
          "name": "stdout",
          "text": [
            "{'nombre': 'Ana', 'edad': 30, 'ciudad': 'Lima'}\n"
          ]
        }
      ]
    },
    {
      "cell_type": "code",
      "source": [
        "# Acceder a un valor\n",
        "print(\"Nombre:\", persona['nombre'])\n",
        "print(\"Ciudad:\", persona.get('ciudad'))\n",
        "print(f'Edad: {persona.get(\"edad\")}')\n"
      ],
      "metadata": {
        "id": "tPRrAukRuS1S",
        "colab": {
          "base_uri": "https://localhost:8080/"
        },
        "outputId": "1e58f968-c071-4b26-9e8c-4633075c0c58"
      },
      "execution_count": 6,
      "outputs": [
        {
          "output_type": "stream",
          "name": "stdout",
          "text": [
            "Nombre: Ana\n",
            "Ciudad: Lima\n",
            "Edad: 30\n"
          ]
        }
      ]
    },
    {
      "cell_type": "code",
      "source": [
        "# Añadir un nuevo par clave-valor\n",
        "persona['profesion'] = 'Ingeniera'\n",
        "print(persona)\n",
        "\n",
        "lista_key = list(persona.keys())\n",
        "lsta_value = list(persona.values())\n",
        "print(lista_key)\n",
        "print(lsta_value)\n",
        "print(tuple(zip(lista_key,lsta_value)))\n",
        "print(dict(zip(lista_key,lsta_value)))\n",
        "\n",
        "value_key = dict(zip(lista_key,lsta_value))\n",
        "print(value_key)\n",
        "\n"
      ],
      "metadata": {
        "id": "Ineeezk6uUjd",
        "colab": {
          "base_uri": "https://localhost:8080/"
        },
        "outputId": "c148c3cc-717a-4b30-ec1c-dca3b5154f76"
      },
      "execution_count": 8,
      "outputs": [
        {
          "output_type": "stream",
          "name": "stdout",
          "text": [
            "{'nombre': 'Ana', 'edad': 30, 'ciudad': 'Lima', 'profesion': 'Ingeniera'}\n",
            "['nombre', 'edad', 'ciudad', 'profesion']\n",
            "['Ana', 30, 'Lima', 'Ingeniera']\n",
            "(('nombre', 'Ana'), ('edad', 30), ('ciudad', 'Lima'), ('profesion', 'Ingeniera'))\n",
            "{'nombre': 'Ana', 'edad': 30, 'ciudad': 'Lima', 'profesion': 'Ingeniera'}\n",
            "{'nombre': 'Ana', 'edad': 30, 'ciudad': 'Lima', 'profesion': 'Ingeniera'}\n"
          ]
        }
      ]
    },
    {
      "cell_type": "code",
      "source": [
        "list(persona.items())"
      ],
      "metadata": {
        "colab": {
          "base_uri": "https://localhost:8080/"
        },
        "id": "ScNsr9TgROBY",
        "outputId": "3f191459-cbbb-4899-9584-2f28a8ec9465"
      },
      "execution_count": 11,
      "outputs": [
        {
          "output_type": "execute_result",
          "data": {
            "text/plain": [
              "[('nombre', 'Ana'),\n",
              " ('edad', 30),\n",
              " ('ciudad', 'Lima'),\n",
              " ('profesion', 'Ingeniera')]"
            ]
          },
          "metadata": {},
          "execution_count": 11
        }
      ]
    },
    {
      "cell_type": "code",
      "source": [
        "print([ {k:v} for k,v in persona.items()])\n",
        "print(0dict(persona.items()))"
      ],
      "metadata": {
        "colab": {
          "base_uri": "https://localhost:8080/"
        },
        "id": "qQkn8yKaTqIt",
        "outputId": "3b8709b9-633a-4963-c7b9-4e9899a39bf4"
      },
      "execution_count": 30,
      "outputs": [
        {
          "output_type": "stream",
          "name": "stdout",
          "text": [
            "[{'nombre': 'Ana'}, {'edad': 30}]\n",
            "{'nombre': 'Ana', 'edad': 30}\n"
          ]
        }
      ]
    },
    {
      "cell_type": "code",
      "source": [
        "# Eliminar un par clave-valor\n",
        "del persona['ciudad']\n",
        "print(persona)"
      ],
      "metadata": {
        "id": "tuA4FSZNuVv1",
        "colab": {
          "base_uri": "https://localhost:8080/"
        },
        "outputId": "094de3fe-5f26-43ce-d1be-aa99c9f37b84"
      },
      "execution_count": 22,
      "outputs": [
        {
          "output_type": "stream",
          "name": "stdout",
          "text": [
            "{'nombre': 'Ana', 'edad': 30}\n"
          ]
        }
      ]
    },
    {
      "cell_type": "markdown",
      "source": [
        "### Ejemplo 1.2: Métodos Útiles de Diccionarios\n"
      ],
      "metadata": {
        "id": "FiQWLZxXuY6G"
      }
    },
    {
      "cell_type": "code",
      "source": [
        "# Obtener todas las claves\n",
        "print(persona.keys())\n",
        "\n",
        "\n"
      ],
      "metadata": {
        "id": "0BNmkeBXua1R",
        "colab": {
          "base_uri": "https://localhost:8080/"
        },
        "outputId": "278c675e-eb7e-4121-f9f8-4f223f2f295e"
      },
      "execution_count": 23,
      "outputs": [
        {
          "output_type": "stream",
          "name": "stdout",
          "text": [
            "dict_keys(['nombre', 'edad'])\n"
          ]
        }
      ]
    },
    {
      "cell_type": "code",
      "source": [
        "# Obtener todos los valores\n",
        "print(persona.values())\n"
      ],
      "metadata": {
        "id": "67-6NfYiubwM",
        "colab": {
          "base_uri": "https://localhost:8080/"
        },
        "outputId": "da62ee7b-6dc1-4134-a773-5ef320c00992"
      },
      "execution_count": 24,
      "outputs": [
        {
          "output_type": "stream",
          "name": "stdout",
          "text": [
            "dict_values(['Ana', 30])\n"
          ]
        }
      ]
    },
    {
      "cell_type": "code",
      "source": [
        "# Comprobar si una clave existe en el diccionario\n",
        "if 'edad' in persona:\n",
        "    print(\"La clave 'edad' está en el diccionario.\")\n"
      ],
      "metadata": {
        "id": "UPfEsSI_ucnd",
        "colab": {
          "base_uri": "https://localhost:8080/"
        },
        "outputId": "72cd9d8e-1220-4d48-d701-ca1ac401643e"
      },
      "execution_count": 25,
      "outputs": [
        {
          "output_type": "stream",
          "name": "stdout",
          "text": [
            "La clave 'edad' está en el diccionario.\n"
          ]
        }
      ]
    },
    {
      "cell_type": "markdown",
      "source": [
        "### Ejercicio 1: Trabajando con Diccionarios\n",
        "\n",
        "- Crea un diccionario que contenga información sobre un automóvil (marca, modelo, año, color).\n",
        "- Accede a cada valor usando su clave.\n",
        "- Añade una clave para el precio del automóvil.\n",
        "- Elimina la clave del color del automóvil y muestra el diccionario actualizado.\n",
        "- Usa keys() y values() para imprimir las claves y valores del diccionario.\n",
        "\n"
      ],
      "metadata": {
        "id": "oECCq-N5uguf"
      }
    },
    {
      "cell_type": "code",
      "source": [
        "dic_auto = {'marca': 'Toyota', 'modelo': 'Corolla', 'año': 2022, 'color': 'Rojo'}\n",
        "atributo = input(\"Ingresa un atributo (marca, modelo, año): \")\n",
        "print(f'{atributo}: {dic_auto[atributo]} \\n')\n",
        "dic_auto['precio'] = 25_000\n",
        "del dic_auto['color']\n",
        "print(f'Información automovil')\n",
        "for key,value in dic_auto.items():\n",
        "  print(f'{key}: {value}')"
      ],
      "metadata": {
        "id": "x2uN2fYnume5",
        "colab": {
          "base_uri": "https://localhost:8080/"
        },
        "outputId": "6f10d308-9c95-45bd-f868-f743a7f646b5"
      },
      "execution_count": 28,
      "outputs": [
        {
          "output_type": "stream",
          "name": "stdout",
          "text": [
            "Ingresa un atributo (marca, modelo, año): marca\n",
            "marca: Toyota \n",
            "\n",
            "Información automovil\n",
            "marca: Toyota\n",
            "modelo: Corolla\n",
            "año: 2022\n",
            "precio: 25000\n"
          ]
        }
      ]
    },
    {
      "cell_type": "markdown",
      "source": [
        "## 2. Sets\n",
        "\n",
        "Los sets son colecciones de elementos únicos y desordenados. Son útiles para eliminar duplicados o realizar operaciones matemáticas como intersección y unión."
      ],
      "metadata": {
        "id": "-omdmjTguoW-"
      }
    },
    {
      "cell_type": "markdown",
      "source": [
        "### Ejemplo 2.1: Creación y Modificación de Sets"
      ],
      "metadata": {
        "id": "5GC8_tPvuu3r"
      }
    },
    {
      "cell_type": "code",
      "source": [
        "# Crear un set\n",
        "numeros = {1, 2,2,2, 3, 4, 5}\n",
        "print(numeros)\n"
      ],
      "metadata": {
        "id": "D2ClA0CAutom",
        "colab": {
          "base_uri": "https://localhost:8080/"
        },
        "outputId": "f1f3bb4d-dc21-4242-d6b2-012d15ea9e29"
      },
      "execution_count": null,
      "outputs": [
        {
          "output_type": "stream",
          "name": "stdout",
          "text": [
            "{1, 2, 3, 4, 5}\n"
          ]
        }
      ]
    },
    {
      "cell_type": "code",
      "source": [
        "# Añadir elementos\n",
        "numeros.add(6)\n",
        "print(numeros)\n"
      ],
      "metadata": {
        "id": "deMM35okuyPM",
        "colab": {
          "base_uri": "https://localhost:8080/"
        },
        "outputId": "86990d7c-6580-4d31-810e-d1d962f2354e"
      },
      "execution_count": null,
      "outputs": [
        {
          "output_type": "stream",
          "name": "stdout",
          "text": [
            "{1, 2, 3, 4, 5, 6}\n"
          ]
        }
      ]
    },
    {
      "cell_type": "code",
      "source": [
        "# Eliminar un elemento\n",
        "numeros.remove(3)\n",
        "print(numeros)\n"
      ],
      "metadata": {
        "id": "VQjmgrWyuzAr",
        "colab": {
          "base_uri": "https://localhost:8080/"
        },
        "outputId": "6f4ee1a0-9acd-4bc0-95d7-73cdd2c229be"
      },
      "execution_count": null,
      "outputs": [
        {
          "output_type": "stream",
          "name": "stdout",
          "text": [
            "{1, 2, 4, 5, 6}\n"
          ]
        }
      ]
    },
    {
      "cell_type": "markdown",
      "source": [
        "### Ejemplo 2.2: Operaciones de Conjuntos\n"
      ],
      "metadata": {
        "id": "8I9pqkBWu3qE"
      }
    },
    {
      "cell_type": "code",
      "source": [
        "# Crear otro set\n",
        "otro_set = {4, 5, 6, 7}"
      ],
      "metadata": {
        "id": "169QsOxuvAbe"
      },
      "execution_count": null,
      "outputs": []
    },
    {
      "cell_type": "code",
      "source": [
        "# Unión de sets (todos los elementos)\n",
        "union = numeros.union(otro_set)\n",
        "print(\"Unión:\", union)\n"
      ],
      "metadata": {
        "id": "1hvqQ2F_vBtY",
        "colab": {
          "base_uri": "https://localhost:8080/"
        },
        "outputId": "72261d5a-84e5-4458-8e52-324068776d90"
      },
      "execution_count": null,
      "outputs": [
        {
          "output_type": "stream",
          "name": "stdout",
          "text": [
            "Unión: {1, 2, 4, 5, 6, 7}\n"
          ]
        }
      ]
    },
    {
      "cell_type": "code",
      "source": [
        "# Intersección de sets (elementos comunes)\n",
        "interseccion = numeros.intersection(otro_set)\n",
        "print(\"Intersección:\", interseccion)\n"
      ],
      "metadata": {
        "id": "0AU3PFc1vCh2",
        "colab": {
          "base_uri": "https://localhost:8080/"
        },
        "outputId": "56616c11-d11e-48a7-c2e9-6c8e3fe5d0ae"
      },
      "execution_count": null,
      "outputs": [
        {
          "output_type": "stream",
          "name": "stdout",
          "text": [
            "Intersección: {4, 5, 6}\n"
          ]
        }
      ]
    },
    {
      "cell_type": "markdown",
      "source": [
        "### Ejercicio 2: Operaciones con Sets\n",
        "\n",
        "- Crea dos sets de números: uno con números del 1 al 10 y otro con números del 5 al 15.\n",
        "- Encuentra la intersección y unión de ambos sets.\n",
        "- Elimina un número del primer set.\n",
        "- Usa un set para almacenar los nombres de tus amigos. Asegúrate de que no haya duplicados."
      ],
      "metadata": {
        "id": "y15kQNAQvFx_"
      }
    },
    {
      "cell_type": "code",
      "source": [
        "uno_diez = {1,2,3,4,5,6,7,8,9,10}\n",
        "cinco_quince = set(range(5,16))\n",
        "\n",
        "print(f'Intesección: {uno_diez.intersection(cinco_quince)}')\n",
        "print(f'Unión: {uno_diez.union(cinco_quince)} \\n')\n",
        "\n",
        "uno_diez.remove(1)\n",
        "print(uno_diez)\n",
        "\n",
        "set_amigos = {'Pedro', 'Jose', 'Carlos'}\n",
        "print(set_amigos)"
      ],
      "metadata": {
        "id": "CqudC_sBvJEQ",
        "colab": {
          "base_uri": "https://localhost:8080/"
        },
        "outputId": "e6ed0386-da79-49db-dd00-9757d819079b"
      },
      "execution_count": null,
      "outputs": [
        {
          "output_type": "stream",
          "name": "stdout",
          "text": [
            "Intesección: {5, 6, 7, 8, 9, 10}\n",
            "Unión: {1, 2, 3, 4, 5, 6, 7, 8, 9, 10, 11, 12, 13, 14, 15} \n",
            "\n",
            "{2, 3, 4, 5, 6, 7, 8, 9, 10}\n",
            "{'Pedro', 'Carlos', 'Jose'}\n"
          ]
        }
      ]
    },
    {
      "cell_type": "markdown",
      "source": [
        "## 3. Matrices\n",
        "\n",
        "En Python, las matrices pueden representarse como listas de listas. Para manipular matrices más avanzadas y realizar cálculos eficientes, utilizamos la librería NumPy."
      ],
      "metadata": {
        "id": "Pg3-dd-KvK9D"
      }
    },
    {
      "cell_type": "markdown",
      "source": [
        "### Ejemplo 3.1: Matrices con Listas de Listas\n"
      ],
      "metadata": {
        "id": "X7qGslkLvNya"
      }
    },
    {
      "cell_type": "code",
      "source": [
        "# Crear una matriz 3x3 con listas anidadas\n",
        "matriz = [\n",
        "    [1, 2, 3],\n",
        "    [4, 5, 6],\n",
        "    [7, 8, 9]\n",
        "]\n",
        "print(matriz)\n"
      ],
      "metadata": {
        "id": "TK57Y4GUvQ3Z",
        "colab": {
          "base_uri": "https://localhost:8080/"
        },
        "outputId": "90327c7a-8cd5-42a6-e520-ae1a198080da"
      },
      "execution_count": 32,
      "outputs": [
        {
          "output_type": "stream",
          "name": "stdout",
          "text": [
            "[[1, 2, 3], [4, 5, 6], [7, 8, 9]]\n"
          ]
        }
      ]
    },
    {
      "cell_type": "code",
      "source": [
        "# Acceder a elementos de la matriz\n",
        "print(\"Elemento en [1][1]:\", matriz[1][1])\n"
      ],
      "metadata": {
        "id": "D0MpaT6xvSH6",
        "colab": {
          "base_uri": "https://localhost:8080/"
        },
        "outputId": "43f130fb-26cf-4770-f4a8-2e2174eda3ae"
      },
      "execution_count": 33,
      "outputs": [
        {
          "output_type": "stream",
          "name": "stdout",
          "text": [
            "Elemento en [1][1]: 5\n"
          ]
        }
      ]
    },
    {
      "cell_type": "code",
      "source": [
        "# Modificar un elemento\n",
        "matriz[2][0] = 10\n",
        "print(matriz)"
      ],
      "metadata": {
        "id": "02wHfdwMvUB_",
        "colab": {
          "base_uri": "https://localhost:8080/"
        },
        "outputId": "53cfe0c3-6122-43d2-cc84-ca7093a9f741"
      },
      "execution_count": null,
      "outputs": [
        {
          "output_type": "stream",
          "name": "stdout",
          "text": [
            "[[1, 2, 3], [4, 5, 6], [10, 8, 9]]\n"
          ]
        }
      ]
    },
    {
      "cell_type": "markdown",
      "source": [
        "### Ejemplo 3.2: Manipulación de Matrices con NumPy\n"
      ],
      "metadata": {
        "id": "3cCGTHmTvXXy"
      }
    },
    {
      "cell_type": "code",
      "source": [
        "import numpy as np\n",
        "\n",
        "# Crear una matriz 3x3 con NumPy\n",
        "matriz_np = np.array([\n",
        "    [1, 2, 3],\n",
        "    [4, 5, 6],\n",
        "    [7, 8, 9]\n",
        "])\n",
        "print(f'{matriz_np} \\n')\n",
        "\n",
        "print(matriz_np.shape)\n"
      ],
      "metadata": {
        "id": "FZytH_LBvZrP",
        "colab": {
          "base_uri": "https://localhost:8080/"
        },
        "outputId": "4bc7a87a-976e-49f5-abd0-95c2aeb7a8d8"
      },
      "execution_count": 37,
      "outputs": [
        {
          "output_type": "stream",
          "name": "stdout",
          "text": [
            "[[1 2 3]\n",
            " [4 5 6]\n",
            " [7 8 9]] \n",
            "\n",
            "(3, 3)\n"
          ]
        }
      ]
    },
    {
      "cell_type": "code",
      "source": [
        "# Sumar 10 a cada elemento\n",
        "print(matriz_np + 10)\n",
        "\n"
      ],
      "metadata": {
        "id": "n2yT2V3tvbEE",
        "colab": {
          "base_uri": "https://localhost:8080/"
        },
        "outputId": "b38a4c9c-e31b-4a09-99c1-5bca1f92f1ec"
      },
      "execution_count": null,
      "outputs": [
        {
          "output_type": "stream",
          "name": "stdout",
          "text": [
            "[[11 12 13]\n",
            " [14 15 16]\n",
            " [17 18 19]]\n"
          ]
        }
      ]
    },
    {
      "cell_type": "code",
      "source": [
        "# Multiplicar cada elemento por 2\n",
        "print(matriz_np * 2)"
      ],
      "metadata": {
        "id": "RS-Cqk3rvb7k",
        "colab": {
          "base_uri": "https://localhost:8080/"
        },
        "outputId": "0c55f95a-4861-435f-de32-1782eec65333"
      },
      "execution_count": null,
      "outputs": [
        {
          "output_type": "stream",
          "name": "stdout",
          "text": [
            "[[ 2  4  6]\n",
            " [ 8 10 12]\n",
            " [14 16 18]]\n"
          ]
        }
      ]
    },
    {
      "cell_type": "code",
      "source": [
        "iden = np.identity(4)\n",
        "zeros = np.zeros((4,4))\n",
        "ones = np.ones((4,4))\n",
        "\n",
        "print(f'{iden} \\n')\n",
        "print(f'{zeros} \\n')\n",
        "print(f'{ones} \\n')\n"
      ],
      "metadata": {
        "colab": {
          "base_uri": "https://localhost:8080/"
        },
        "id": "yXcnRP_FdGMN",
        "outputId": "38d54f0b-b591-4983-83ba-b53995e2f266"
      },
      "execution_count": 41,
      "outputs": [
        {
          "output_type": "stream",
          "name": "stdout",
          "text": [
            "[[1. 0. 0. 0.]\n",
            " [0. 1. 0. 0.]\n",
            " [0. 0. 1. 0.]\n",
            " [0. 0. 0. 1.]] \n",
            "\n",
            "[[0. 0. 0. 0.]\n",
            " [0. 0. 0. 0.]\n",
            " [0. 0. 0. 0.]\n",
            " [0. 0. 0. 0.]] \n",
            "\n",
            "[[1. 1. 1. 1.]\n",
            " [1. 1. 1. 1.]\n",
            " [1. 1. 1. 1.]\n",
            " [1. 1. 1. 1.]] \n",
            "\n"
          ]
        }
      ]
    },
    {
      "cell_type": "code",
      "source": [
        "np.random.randint(0,10,(4,4))"
      ],
      "metadata": {
        "colab": {
          "base_uri": "https://localhost:8080/"
        },
        "id": "esbcgFC8eqzD",
        "outputId": "9f6c1c11-55e5-459c-c6b4-923f07cb85e9"
      },
      "execution_count": 46,
      "outputs": [
        {
          "output_type": "execute_result",
          "data": {
            "text/plain": [
              "array([[4, 9, 1, 8],\n",
              "       [3, 4, 8, 8],\n",
              "       [7, 2, 6, 2],\n",
              "       [7, 1, 0, 6]])"
            ]
          },
          "metadata": {},
          "execution_count": 46
        }
      ]
    },
    {
      "cell_type": "code",
      "source": [
        "random_matriz=np.random.rand(3,2,1,2)\n",
        "print(random_matriz)\n",
        "print(random_matriz.shape)"
      ],
      "metadata": {
        "colab": {
          "base_uri": "https://localhost:8080/"
        },
        "id": "9U44wTADe0pt",
        "outputId": "0f82312d-4bec-4253-ee61-4e76215f1693"
      },
      "execution_count": 52,
      "outputs": [
        {
          "output_type": "stream",
          "name": "stdout",
          "text": [
            "[[[[2.84076340e-01 7.59430109e-01]]\n",
            "\n",
            "  [[5.62685874e-01 1.25089875e-04]]]\n",
            "\n",
            "\n",
            " [[[2.95208566e-01 7.56445298e-01]]\n",
            "\n",
            "  [[7.83705404e-01 5.62314611e-01]]]\n",
            "\n",
            "\n",
            " [[[7.61894933e-01 9.43242812e-01]]\n",
            "\n",
            "  [[7.27208851e-01 1.68516693e-01]]]]\n",
            "(3, 2, 1, 2)\n"
          ]
        }
      ]
    },
    {
      "cell_type": "code",
      "source": [
        "matriz4 = np.random.randint(0,10,(4,4))\n",
        "print(matriz4.shape)\n",
        "print(matriz4)\n",
        "print(np.linalg.inv(matriz4))\n",
        "print(np.linalg.det(matriz4))\n",
        "print(np.trace(matriz4))\n",
        "print(np.transpose(matriz4))"
      ],
      "metadata": {
        "colab": {
          "base_uri": "https://localhost:8080/"
        },
        "id": "2_g5r1e4fXGj",
        "outputId": "89cbdc36-d31f-401f-c14a-6a88449257ec"
      },
      "execution_count": 70,
      "outputs": [
        {
          "output_type": "stream",
          "name": "stdout",
          "text": [
            "(4, 4)\n",
            "[[4 3 0 7]\n",
            " [6 8 7 7]\n",
            " [8 6 2 5]\n",
            " [8 3 8 8]]\n",
            "[[-0.08531746 -0.1468254   0.19907407  0.0787037 ]\n",
            " [-0.01587302  0.15873016  0.03703704 -0.14814815]\n",
            " [-0.10714286  0.07142857 -0.08333333  0.08333333]\n",
            " [ 0.1984127   0.01587302 -0.12962963  0.01851852]]\n",
            "1511.9999999999993\n",
            "22\n",
            "[[4 6 8 8]\n",
            " [3 8 6 3]\n",
            " [0 7 2 8]\n",
            " [7 7 5 8]]\n"
          ]
        }
      ]
    },
    {
      "cell_type": "markdown",
      "source": [
        "### Ejercicio 3: Operaciones con Matrices\n",
        "\n",
        "- Crea una matriz 3x3 usando listas de listas.\n",
        "- Modifica un valor de la matriz y muestra la matriz actualizada.\n",
        "- Usa NumPy para crear una matriz 4x4 con números aleatorios enteros.\n",
        "- Realiza una operación de suma con la matriz (suma 5 a cada elemento).\n",
        "- Multiplica los elementos de la matriz por 2 usando NumPy."
      ],
      "metadata": {
        "id": "lR6HCR3DveEn"
      }
    },
    {
      "cell_type": "code",
      "source": [
        "import math\n",
        "import random\n",
        "\n",
        "matriz3 = []\n",
        "\n",
        "for i in range(3):\n",
        "  fila = []\n",
        "  for j in range(3):\n",
        "    fila.append(random.randint(0,10))\n",
        "  matriz3.append(fila)\n",
        "\n",
        "print(matriz3)\n",
        "\n",
        "matriz3[1][1] = 100\n",
        "print(matriz3)\n",
        "print('')\n",
        "matriz4 = np.random.randint(0,10,(4,4))\n",
        "print(matriz4)\n",
        "print('')\n",
        "print(matriz4 + 5)\n",
        "print('')\n",
        "print(matriz4 * 2)\n"
      ],
      "metadata": {
        "id": "7RMRCaRPvh1s",
        "outputId": "7eb8691c-6a82-45c5-90da-293d7af77d92",
        "colab": {
          "base_uri": "https://localhost:8080/"
        }
      },
      "execution_count": 127,
      "outputs": [
        {
          "output_type": "stream",
          "name": "stdout",
          "text": [
            "[[5, 5, 6], [3, 0, 8], [0, 5, 5]]\n",
            "[[5, 5, 6], [3, 100, 8], [0, 5, 5]]\n",
            "\n",
            "[[2 0 3 6]\n",
            " [0 9 9 0]\n",
            " [7 9 8 0]\n",
            " [8 1 4 4]]\n",
            "\n",
            "[[ 7  5  8 11]\n",
            " [ 5 14 14  5]\n",
            " [12 14 13  5]\n",
            " [13  6  9  9]]\n",
            "\n",
            "[[ 4  0  6 12]\n",
            " [ 0 18 18  0]\n",
            " [14 18 16  0]\n",
            " [16  2  8  8]]\n"
          ]
        }
      ]
    },
    {
      "cell_type": "markdown",
      "source": [
        "## 4. Desafío\n",
        "\n",
        "\n",
        "Eres el encargado de un almacén de productos electrónicos. Tienes un registro de ventas semanales para teléfonos, laptops y tabletas. Necesitas analizar las ventas para mejorar la gestión.\n",
        "\n",
        "- Crea tres listas: una para teléfonos, otra para laptops y otra para tabletas con las ventas de cada día durante una semana.\n",
        "- Usa slicing para obtener las ventas de los últimos 3 días de cada producto.\n",
        "- Usa listas por comprensión para calcular el total de ventas de cada producto y el promedio de ventas diarias.\n",
        "- Clasifica los productos en \"ventas altas\" o \"ventas bajas\" según si el promedio de ventas es mayor o menor a 5.\n",
        "\n",
        "Instrucciones:\n",
        "Usa sum() y len() para calcular el total de ventas y el promedio.\n",
        "Clasifica las ventas usando listas por comprensión."
      ],
      "metadata": {
        "id": "ROqSXb4Avk_T"
      }
    },
    {
      "cell_type": "code",
      "source": [
        "telefonos = [100,200,300,400,500]\n",
        "laptops = [1000,2000,3000,4000,5000]\n",
        "tablets = [10,20,30,40,50]\n",
        "\n",
        "print(f'Ultimos 3 dias')\n",
        "print(f'Telefonos: {telefonos[-3:]}')\n"
      ],
      "metadata": {
        "id": "93wXCVCZv4TT",
        "colab": {
          "base_uri": "https://localhost:8080/"
        },
        "outputId": "d5c85d40-f835-48c8-a838-71c6aa938e88"
      },
      "execution_count": null,
      "outputs": [
        {
          "output_type": "stream",
          "name": "stdout",
          "text": [
            "Ultimos 3 dias\n",
            "Telefonos: [300, 400, 500]\n"
          ]
        }
      ]
    },
    {
      "cell_type": "markdown",
      "source": [
        "---\n",
        "\n",
        "# Gracias por completar este laboratorio!\n",
        "\n",
        "---"
      ],
      "metadata": {
        "id": "qUpDNm7iv-Vh"
      }
    }
  ]
}