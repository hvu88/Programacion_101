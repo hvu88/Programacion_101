{
  "nbformat": 4,
  "nbformat_minor": 0,
  "metadata": {
    "colab": {
      "provenance": [],
      "authorship_tag": "ABX9TyNNSRFtHzWyZ0vUhKdMSrvO",
      "include_colab_link": true
    },
    "kernelspec": {
      "name": "python3",
      "display_name": "Python 3"
    },
    "language_info": {
      "name": "python"
    }
  },
  "cells": [
    {
      "cell_type": "markdown",
      "metadata": {
        "id": "view-in-github",
        "colab_type": "text"
      },
      "source": [
        "<a href=\"https://colab.research.google.com/github/hvu88/Programacion_101/blob/Parte2/Examen_3_Numpy.ipynb\" target=\"_parent\"><img src=\"https://colab.research.google.com/assets/colab-badge.svg\" alt=\"Open In Colab\"/></a>"
      ]
    },
    {
      "cell_type": "code",
      "source": [
        "import numpy as np"
      ],
      "metadata": {
        "id": "2d9rrSelLsCu"
      },
      "execution_count": 1,
      "outputs": []
    },
    {
      "cell_type": "markdown",
      "source": [
        "#Pregunta 1\n",
        "Crea un array unidimensional que contenga los números primos entre 1 y 50"
      ],
      "metadata": {
        "id": "j4EaB9xeLmo3"
      }
    },
    {
      "cell_type": "code",
      "execution_count": 2,
      "metadata": {
        "colab": {
          "base_uri": "https://localhost:8080/"
        },
        "id": "vprGYEWbLPaH",
        "outputId": "83a6cf07-8d34-43b1-a7a5-48c9dcf2c04d"
      },
      "outputs": [
        {
          "output_type": "execute_result",
          "data": {
            "text/plain": [
              "array([ 2,  3,  5,  7, 11, 13, 17, 19, 23, 29, 31, 37, 41, 43, 47])"
            ]
          },
          "metadata": {},
          "execution_count": 2
        }
      ],
      "source": [
        "array_unidimensional = np.array([2,3,5,7,11,13,17,19,23,29,31,37,41,43,47])\n",
        "array_unidimensional"
      ]
    },
    {
      "cell_type": "markdown",
      "source": [
        "Convierte el array unidimensional anterior en una matriz de forma (n, 2), donde n es el número adecuado de filas. Si es necesario, agrega ceros al final del\n",
        "array para completar la matriz."
      ],
      "metadata": {
        "id": "phAeMaTdMBTg"
      }
    },
    {
      "cell_type": "code",
      "source": [
        "if len(array_unidimensional) % 2 != 0:\n",
        "  array_unidimensional = np.append(array_unidimensional, 0)\n",
        "\n",
        "matriz = array_unidimensional.reshape(-1,2)\n",
        "matriz"
      ],
      "metadata": {
        "colab": {
          "base_uri": "https://localhost:8080/"
        },
        "id": "dzYniUO1MFQP",
        "outputId": "483ae47f-628d-4404-d2d2-cf32e92decdd"
      },
      "execution_count": 7,
      "outputs": [
        {
          "output_type": "execute_result",
          "data": {
            "text/plain": [
              "array([[ 2,  3],\n",
              "       [ 5,  7],\n",
              "       [11, 13],\n",
              "       [17, 19],\n",
              "       [23, 29],\n",
              "       [31, 37],\n",
              "       [41, 43],\n",
              "       [47,  0]])"
            ]
          },
          "metadata": {},
          "execution_count": 7
        }
      ]
    },
    {
      "cell_type": "markdown",
      "source": [
        "Calcula la suma de cada fila y crea un nuevo array que contenga estos valores."
      ],
      "metadata": {
        "id": "kOfVUvUdNdJ_"
      }
    },
    {
      "cell_type": "code",
      "source": [
        "suma_filas = np.sum(matriz, axis=1)\n",
        "suma_filas"
      ],
      "metadata": {
        "colab": {
          "base_uri": "https://localhost:8080/"
        },
        "id": "Vj9hhdK-NbGH",
        "outputId": "c31c5cbe-b176-41a7-9738-874976a62f87"
      },
      "execution_count": 8,
      "outputs": [
        {
          "output_type": "execute_result",
          "data": {
            "text/plain": [
              "array([ 5, 12, 24, 36, 52, 68, 84, 47])"
            ]
          },
          "metadata": {},
          "execution_count": 8
        }
      ]
    },
    {
      "cell_type": "markdown",
      "source": [
        "#Pregunta 2\n",
        "Crea un array bidimensional de forma (4, 4) que contenga números enteros aleatorios entre 1 y 100"
      ],
      "metadata": {
        "id": "n_QJJtPSNtNs"
      }
    },
    {
      "cell_type": "code",
      "source": [
        "array_bidimensional = np.random.randint(1, 101, size=(4, 4))\n",
        "array_bidimensional"
      ],
      "metadata": {
        "colab": {
          "base_uri": "https://localhost:8080/"
        },
        "id": "bA639U1fNxzQ",
        "outputId": "986042a5-e18b-4c64-ffc8-e6f5e4d57856"
      },
      "execution_count": 9,
      "outputs": [
        {
          "output_type": "execute_result",
          "data": {
            "text/plain": [
              "array([[37, 33, 93, 89],\n",
              "       [33, 23, 54, 40],\n",
              "       [46, 95, 58, 47],\n",
              "       [62, 14, 74, 14]])"
            ]
          },
          "metadata": {},
          "execution_count": 9
        }
      ]
    },
    {
      "cell_type": "markdown",
      "source": [
        " Cambia el tipo de datos del array a float64 y divide todos los elementos por 3.7."
      ],
      "metadata": {
        "id": "joC9BJTYN9e4"
      }
    },
    {
      "cell_type": "code",
      "source": [
        "array_bidimensional = array_bidimensional.astype(np.float64)\n",
        "array_bidimensional = array_bidimensional / 3.7\n",
        "array_bidimensional\n"
      ],
      "metadata": {
        "colab": {
          "base_uri": "https://localhost:8080/"
        },
        "id": "UYNM82EPOA1_",
        "outputId": "c760b555-558c-49dc-a7c4-bb6e648c368a"
      },
      "execution_count": 11,
      "outputs": [
        {
          "output_type": "execute_result",
          "data": {
            "text/plain": [
              "array([[2.7027027 , 2.41051863, 6.79327977, 6.50109569],\n",
              "       [2.41051863, 1.68005844, 3.94448503, 2.92184076],\n",
              "       [3.36011687, 6.9393718 , 4.2366691 , 3.43316289],\n",
              "       [4.52885318, 1.02264427, 5.40540541, 1.02264427]])"
            ]
          },
          "metadata": {},
          "execution_count": 11
        }
      ]
    },
    {
      "cell_type": "markdown",
      "source": [
        "Calcula y muestra las siguientes propiedades del array resultante"
      ],
      "metadata": {
        "id": "mxdEHr_-OaBM"
      }
    },
    {
      "cell_type": "code",
      "source": [
        "print(\"Array:\\n\", array_bidimensional)\n",
        "print(\"Dimensiones (ndim):\", array_bidimensional.ndim)\n",
        "print(\"Forma (shape):\", array_bidimensional.shape)\n",
        "print(\"Tamaño total (size):\", array_bidimensional.size)\n",
        "print(\"Tipo de datos (dtype):\", array_bidimensional.dtype)"
      ],
      "metadata": {
        "colab": {
          "base_uri": "https://localhost:8080/"
        },
        "id": "JK77j4NUOYw8",
        "outputId": "3c4c70b5-d0c0-4c55-87dd-de99b4754a2e"
      },
      "execution_count": 13,
      "outputs": [
        {
          "output_type": "stream",
          "name": "stdout",
          "text": [
            "Array:\n",
            " [[2.7027027  2.41051863 6.79327977 6.50109569]\n",
            " [2.41051863 1.68005844 3.94448503 2.92184076]\n",
            " [3.36011687 6.9393718  4.2366691  3.43316289]\n",
            " [4.52885318 1.02264427 5.40540541 1.02264427]]\n",
            "Dimensiones (ndim): 2\n",
            "Forma (shape): (4, 4)\n",
            "Tamaño total (size): 16\n",
            "Tipo de datos (dtype): float64\n"
          ]
        }
      ]
    },
    {
      "cell_type": "markdown",
      "source": [
        "#Pregunta 3\n",
        "Crea un array x que contenga 100 valores equiespaciados entre-10 y 10."
      ],
      "metadata": {
        "id": "GeUoB5s4OwsM"
      }
    },
    {
      "cell_type": "code",
      "source": [
        "array_equiespaciado = np.linspace(-10, 10, 100)\n",
        "array_equiespaciado"
      ],
      "metadata": {
        "colab": {
          "base_uri": "https://localhost:8080/"
        },
        "id": "5Ywl36OQOtqa",
        "outputId": "2d58727f-8605-426d-977c-c75045db124b"
      },
      "execution_count": 15,
      "outputs": [
        {
          "output_type": "execute_result",
          "data": {
            "text/plain": [
              "array([-10.        ,  -9.7979798 ,  -9.5959596 ,  -9.39393939,\n",
              "        -9.19191919,  -8.98989899,  -8.78787879,  -8.58585859,\n",
              "        -8.38383838,  -8.18181818,  -7.97979798,  -7.77777778,\n",
              "        -7.57575758,  -7.37373737,  -7.17171717,  -6.96969697,\n",
              "        -6.76767677,  -6.56565657,  -6.36363636,  -6.16161616,\n",
              "        -5.95959596,  -5.75757576,  -5.55555556,  -5.35353535,\n",
              "        -5.15151515,  -4.94949495,  -4.74747475,  -4.54545455,\n",
              "        -4.34343434,  -4.14141414,  -3.93939394,  -3.73737374,\n",
              "        -3.53535354,  -3.33333333,  -3.13131313,  -2.92929293,\n",
              "        -2.72727273,  -2.52525253,  -2.32323232,  -2.12121212,\n",
              "        -1.91919192,  -1.71717172,  -1.51515152,  -1.31313131,\n",
              "        -1.11111111,  -0.90909091,  -0.70707071,  -0.50505051,\n",
              "        -0.3030303 ,  -0.1010101 ,   0.1010101 ,   0.3030303 ,\n",
              "         0.50505051,   0.70707071,   0.90909091,   1.11111111,\n",
              "         1.31313131,   1.51515152,   1.71717172,   1.91919192,\n",
              "         2.12121212,   2.32323232,   2.52525253,   2.72727273,\n",
              "         2.92929293,   3.13131313,   3.33333333,   3.53535354,\n",
              "         3.73737374,   3.93939394,   4.14141414,   4.34343434,\n",
              "         4.54545455,   4.74747475,   4.94949495,   5.15151515,\n",
              "         5.35353535,   5.55555556,   5.75757576,   5.95959596,\n",
              "         6.16161616,   6.36363636,   6.56565657,   6.76767677,\n",
              "         6.96969697,   7.17171717,   7.37373737,   7.57575758,\n",
              "         7.77777778,   7.97979798,   8.18181818,   8.38383838,\n",
              "         8.58585859,   8.78787879,   8.98989899,   9.19191919,\n",
              "         9.39393939,   9.5959596 ,   9.7979798 ,  10.        ])"
            ]
          },
          "metadata": {},
          "execution_count": 15
        }
      ]
    },
    {
      "cell_type": "markdown",
      "source": [
        "Calcula el valor de la función f(x)=e**(-x**2) para cada elemento de x"
      ],
      "metadata": {
        "id": "6uXtlQUnPVuO"
      }
    },
    {
      "cell_type": "code",
      "source": [
        "valor_funcion = np.exp(-array_equiespaciado**2)\n",
        "valor_funcion"
      ],
      "metadata": {
        "colab": {
          "base_uri": "https://localhost:8080/"
        },
        "id": "4pU9-9PZPWgk",
        "outputId": "a82e4831-8745-40e8-dc7a-347c65d1ab6a"
      },
      "execution_count": 16,
      "outputs": [
        {
          "output_type": "execute_result",
          "data": {
            "text/plain": [
              "array([3.72007598e-44, 2.03026390e-42, 1.02118442e-40, 4.73376699e-39,\n",
              "       2.02236984e-37, 7.96279046e-36, 2.88948872e-34, 9.66335032e-33,\n",
              "       2.97841666e-31, 8.46046409e-30, 2.21489900e-28, 5.34397817e-27,\n",
              "       1.18830091e-25, 2.43522554e-24, 4.59941880e-23, 8.00603952e-22,\n",
              "       1.28435035e-20, 1.89889213e-19, 2.58742690e-18, 3.24927813e-17,\n",
              "       3.76059612e-16, 4.01122945e-15, 3.94320471e-14, 3.57249927e-13,\n",
              "       2.98295005e-12, 2.29546576e-11, 1.62797100e-10, 1.06407812e-09,\n",
              "       6.40990174e-09, 3.55860870e-08, 1.82079103e-07, 8.58600196e-07,\n",
              "       3.73140910e-06, 1.49453385e-05, 5.51683065e-05, 1.87682835e-04,\n",
              "       5.88451217e-04, 1.70038545e-03, 4.52830117e-03, 1.11140983e-02,\n",
              "       2.51399360e-02, 5.24089078e-02, 1.00692485e-01, 1.78295348e-01,\n",
              "       2.90960459e-01, 4.37601640e-01, 6.06561603e-01, 7.74857597e-01,\n",
              "       9.12262625e-01, 9.89848834e-01, 9.89848834e-01, 9.12262625e-01,\n",
              "       7.74857597e-01, 6.06561603e-01, 4.37601640e-01, 2.90960459e-01,\n",
              "       1.78295348e-01, 1.00692485e-01, 5.24089078e-02, 2.51399360e-02,\n",
              "       1.11140983e-02, 4.52830117e-03, 1.70038545e-03, 5.88451217e-04,\n",
              "       1.87682835e-04, 5.51683065e-05, 1.49453385e-05, 3.73140910e-06,\n",
              "       8.58600196e-07, 1.82079103e-07, 3.55860870e-08, 6.40990174e-09,\n",
              "       1.06407812e-09, 1.62797100e-10, 2.29546576e-11, 2.98295005e-12,\n",
              "       3.57249927e-13, 3.94320471e-14, 4.01122945e-15, 3.76059612e-16,\n",
              "       3.24927813e-17, 2.58742690e-18, 1.89889213e-19, 1.28435035e-20,\n",
              "       8.00603952e-22, 4.59941880e-23, 2.43522554e-24, 1.18830091e-25,\n",
              "       5.34397817e-27, 2.21489900e-28, 8.46046409e-30, 2.97841666e-31,\n",
              "       9.66335032e-33, 2.88948872e-34, 7.96279046e-36, 2.02236984e-37,\n",
              "       4.73376699e-39, 1.02118442e-40, 2.03026390e-42, 3.72007598e-44])"
            ]
          },
          "metadata": {},
          "execution_count": 16
        }
      ]
    },
    {
      "cell_type": "markdown",
      "source": [
        "Encuentra el valor máximo y mínimo de f(x) y las posiciones en el array donde ocurren"
      ],
      "metadata": {
        "id": "LEmQ_9jyPkhB"
      }
    },
    {
      "cell_type": "code",
      "source": [
        "valor_maximo = np.max(valor_funcion)\n",
        "valor_minimo = np.min(valor_funcion)\n",
        "posicion_maximo = np.unravel_index(np.argmax(valor_funcion),valor_funcion.shape)\n",
        "posicion_minimo = np.unravel_index(np.argmin(valor_funcion),valor_funcion.shape)\n",
        "\n",
        "print(\"Valor máximo:\", valor_maximo)\n",
        "print(\"Posición del valor máximo:\", posicion_maximo)\n",
        "print(\"Valor mínimo:\", valor_minimo)\n",
        "print(\"Posición del valor mínimo:\", posicion_minimo)"
      ],
      "metadata": {
        "colab": {
          "base_uri": "https://localhost:8080/"
        },
        "id": "twCbd_gAPlRd",
        "outputId": "2ec850c1-fa8b-46ef-d9ac-c03886fd0b0e"
      },
      "execution_count": 26,
      "outputs": [
        {
          "output_type": "stream",
          "name": "stdout",
          "text": [
            "Valor máximo: 0.9898488339361309\n",
            "Posición del valor máximo: (49,)\n",
            "Valor mínimo: 3.720075976020836e-44\n",
            "Posición del valor mínimo: (0,)\n"
          ]
        }
      ]
    },
    {
      "cell_type": "markdown",
      "source": [
        "#Pregunta 4\n"
      ],
      "metadata": {
        "id": "lQ2YRmLvQgjg"
      }
    },
    {
      "cell_type": "code",
      "source": [
        "array_original = np.arange(1, 101).reshape(10, 10)\n",
        "print(array_original)"
      ],
      "metadata": {
        "colab": {
          "base_uri": "https://localhost:8080/"
        },
        "id": "yuztM8OEQlNm",
        "outputId": "1a45fc3b-a14a-42cd-a831-0df24a39e67a"
      },
      "execution_count": 35,
      "outputs": [
        {
          "output_type": "stream",
          "name": "stdout",
          "text": [
            "[[  1   2  -1   4   5   6   7   8  -1  10]\n",
            " [ 11  12  13  14  15  16  17  18  19  20]\n",
            " [ -1  22  23  24  25  26  -1  28  29  30]\n",
            " [ 31  32  33  34  35  36  37  38  39  40]\n",
            " [ 41  42  43  44  -1  46  47  48  49  50]\n",
            " [ 51  52  53  54  55  56  57  58  59  60]\n",
            " [ 61  62  -1  64  65  66  67  68  -1  70]\n",
            " [ 71  72  73  74  75  76  77  78  79  80]\n",
            " [ -1  82  83  84  85  86  -1  88  89  90]\n",
            " [ 91  92  93  94  95  96  97  98  99 100]]\n"
          ]
        }
      ]
    },
    {
      "cell_type": "markdown",
      "source": [
        " Extrae un subarray que contenga los elementos en posiciones pares de filas y columnas (es decir, filas y\n",
        " columnas con índices 0, 2, 4, 6, 8)"
      ],
      "metadata": {
        "id": "mgN49kHBQl5I"
      }
    },
    {
      "cell_type": "code",
      "source": [
        "nuevo_array = array_original[::2, ::2]\n",
        "nuevo_array"
      ],
      "metadata": {
        "colab": {
          "base_uri": "https://localhost:8080/"
        },
        "id": "rCUD7dtzQoQP",
        "outputId": "2cfee83e-df9e-4806-bb6a-468a452bb081"
      },
      "execution_count": 36,
      "outputs": [
        {
          "output_type": "execute_result",
          "data": {
            "text/plain": [
              "array([[ 1,  3,  5,  7,  9],\n",
              "       [21, 23, 25, 27, 29],\n",
              "       [41, 43, 45, 47, 49],\n",
              "       [61, 63, 65, 67, 69],\n",
              "       [81, 83, 85, 87, 89]])"
            ]
          },
          "metadata": {},
          "execution_count": 36
        }
      ]
    },
    {
      "cell_type": "markdown",
      "source": [
        "Reemplaza todos los elementos que son múltiplos de 3 por-1"
      ],
      "metadata": {
        "id": "8pIy8Rl_R_0p"
      }
    },
    {
      "cell_type": "code",
      "source": [
        "if np.any(nuevo_array % 3 == 0):\n",
        "  nuevo_array[nuevo_array % 3 == 0] = -1\n",
        "nuevo_array"
      ],
      "metadata": {
        "colab": {
          "base_uri": "https://localhost:8080/"
        },
        "id": "wTCkBP8pR95-",
        "outputId": "d5e1c069-f8df-4070-e1cf-3909ab1d2522"
      },
      "execution_count": 37,
      "outputs": [
        {
          "output_type": "execute_result",
          "data": {
            "text/plain": [
              "array([[ 1, -1,  5,  7, -1],\n",
              "       [-1, 23, 25, -1, 29],\n",
              "       [41, 43, -1, 47, 49],\n",
              "       [61, -1, 65, 67, -1],\n",
              "       [-1, 83, 85, -1, 89]])"
            ]
          },
          "metadata": {},
          "execution_count": 37
        }
      ]
    },
    {
      "cell_type": "markdown",
      "source": [
        "Utiliza indexación avanzada para extraer todos los números primos del array original y crea un nuevo array\n",
        " con estos valores"
      ],
      "metadata": {
        "id": "YB2VC-gVSWug"
      }
    },
    {
      "cell_type": "code",
      "source": [
        "def es_primo(num):\n",
        "    if num < 2:\n",
        "        return False\n",
        "    for i in range(2, int(np.sqrt(num)) + 1):\n",
        "        if num % i == 0:\n",
        "            return False\n",
        "    return True\n",
        "\n",
        "array_primos = array_original[np.vectorize(es_primo)(array_original)]\n",
        "array_primos"
      ],
      "metadata": {
        "colab": {
          "base_uri": "https://localhost:8080/"
        },
        "id": "rzDe0Mq_SVNP",
        "outputId": "20cd7f0c-9d4a-4ed6-e5f7-96d08d6ee170"
      },
      "execution_count": 48,
      "outputs": [
        {
          "output_type": "execute_result",
          "data": {
            "text/plain": [
              "array([ 2,  5,  7, 11, 13, 17, 19, 23, 29, 31, 37, 41, 43, 47, 53, 59, 61,\n",
              "       67, 71, 73, 79, 83, 89, 97])"
            ]
          },
          "metadata": {},
          "execution_count": 48
        }
      ]
    },
    {
      "cell_type": "markdown",
      "source": [
        "#Pregunta 5\n",
        "Crea tres arrays unidimensionales de longitud 5 con números aleatorios entre 0 y 1."
      ],
      "metadata": {
        "id": "qrjFsH-FTs81"
      }
    },
    {
      "cell_type": "code",
      "source": [
        "array1 = np.random.rand(5)\n",
        "array2 = np.random.rand(5)\n",
        "array3 = np.random.rand(5)\n",
        "print(array1)\n",
        "print(array2)\n",
        "print(array3)"
      ],
      "metadata": {
        "colab": {
          "base_uri": "https://localhost:8080/"
        },
        "id": "f-aFUZEuTnJB",
        "outputId": "94f8995a-cc74-4c37-f749-40b7c13e2cc4"
      },
      "execution_count": 46,
      "outputs": [
        {
          "output_type": "stream",
          "name": "stdout",
          "text": [
            "[0.36233294 0.01784571 0.96679606 0.4655367  0.38932105]\n",
            "[0.23859532 0.72963558 0.29925118 0.16275434 0.944119  ]\n",
            "[0.92043496 0.3756425  0.25185521 0.17149677 0.00987054]\n"
          ]
        }
      ]
    },
    {
      "cell_type": "markdown",
      "source": [
        "Combina estos arrays para formar una matriz de forma (5, 3)"
      ],
      "metadata": {
        "id": "woJc8mP8T7xr"
      }
    },
    {
      "cell_type": "code",
      "source": [
        "matriz = np.column_stack((array1, array2, array3))\n",
        "matriz"
      ],
      "metadata": {
        "colab": {
          "base_uri": "https://localhost:8080/"
        },
        "id": "lKYjZMRKT8W8",
        "outputId": "f6eeb35b-660c-4e5a-abea-8ce77c1cde6b"
      },
      "execution_count": 47,
      "outputs": [
        {
          "output_type": "execute_result",
          "data": {
            "text/plain": [
              "array([[0.36233294, 0.23859532, 0.92043496],\n",
              "       [0.01784571, 0.72963558, 0.3756425 ],\n",
              "       [0.96679606, 0.29925118, 0.25185521],\n",
              "       [0.4655367 , 0.16275434, 0.17149677],\n",
              "       [0.38932105, 0.944119  , 0.00987054]])"
            ]
          },
          "metadata": {},
          "execution_count": 47
        }
      ]
    },
    {
      "cell_type": "markdown",
      "source": [
        " Agrega una columna de unos al principio de la matriz resultante, obteniendo una matriz de forma (5, 4)"
      ],
      "metadata": {
        "id": "FDKptvsYVFY4"
      }
    },
    {
      "cell_type": "code",
      "source": [
        "nueva_matriz = np.column_stack((np.ones((5, 1)), matriz))\n",
        "nueva_matriz"
      ],
      "metadata": {
        "colab": {
          "base_uri": "https://localhost:8080/"
        },
        "id": "47Y3Au6vVGHi",
        "outputId": "c9696154-76ae-4dcb-8ff8-642e8b7d01ac"
      },
      "execution_count": 49,
      "outputs": [
        {
          "output_type": "execute_result",
          "data": {
            "text/plain": [
              "array([[1.        , 0.36233294, 0.23859532, 0.92043496],\n",
              "       [1.        , 0.01784571, 0.72963558, 0.3756425 ],\n",
              "       [1.        , 0.96679606, 0.29925118, 0.25185521],\n",
              "       [1.        , 0.4655367 , 0.16275434, 0.17149677],\n",
              "       [1.        , 0.38932105, 0.944119  , 0.00987054]])"
            ]
          },
          "metadata": {},
          "execution_count": 49
        }
      ]
    },
    {
      "cell_type": "markdown",
      "source": [
        "Reordena las columnas de la matriz para que la columna de unos esté al final"
      ],
      "metadata": {
        "id": "ZeX_LaWLVQRN"
      }
    },
    {
      "cell_type": "code",
      "source": [
        "matriz_ordenada = nueva_matriz[:, [1, 2, 3, 0]]\n",
        "matriz_ordenada"
      ],
      "metadata": {
        "colab": {
          "base_uri": "https://localhost:8080/"
        },
        "id": "2sXJjonRVQ9P",
        "outputId": "7d7a35df-a178-4b20-c73b-b5a62d903aee"
      },
      "execution_count": 52,
      "outputs": [
        {
          "output_type": "execute_result",
          "data": {
            "text/plain": [
              "array([[0.36233294, 0.23859532, 0.92043496, 1.        ],\n",
              "       [0.01784571, 0.72963558, 0.3756425 , 1.        ],\n",
              "       [0.96679606, 0.29925118, 0.25185521, 1.        ],\n",
              "       [0.4655367 , 0.16275434, 0.17149677, 1.        ],\n",
              "       [0.38932105, 0.944119  , 0.00987054, 1.        ]])"
            ]
          },
          "metadata": {},
          "execution_count": 52
        }
      ]
    },
    {
      "cell_type": "markdown",
      "source": [
        "#Pregunta 6\n",
        "Crea una matriz simétrica positiva definida de tamaño 3x3."
      ],
      "metadata": {
        "id": "dlIwimSjVfWD"
      }
    },
    {
      "cell_type": "code",
      "source": [
        "matriz_simetrica = np.array([[1, 2, 3],\n",
        "                             [2, 4, 5],\n",
        "                             [3, 5, 6]])\n",
        "matriz_simetrica"
      ],
      "metadata": {
        "colab": {
          "base_uri": "https://localhost:8080/"
        },
        "id": "0ij64nISVjcf",
        "outputId": "b0c85a5f-a921-4d90-e78d-6d4ca4b2df44"
      },
      "execution_count": 54,
      "outputs": [
        {
          "output_type": "execute_result",
          "data": {
            "text/plain": [
              "array([[1, 2, 3],\n",
              "       [2, 4, 5],\n",
              "       [3, 5, 6]])"
            ]
          },
          "metadata": {},
          "execution_count": 54
        }
      ]
    },
    {
      "cell_type": "code",
      "source": [
        "valores_propios, vectores_propios = np.linalg.eig(matriz_simetrica)\n",
        "print(\"Valores propios:\", valores_propios)\n",
        "print(\"Vectores propios:\\n\", vectores_propios)"
      ],
      "metadata": {
        "colab": {
          "base_uri": "https://localhost:8080/"
        },
        "id": "an8VPUn3Vy1e",
        "outputId": "5b943d75-0ed7-4e0c-b08c-d02f18332dd8"
      },
      "execution_count": 56,
      "outputs": [
        {
          "output_type": "stream",
          "name": "stdout",
          "text": [
            "Valores propios: [11.34481428 -0.51572947  0.17091519]\n",
            "Vectores propios:\n",
            " [[-0.32798528 -0.73697623  0.59100905]\n",
            " [-0.59100905 -0.32798528 -0.73697623]\n",
            " [-0.73697623  0.59100905  0.32798528]]\n"
          ]
        }
      ]
    },
    {
      "cell_type": "markdown",
      "source": [
        "Verifica que la multiplicación de la matriz original por un vector propio es igual al producto del eigenvalor\n",
        " correspondiente por el vector propio"
      ],
      "metadata": {
        "id": "md43Wne_V_L4"
      }
    },
    {
      "cell_type": "code",
      "source": [
        "vector_propio = vectores_propios[:, 0]\n",
        "valor_propio = valores_propios[0]\n",
        "\n",
        "resultado_1 = np.dot(matriz_simetrica, vector_propio)\n",
        "resultado_2 = valor_propio * vector_propio\n",
        "\n",
        "print(resultado_1)\n",
        "print(resultado_2)"
      ],
      "metadata": {
        "colab": {
          "base_uri": "https://localhost:8080/"
        },
        "id": "nxg9O9OqV9Tz",
        "outputId": "4d0c9588-37aa-4aaa-b348-ef828e251374"
      },
      "execution_count": 111,
      "outputs": [
        {
          "output_type": "stream",
          "name": "stdout",
          "text": [
            "[-3.72093206 -6.70488789 -8.36085845]\n",
            "[-3.72093206 -6.70488789 -8.36085845]\n"
          ]
        }
      ]
    },
    {
      "cell_type": "markdown",
      "source": [
        "#Pregunta 7\n",
        " Construye un sistema de ecuaciones lineales con tres ecuaciones y tres incógnitas donde la matriz de\n",
        " coeficientes es singular (no invertible)."
      ],
      "metadata": {
        "id": "ID2N5iUnXimv"
      }
    },
    {
      "cell_type": "code",
      "source": [
        "A = np.array([[1, 2, 3], [2, 4, 6], [3, 6, 9]])\n",
        "B = np.array([5, 6, -4])\n",
        "\n",
        "determinante = np.linalg.det(A)\n",
        "print(\"Determinante:\", determinante)"
      ],
      "metadata": {
        "colab": {
          "base_uri": "https://localhost:8080/"
        },
        "id": "y2t1NnQAWggO",
        "outputId": "637c0ac9-8f75-43cb-c4a1-fc4fc0fdfdba"
      },
      "execution_count": 73,
      "outputs": [
        {
          "output_type": "stream",
          "name": "stdout",
          "text": [
            "Determinante: 0.0\n"
          ]
        }
      ]
    },
    {
      "cell_type": "code",
      "source": [
        "solution = np.linalg.solve(A, B)\n",
        "print(\"Solución del sistema:\", solution)\n",
        "\n",
        "#No se resuelve porque el determinante es 0, la matriz de coeficientes no tiene inversa."
      ],
      "metadata": {
        "colab": {
          "base_uri": "https://localhost:8080/",
          "height": 339
        },
        "id": "2s56CrvgZGDu",
        "outputId": "1afca73e-6928-49a2-afd8-400ca57df647"
      },
      "execution_count": 75,
      "outputs": [
        {
          "output_type": "error",
          "ename": "LinAlgError",
          "evalue": "Singular matrix",
          "traceback": [
            "\u001b[0;31m---------------------------------------------------------------------------\u001b[0m",
            "\u001b[0;31mLinAlgError\u001b[0m                               Traceback (most recent call last)",
            "\u001b[0;32m<ipython-input-75-c797b335b40a>\u001b[0m in \u001b[0;36m<cell line: 1>\u001b[0;34m()\u001b[0m\n\u001b[0;32m----> 1\u001b[0;31m \u001b[0msolution\u001b[0m \u001b[0;34m=\u001b[0m \u001b[0mnp\u001b[0m\u001b[0;34m.\u001b[0m\u001b[0mlinalg\u001b[0m\u001b[0;34m.\u001b[0m\u001b[0msolve\u001b[0m\u001b[0;34m(\u001b[0m\u001b[0mA\u001b[0m\u001b[0;34m,\u001b[0m \u001b[0mB\u001b[0m\u001b[0;34m)\u001b[0m\u001b[0;34m\u001b[0m\u001b[0;34m\u001b[0m\u001b[0m\n\u001b[0m\u001b[1;32m      2\u001b[0m \u001b[0mprint\u001b[0m\u001b[0;34m(\u001b[0m\u001b[0;34m\"Solución del sistema:\"\u001b[0m\u001b[0;34m,\u001b[0m \u001b[0msolution\u001b[0m\u001b[0;34m)\u001b[0m\u001b[0;34m\u001b[0m\u001b[0;34m\u001b[0m\u001b[0m\n\u001b[1;32m      3\u001b[0m \u001b[0;34m\u001b[0m\u001b[0m\n\u001b[1;32m      4\u001b[0m \u001b[0;31m#No se resuelve porque el determinante es 0, la matriz de coeficientes no tiene inversa.\u001b[0m\u001b[0;34m\u001b[0m\u001b[0;34m\u001b[0m\u001b[0m\n",
            "\u001b[0;32m/usr/local/lib/python3.10/dist-packages/numpy/linalg/linalg.py\u001b[0m in \u001b[0;36msolve\u001b[0;34m(a, b)\u001b[0m\n\u001b[1;32m    407\u001b[0m     \u001b[0msignature\u001b[0m \u001b[0;34m=\u001b[0m \u001b[0;34m'DD->D'\u001b[0m \u001b[0;32mif\u001b[0m \u001b[0misComplexType\u001b[0m\u001b[0;34m(\u001b[0m\u001b[0mt\u001b[0m\u001b[0;34m)\u001b[0m \u001b[0;32melse\u001b[0m \u001b[0;34m'dd->d'\u001b[0m\u001b[0;34m\u001b[0m\u001b[0;34m\u001b[0m\u001b[0m\n\u001b[1;32m    408\u001b[0m     \u001b[0mextobj\u001b[0m \u001b[0;34m=\u001b[0m \u001b[0mget_linalg_error_extobj\u001b[0m\u001b[0;34m(\u001b[0m\u001b[0m_raise_linalgerror_singular\u001b[0m\u001b[0;34m)\u001b[0m\u001b[0;34m\u001b[0m\u001b[0;34m\u001b[0m\u001b[0m\n\u001b[0;32m--> 409\u001b[0;31m     \u001b[0mr\u001b[0m \u001b[0;34m=\u001b[0m \u001b[0mgufunc\u001b[0m\u001b[0;34m(\u001b[0m\u001b[0ma\u001b[0m\u001b[0;34m,\u001b[0m \u001b[0mb\u001b[0m\u001b[0;34m,\u001b[0m \u001b[0msignature\u001b[0m\u001b[0;34m=\u001b[0m\u001b[0msignature\u001b[0m\u001b[0;34m,\u001b[0m \u001b[0mextobj\u001b[0m\u001b[0;34m=\u001b[0m\u001b[0mextobj\u001b[0m\u001b[0;34m)\u001b[0m\u001b[0;34m\u001b[0m\u001b[0;34m\u001b[0m\u001b[0m\n\u001b[0m\u001b[1;32m    410\u001b[0m \u001b[0;34m\u001b[0m\u001b[0m\n\u001b[1;32m    411\u001b[0m     \u001b[0;32mreturn\u001b[0m \u001b[0mwrap\u001b[0m\u001b[0;34m(\u001b[0m\u001b[0mr\u001b[0m\u001b[0;34m.\u001b[0m\u001b[0mastype\u001b[0m\u001b[0;34m(\u001b[0m\u001b[0mresult_t\u001b[0m\u001b[0;34m,\u001b[0m \u001b[0mcopy\u001b[0m\u001b[0;34m=\u001b[0m\u001b[0;32mFalse\u001b[0m\u001b[0;34m)\u001b[0m\u001b[0;34m)\u001b[0m\u001b[0;34m\u001b[0m\u001b[0;34m\u001b[0m\u001b[0m\n",
            "\u001b[0;32m/usr/local/lib/python3.10/dist-packages/numpy/linalg/linalg.py\u001b[0m in \u001b[0;36m_raise_linalgerror_singular\u001b[0;34m(err, flag)\u001b[0m\n\u001b[1;32m    110\u001b[0m \u001b[0;34m\u001b[0m\u001b[0m\n\u001b[1;32m    111\u001b[0m \u001b[0;32mdef\u001b[0m \u001b[0m_raise_linalgerror_singular\u001b[0m\u001b[0;34m(\u001b[0m\u001b[0merr\u001b[0m\u001b[0;34m,\u001b[0m \u001b[0mflag\u001b[0m\u001b[0;34m)\u001b[0m\u001b[0;34m:\u001b[0m\u001b[0;34m\u001b[0m\u001b[0;34m\u001b[0m\u001b[0m\n\u001b[0;32m--> 112\u001b[0;31m     \u001b[0;32mraise\u001b[0m \u001b[0mLinAlgError\u001b[0m\u001b[0;34m(\u001b[0m\u001b[0;34m\"Singular matrix\"\u001b[0m\u001b[0;34m)\u001b[0m\u001b[0;34m\u001b[0m\u001b[0;34m\u001b[0m\u001b[0m\n\u001b[0m\u001b[1;32m    113\u001b[0m \u001b[0;34m\u001b[0m\u001b[0m\n\u001b[1;32m    114\u001b[0m \u001b[0;32mdef\u001b[0m \u001b[0m_raise_linalgerror_nonposdef\u001b[0m\u001b[0;34m(\u001b[0m\u001b[0merr\u001b[0m\u001b[0;34m,\u001b[0m \u001b[0mflag\u001b[0m\u001b[0;34m)\u001b[0m\u001b[0;34m:\u001b[0m\u001b[0;34m\u001b[0m\u001b[0;34m\u001b[0m\u001b[0m\n",
            "\u001b[0;31mLinAlgError\u001b[0m: Singular matrix"
          ]
        }
      ]
    },
    {
      "cell_type": "markdown",
      "source": [
        "#Pregunta 8\n",
        "Crea un array de forma (4, 4, 4) con números enteros aleatorios entre 0 y 100."
      ],
      "metadata": {
        "id": "Lg-raPnBZh62"
      }
    },
    {
      "cell_type": "code",
      "source": [
        "array_aleatorio = np.random.randint(0, 101, size=(4, 4, 4))\n",
        "array_aleatorio"
      ],
      "metadata": {
        "colab": {
          "base_uri": "https://localhost:8080/"
        },
        "id": "3NxRFM7kZhC3",
        "outputId": "3389322d-e083-42c8-b1b9-70848da55d94"
      },
      "execution_count": 76,
      "outputs": [
        {
          "output_type": "execute_result",
          "data": {
            "text/plain": [
              "array([[[ 60,   7,  87,  24],\n",
              "        [ 54,  84,  39,  51],\n",
              "        [ 48,  36,  28, 100],\n",
              "        [ 28,  85,  55,  75]],\n",
              "\n",
              "       [[ 43,  70,  92,   4],\n",
              "        [ 45,  10,  45,  88],\n",
              "        [ 89,  65,  95,  43],\n",
              "        [  5,  16,  22,  20]],\n",
              "\n",
              "       [[ 98,  94,  87,  14],\n",
              "        [ 77,  96,  17,  69],\n",
              "        [ 68,  41,   4,  99],\n",
              "        [ 36,  45,  12,  61]],\n",
              "\n",
              "       [[ 65,  63,  32,  88],\n",
              "        [ 15,   2,  68,  75],\n",
              "        [ 75,  79,  36,   0],\n",
              "        [  5,  28,  21,  66]]])"
            ]
          },
          "metadata": {},
          "execution_count": 76
        }
      ]
    },
    {
      "cell_type": "markdown",
      "source": [
        "Calcula la suma a lo largo del eje 0, obteniendo un array de forma (4, 4)."
      ],
      "metadata": {
        "id": "fZBxED97ZtMn"
      }
    },
    {
      "cell_type": "code",
      "source": [
        "suma_eje_0 = np.sum(array_aleatorio, axis=0)\n",
        "suma_eje_0"
      ],
      "metadata": {
        "colab": {
          "base_uri": "https://localhost:8080/"
        },
        "id": "a8edh6xDZt6h",
        "outputId": "4b9cf207-d7a5-46d0-d774-67c881c3d501"
      },
      "execution_count": 77,
      "outputs": [
        {
          "output_type": "execute_result",
          "data": {
            "text/plain": [
              "array([[266, 234, 298, 130],\n",
              "       [191, 192, 169, 283],\n",
              "       [280, 221, 163, 242],\n",
              "       [ 74, 174, 110, 222]])"
            ]
          },
          "metadata": {},
          "execution_count": 77
        }
      ]
    },
    {
      "cell_type": "markdown",
      "source": [
        " Calcula el promedio a lo largo del eje 1, obteniendo un array de forma (4, 4)."
      ],
      "metadata": {
        "id": "-G8dJ6rSZ2g1"
      }
    },
    {
      "cell_type": "code",
      "source": [
        "promedio_eje_1 = np.mean(array_aleatorio, axis=1)\n",
        "promedio_eje_1"
      ],
      "metadata": {
        "colab": {
          "base_uri": "https://localhost:8080/"
        },
        "id": "Ds8UBZO3Z3aG",
        "outputId": "74b9e265-293f-4228-cfb3-157f080071f5"
      },
      "execution_count": 78,
      "outputs": [
        {
          "output_type": "execute_result",
          "data": {
            "text/plain": [
              "array([[47.5 , 53.  , 52.25, 62.5 ],\n",
              "       [45.5 , 40.25, 63.5 , 38.75],\n",
              "       [69.75, 69.  , 30.  , 60.75],\n",
              "       [40.  , 43.  , 39.25, 57.25]])"
            ]
          },
          "metadata": {},
          "execution_count": 78
        }
      ]
    },
    {
      "cell_type": "markdown",
      "source": [
        "Reestructura el array original en una nueva forma de (8, 8) sin perder datos."
      ],
      "metadata": {
        "id": "F366_P2aZ7qN"
      }
    },
    {
      "cell_type": "code",
      "source": [
        "nuevo_array = array_aleatorio.reshape(8, 8)\n",
        "nuevo_array"
      ],
      "metadata": {
        "colab": {
          "base_uri": "https://localhost:8080/"
        },
        "id": "B7QqmI8jZ9D8",
        "outputId": "e174815b-b52a-4064-9e51-89aa725cc5a6"
      },
      "execution_count": 79,
      "outputs": [
        {
          "output_type": "execute_result",
          "data": {
            "text/plain": [
              "array([[ 60,   7,  87,  24,  54,  84,  39,  51],\n",
              "       [ 48,  36,  28, 100,  28,  85,  55,  75],\n",
              "       [ 43,  70,  92,   4,  45,  10,  45,  88],\n",
              "       [ 89,  65,  95,  43,   5,  16,  22,  20],\n",
              "       [ 98,  94,  87,  14,  77,  96,  17,  69],\n",
              "       [ 68,  41,   4,  99,  36,  45,  12,  61],\n",
              "       [ 65,  63,  32,  88,  15,   2,  68,  75],\n",
              "       [ 75,  79,  36,   0,   5,  28,  21,  66]])"
            ]
          },
          "metadata": {},
          "execution_count": 79
        }
      ]
    },
    {
      "cell_type": "markdown",
      "source": [
        "#Pregunta9\n",
        " Usando NumPy, crea un array que contenga los primeros 10 elementos de esta secuencia sin utilizar bucles\n",
        " explícitos."
      ],
      "metadata": {
        "id": "Teh3LDdgb0wC"
      }
    },
    {
      "cell_type": "code",
      "source": [
        "array_factorial10 = np.array([np.math.factorial(i) for i in range(10)])\n",
        "array_factorial10"
      ],
      "metadata": {
        "colab": {
          "base_uri": "https://localhost:8080/"
        },
        "id": "W61cSsGpcND2",
        "outputId": "a0e0f211-af30-44d6-ee15-1f6c33bedc67"
      },
      "execution_count": 96,
      "outputs": [
        {
          "output_type": "stream",
          "name": "stderr",
          "text": [
            "<ipython-input-96-5756d83c2105>:1: DeprecationWarning: `np.math` is a deprecated alias for the standard library `math` module (Deprecated Numpy 1.25). Replace usages of `np.math` with `math`\n",
            "  array_factorial10 = np.array([np.math.factorial(i) for i in range(10)])\n"
          ]
        },
        {
          "output_type": "execute_result",
          "data": {
            "text/plain": [
              "array([     1,      1,      2,      6,     24,    120,    720,   5040,\n",
              "        40320, 362880])"
            ]
          },
          "metadata": {},
          "execution_count": 96
        }
      ]
    },
    {
      "cell_type": "markdown",
      "source": [
        " Calcula la suma de todos los elementos del array creado"
      ],
      "metadata": {
        "id": "TSV_3-bUcXeg"
      }
    },
    {
      "cell_type": "code",
      "source": [
        "suma_array = np.sum(array_factorial10)\n",
        "suma_array"
      ],
      "metadata": {
        "colab": {
          "base_uri": "https://localhost:8080/"
        },
        "id": "NKohX7pCcXGZ",
        "outputId": "251f61ba-2d28-4580-aeec-53158db31b5f"
      },
      "execution_count": 97,
      "outputs": [
        {
          "output_type": "execute_result",
          "data": {
            "text/plain": [
              "409114"
            ]
          },
          "metadata": {},
          "execution_count": 97
        }
      ]
    },
    {
      "cell_type": "markdown",
      "source": [
        "Dado que los factoriales pueden ser números muy grandes, cambia el tipo de datos del array a object para\n",
        " manejar enteros arbitrariamente grandes y recalcula la suma."
      ],
      "metadata": {
        "id": "CbR8TPC8cqSv"
      }
    },
    {
      "cell_type": "code",
      "source": [
        "#suma_array.astype(object)\n",
        "suma_array_object = np.sum(array_factorial10.astype(object))\n",
        "suma_array_object\n"
      ],
      "metadata": {
        "colab": {
          "base_uri": "https://localhost:8080/"
        },
        "id": "ZsLSe9z9cq8S",
        "outputId": "31005b84-1362-42fb-b30a-c29203c086ea"
      },
      "execution_count": 100,
      "outputs": [
        {
          "output_type": "execute_result",
          "data": {
            "text/plain": [
              "409114"
            ]
          },
          "metadata": {},
          "execution_count": 100
        }
      ]
    },
    {
      "cell_type": "markdown",
      "source": [
        "#Pregunta 10\n",
        "Simula un conjunto de datos que represente las alturas (en cm) de 500 personas, siguiendo una distribución\n",
        " normal con media 170 y desviación estándar 10."
      ],
      "metadata": {
        "id": "__IhTINpdDI-"
      }
    },
    {
      "cell_type": "code",
      "source": [
        "matriz_altura = np.random.normal(170, 10, size=(500, 1))\n",
        "matriz_altura"
      ],
      "metadata": {
        "colab": {
          "base_uri": "https://localhost:8080/"
        },
        "id": "zFKM9fswdE7-",
        "outputId": "63789c64-8465-4031-a278-40c605ffee81"
      },
      "execution_count": 101,
      "outputs": [
        {
          "output_type": "execute_result",
          "data": {
            "text/plain": [
              "array([[154.59489956],\n",
              "       [150.58701489],\n",
              "       [166.01847844],\n",
              "       [180.76566185],\n",
              "       [177.1190574 ],\n",
              "       [176.10459774],\n",
              "       [187.51999269],\n",
              "       [182.69198539],\n",
              "       [176.52187631],\n",
              "       [179.61457998],\n",
              "       [181.92562608],\n",
              "       [164.86756059],\n",
              "       [159.25028764],\n",
              "       [174.62259449],\n",
              "       [172.47373249],\n",
              "       [155.59931463],\n",
              "       [168.17244752],\n",
              "       [199.07217557],\n",
              "       [166.45968152],\n",
              "       [177.76401553],\n",
              "       [163.82599808],\n",
              "       [166.13404732],\n",
              "       [163.18936468],\n",
              "       [180.61458002],\n",
              "       [172.94734429],\n",
              "       [162.46429545],\n",
              "       [174.73987304],\n",
              "       [165.85941304],\n",
              "       [163.80022777],\n",
              "       [161.6057987 ],\n",
              "       [182.70519438],\n",
              "       [167.05863342],\n",
              "       [189.9803169 ],\n",
              "       [164.50552742],\n",
              "       [178.55339431],\n",
              "       [165.05753635],\n",
              "       [170.82871069],\n",
              "       [173.2900305 ],\n",
              "       [163.54523771],\n",
              "       [155.80267468],\n",
              "       [171.34431037],\n",
              "       [198.0849112 ],\n",
              "       [145.97306906],\n",
              "       [180.05161521],\n",
              "       [176.42122424],\n",
              "       [170.85990916],\n",
              "       [176.57096874],\n",
              "       [180.17662459],\n",
              "       [167.29379762],\n",
              "       [157.08366329],\n",
              "       [165.82416619],\n",
              "       [169.20973414],\n",
              "       [163.23436077],\n",
              "       [156.90866744],\n",
              "       [182.6914995 ],\n",
              "       [168.42235958],\n",
              "       [165.577571  ],\n",
              "       [169.95779079],\n",
              "       [174.14743344],\n",
              "       [183.13217489],\n",
              "       [177.34680852],\n",
              "       [160.70125745],\n",
              "       [164.96280046],\n",
              "       [163.02084588],\n",
              "       [174.06789528],\n",
              "       [173.18571691],\n",
              "       [159.73531458],\n",
              "       [175.80031271],\n",
              "       [177.61471155],\n",
              "       [168.11897419],\n",
              "       [170.02595488],\n",
              "       [160.4501644 ],\n",
              "       [173.52538403],\n",
              "       [176.88407712],\n",
              "       [182.14317162],\n",
              "       [177.42740564],\n",
              "       [157.4358171 ],\n",
              "       [162.92869357],\n",
              "       [204.35699742],\n",
              "       [175.36458533],\n",
              "       [174.03058044],\n",
              "       [174.56943534],\n",
              "       [169.54404651],\n",
              "       [171.27546428],\n",
              "       [153.5696843 ],\n",
              "       [176.42631186],\n",
              "       [177.58752217],\n",
              "       [168.37831346],\n",
              "       [148.53543186],\n",
              "       [181.71484245],\n",
              "       [160.01024481],\n",
              "       [179.93302934],\n",
              "       [162.8341335 ],\n",
              "       [173.92624463],\n",
              "       [163.271121  ],\n",
              "       [149.70811399],\n",
              "       [181.78068988],\n",
              "       [162.12828613],\n",
              "       [175.92076096],\n",
              "       [183.49435369],\n",
              "       [164.41461171],\n",
              "       [162.01735599],\n",
              "       [176.34536492],\n",
              "       [166.70192474],\n",
              "       [164.52857045],\n",
              "       [152.28896752],\n",
              "       [158.70052343],\n",
              "       [176.46293142],\n",
              "       [172.18334504],\n",
              "       [160.99290176],\n",
              "       [171.69585595],\n",
              "       [165.62425075],\n",
              "       [160.14307634],\n",
              "       [157.66399568],\n",
              "       [168.5791969 ],\n",
              "       [170.47714663],\n",
              "       [191.58436381],\n",
              "       [177.59480902],\n",
              "       [198.06689696],\n",
              "       [177.60305311],\n",
              "       [164.13298669],\n",
              "       [177.28910032],\n",
              "       [179.25380806],\n",
              "       [184.51699653],\n",
              "       [162.01320858],\n",
              "       [169.82566888],\n",
              "       [166.45662494],\n",
              "       [168.52096375],\n",
              "       [172.80666959],\n",
              "       [175.90576752],\n",
              "       [151.71291958],\n",
              "       [163.84066635],\n",
              "       [167.67339188],\n",
              "       [168.15744862],\n",
              "       [178.29300142],\n",
              "       [150.85049128],\n",
              "       [160.66283528],\n",
              "       [179.17939308],\n",
              "       [188.93281876],\n",
              "       [171.34262821],\n",
              "       [174.30312786],\n",
              "       [173.9211318 ],\n",
              "       [168.96123242],\n",
              "       [167.92205064],\n",
              "       [167.22252868],\n",
              "       [166.00846023],\n",
              "       [179.36059898],\n",
              "       [170.21539931],\n",
              "       [179.92492412],\n",
              "       [149.97007862],\n",
              "       [168.6289645 ],\n",
              "       [154.4383521 ],\n",
              "       [153.58793381],\n",
              "       [173.57795001],\n",
              "       [168.04496054],\n",
              "       [177.59542295],\n",
              "       [174.77630992],\n",
              "       [178.81441615],\n",
              "       [167.47773143],\n",
              "       [180.26232454],\n",
              "       [172.08814506],\n",
              "       [153.66671741],\n",
              "       [151.7352208 ],\n",
              "       [162.29821138],\n",
              "       [169.89313208],\n",
              "       [183.70691298],\n",
              "       [169.24771749],\n",
              "       [173.1539352 ],\n",
              "       [153.04450017],\n",
              "       [167.38639998],\n",
              "       [171.9529207 ],\n",
              "       [171.45874544],\n",
              "       [170.26547452],\n",
              "       [172.92338224],\n",
              "       [196.44211931],\n",
              "       [155.01572381],\n",
              "       [148.39220124],\n",
              "       [164.54927184],\n",
              "       [175.10308488],\n",
              "       [173.54211956],\n",
              "       [169.96936574],\n",
              "       [172.62938746],\n",
              "       [164.30903629],\n",
              "       [185.03733892],\n",
              "       [180.5358671 ],\n",
              "       [160.53804317],\n",
              "       [175.30248309],\n",
              "       [154.44120731],\n",
              "       [183.27125071],\n",
              "       [176.31456636],\n",
              "       [175.2822524 ],\n",
              "       [170.53026677],\n",
              "       [181.2657418 ],\n",
              "       [173.2600889 ],\n",
              "       [188.91232438],\n",
              "       [190.98451666],\n",
              "       [166.68908954],\n",
              "       [153.23821239],\n",
              "       [170.13151951],\n",
              "       [156.751998  ],\n",
              "       [158.95113061],\n",
              "       [162.2363707 ],\n",
              "       [177.93166268],\n",
              "       [174.79964686],\n",
              "       [162.26327015],\n",
              "       [167.67814736],\n",
              "       [163.71233457],\n",
              "       [144.62306017],\n",
              "       [171.44954704],\n",
              "       [163.08219606],\n",
              "       [158.33349134],\n",
              "       [186.39771015],\n",
              "       [161.77363172],\n",
              "       [188.79681276],\n",
              "       [176.61030679],\n",
              "       [166.73324703],\n",
              "       [157.50504326],\n",
              "       [167.51968741],\n",
              "       [177.45182762],\n",
              "       [174.11088391],\n",
              "       [165.28464264],\n",
              "       [170.43415024],\n",
              "       [155.35805584],\n",
              "       [171.38866784],\n",
              "       [172.52663002],\n",
              "       [176.80782511],\n",
              "       [176.94131312],\n",
              "       [170.34670716],\n",
              "       [181.38303071],\n",
              "       [179.9340154 ],\n",
              "       [172.68422221],\n",
              "       [174.79241852],\n",
              "       [154.88050074],\n",
              "       [176.51991537],\n",
              "       [173.91238413],\n",
              "       [171.50671654],\n",
              "       [170.52620994],\n",
              "       [144.7514343 ],\n",
              "       [168.08639907],\n",
              "       [189.41442063],\n",
              "       [176.60621157],\n",
              "       [158.08300998],\n",
              "       [160.98176224],\n",
              "       [168.85081398],\n",
              "       [172.66054564],\n",
              "       [161.72702903],\n",
              "       [165.08360482],\n",
              "       [185.91767784],\n",
              "       [151.05746529],\n",
              "       [184.88918281],\n",
              "       [156.55778655],\n",
              "       [161.06944554],\n",
              "       [185.93548711],\n",
              "       [188.91437292],\n",
              "       [168.57618975],\n",
              "       [169.18861404],\n",
              "       [178.43631493],\n",
              "       [176.96776333],\n",
              "       [171.4167227 ],\n",
              "       [161.21270708],\n",
              "       [177.48461427],\n",
              "       [184.42937152],\n",
              "       [181.85082215],\n",
              "       [182.69642214],\n",
              "       [158.12546201],\n",
              "       [174.41275842],\n",
              "       [174.00230167],\n",
              "       [147.2554608 ],\n",
              "       [172.30667306],\n",
              "       [153.7990112 ],\n",
              "       [167.11005358],\n",
              "       [172.65488348],\n",
              "       [158.76998367],\n",
              "       [167.54320405],\n",
              "       [155.46548568],\n",
              "       [182.56999574],\n",
              "       [175.40259941],\n",
              "       [166.31993363],\n",
              "       [172.59820127],\n",
              "       [177.99561166],\n",
              "       [167.75446653],\n",
              "       [172.78101034],\n",
              "       [169.47701224],\n",
              "       [183.8506865 ],\n",
              "       [165.61077025],\n",
              "       [171.84060419],\n",
              "       [176.07689582],\n",
              "       [162.75451853],\n",
              "       [173.3026018 ],\n",
              "       [162.71976389],\n",
              "       [179.29578173],\n",
              "       [173.15971418],\n",
              "       [166.34779317],\n",
              "       [188.0316211 ],\n",
              "       [153.78775737],\n",
              "       [163.46288608],\n",
              "       [160.5833593 ],\n",
              "       [171.88180166],\n",
              "       [170.97180673],\n",
              "       [165.16106998],\n",
              "       [167.53676513],\n",
              "       [157.97753576],\n",
              "       [168.05656258],\n",
              "       [142.54371897],\n",
              "       [178.52401565],\n",
              "       [173.8766302 ],\n",
              "       [176.32064822],\n",
              "       [197.84755745],\n",
              "       [150.98460225],\n",
              "       [184.11306236],\n",
              "       [164.83715454],\n",
              "       [166.94717537],\n",
              "       [161.65446283],\n",
              "       [177.7147096 ],\n",
              "       [171.61342142],\n",
              "       [158.35477115],\n",
              "       [187.66983938],\n",
              "       [164.80076348],\n",
              "       [178.769729  ],\n",
              "       [151.61490164],\n",
              "       [146.16336879],\n",
              "       [179.76096477],\n",
              "       [183.45373571],\n",
              "       [175.44301085],\n",
              "       [138.59629108],\n",
              "       [183.99368424],\n",
              "       [171.58935413],\n",
              "       [187.03969129],\n",
              "       [151.4712673 ],\n",
              "       [175.02574756],\n",
              "       [153.13305876],\n",
              "       [154.6513039 ],\n",
              "       [167.37764465],\n",
              "       [173.93677142],\n",
              "       [160.12268319],\n",
              "       [162.86830746],\n",
              "       [186.12166202],\n",
              "       [159.92887422],\n",
              "       [154.35170159],\n",
              "       [178.7102546 ],\n",
              "       [157.39908856],\n",
              "       [155.94814426],\n",
              "       [170.9231065 ],\n",
              "       [182.50356214],\n",
              "       [164.94121034],\n",
              "       [181.18885422],\n",
              "       [183.02426707],\n",
              "       [172.97349623],\n",
              "       [169.38488631],\n",
              "       [171.08139258],\n",
              "       [167.55767453],\n",
              "       [173.62102897],\n",
              "       [163.07792285],\n",
              "       [187.58272916],\n",
              "       [166.54688586],\n",
              "       [175.25456143],\n",
              "       [179.81018209],\n",
              "       [171.03424225],\n",
              "       [177.98420133],\n",
              "       [163.09220178],\n",
              "       [166.60003281],\n",
              "       [163.48281233],\n",
              "       [171.23249145],\n",
              "       [160.43295976],\n",
              "       [160.34917904],\n",
              "       [167.88340792],\n",
              "       [162.51549941],\n",
              "       [167.36768628],\n",
              "       [179.387755  ],\n",
              "       [163.18240227],\n",
              "       [158.00097971],\n",
              "       [170.11156878],\n",
              "       [175.07821128],\n",
              "       [170.85994306],\n",
              "       [169.45892886],\n",
              "       [172.24060172],\n",
              "       [170.58189345],\n",
              "       [171.77034724],\n",
              "       [170.54273454],\n",
              "       [167.97385356],\n",
              "       [183.15559858],\n",
              "       [165.41013802],\n",
              "       [183.26158423],\n",
              "       [160.55568132],\n",
              "       [169.19649742],\n",
              "       [173.74822824],\n",
              "       [192.70056448],\n",
              "       [190.87925377],\n",
              "       [168.76231775],\n",
              "       [180.2692387 ],\n",
              "       [169.67948214],\n",
              "       [182.21574445],\n",
              "       [178.04959922],\n",
              "       [170.68952474],\n",
              "       [174.91769232],\n",
              "       [168.3170676 ],\n",
              "       [178.75042659],\n",
              "       [179.94414995],\n",
              "       [176.42424663],\n",
              "       [180.36861947],\n",
              "       [167.3141086 ],\n",
              "       [182.18598288],\n",
              "       [149.84164685],\n",
              "       [164.4361305 ],\n",
              "       [187.59766587],\n",
              "       [169.53848197],\n",
              "       [167.63922583],\n",
              "       [158.8759085 ],\n",
              "       [167.17076231],\n",
              "       [157.12162583],\n",
              "       [178.18809119],\n",
              "       [193.39126642],\n",
              "       [164.30647527],\n",
              "       [174.24428159],\n",
              "       [165.60802351],\n",
              "       [165.19512648],\n",
              "       [165.64402977],\n",
              "       [176.93768396],\n",
              "       [166.18493361],\n",
              "       [172.37428567],\n",
              "       [177.21940803],\n",
              "       [171.75029134],\n",
              "       [159.83967564],\n",
              "       [171.46418401],\n",
              "       [180.133544  ],\n",
              "       [169.53682424],\n",
              "       [181.43531555],\n",
              "       [153.98837883],\n",
              "       [174.88555647],\n",
              "       [164.45332949],\n",
              "       [169.55997086],\n",
              "       [184.53504522],\n",
              "       [154.46375645],\n",
              "       [166.88641742],\n",
              "       [174.79270487],\n",
              "       [183.75687737],\n",
              "       [177.17356395],\n",
              "       [181.35202276],\n",
              "       [174.8646544 ],\n",
              "       [160.16829245],\n",
              "       [162.69370345],\n",
              "       [191.53262353],\n",
              "       [176.18263903],\n",
              "       [161.26214635],\n",
              "       [168.18080225],\n",
              "       [161.30743702],\n",
              "       [159.61465045],\n",
              "       [170.65202272],\n",
              "       [179.30145485],\n",
              "       [171.28311571],\n",
              "       [190.25594826],\n",
              "       [166.08825841],\n",
              "       [185.36497027],\n",
              "       [175.71786655],\n",
              "       [173.97694425],\n",
              "       [159.81452118],\n",
              "       [176.44786491],\n",
              "       [175.69883428],\n",
              "       [179.21572848],\n",
              "       [158.81748221],\n",
              "       [170.84753058],\n",
              "       [182.09432598],\n",
              "       [155.71180364],\n",
              "       [171.7160573 ],\n",
              "       [175.04844027],\n",
              "       [173.7298075 ],\n",
              "       [163.89703122],\n",
              "       [175.45255931],\n",
              "       [188.83955814],\n",
              "       [175.07317609],\n",
              "       [156.14907862],\n",
              "       [159.56885809],\n",
              "       [168.2578584 ],\n",
              "       [148.89486599],\n",
              "       [180.84265216],\n",
              "       [178.73737923],\n",
              "       [158.89996334],\n",
              "       [155.8692618 ],\n",
              "       [149.15236574],\n",
              "       [158.91878069],\n",
              "       [160.43090483],\n",
              "       [177.48329026],\n",
              "       [174.29702806],\n",
              "       [167.59501431],\n",
              "       [175.91844748],\n",
              "       [162.38975691],\n",
              "       [177.90565907],\n",
              "       [154.8800895 ],\n",
              "       [165.94956837],\n",
              "       [162.1784819 ],\n",
              "       [155.02926691],\n",
              "       [171.23085468],\n",
              "       [170.53141514],\n",
              "       [171.51326797],\n",
              "       [168.3677317 ],\n",
              "       [169.56300639],\n",
              "       [158.66183918],\n",
              "       [181.50906896],\n",
              "       [183.8067604 ],\n",
              "       [163.39063092]])"
            ]
          },
          "metadata": {},
          "execution_count": 101
        }
      ]
    },
    {
      "cell_type": "markdown",
      "source": [
        "Calcula el histograma de los datos utilizando 10 bins y muestra los valores de las frecuencias"
      ],
      "metadata": {
        "id": "bVFpt2HNdPG9"
      }
    },
    {
      "cell_type": "code",
      "source": [
        "histograma, bins = np.histogram(matriz_altura, bins=10)\n",
        "print(\"Frecuencia:\", histograma)"
      ],
      "metadata": {
        "colab": {
          "base_uri": "https://localhost:8080/"
        },
        "id": "5yzlwOJOdPqn",
        "outputId": "12628f21-a148-4679-9747-e8e278828a16"
      },
      "execution_count": 104,
      "outputs": [
        {
          "output_type": "stream",
          "name": "stdout",
          "text": [
            "Frecuencia: [  4  18  41  85 124 125  70  23   5   5]\n"
          ]
        }
      ]
    },
    {
      "cell_type": "markdown",
      "source": [
        "Encuentra cuántas personas miden más de 180 cm y menos de 160 cm."
      ],
      "metadata": {
        "id": "Lu2AqtL0djhA"
      }
    },
    {
      "cell_type": "code",
      "source": [
        "personas_mas_180 = np.sum(matriz_altura > 180)\n",
        "personas_menos_160 = np.sum(matriz_altura < 160)\n",
        "\n",
        "print(personas_mas_180)\n",
        "print(personas_menos_160)"
      ],
      "metadata": {
        "colab": {
          "base_uri": "https://localhost:8080/"
        },
        "id": "F4sdB4JFdkxB",
        "outputId": "f2b357df-96bd-4402-aac3-ef085b687b0c"
      },
      "execution_count": 106,
      "outputs": [
        {
          "output_type": "stream",
          "name": "stdout",
          "text": [
            "79\n",
            "80\n"
          ]
        }
      ]
    },
    {
      "cell_type": "markdown",
      "source": [
        " Normaliza los datos de altura para que tengan media 0 y desviación estándar 1"
      ],
      "metadata": {
        "id": "XC-2VfoodwIx"
      }
    },
    {
      "cell_type": "code",
      "source": [
        "altura_normalizada = (matriz_altura - np.mean(matriz_altura)) / np.std(matriz_altura)\n",
        "altura_normalizada"
      ],
      "metadata": {
        "colab": {
          "base_uri": "https://localhost:8080/"
        },
        "id": "yZqFckNNdxDp",
        "outputId": "f3556cfb-827f-4a85-b78d-57c3e1295397"
      },
      "execution_count": 107,
      "outputs": [
        {
          "output_type": "execute_result",
          "data": {
            "text/plain": [
              "array([[-1.51722135e+00],\n",
              "       [-1.90678919e+00],\n",
              "       [-4.06845332e-01],\n",
              "       [ 1.02658625e+00],\n",
              "       [ 6.72134973e-01],\n",
              "       [ 5.73529126e-01],\n",
              "       [ 1.68310966e+00],\n",
              "       [ 1.21382560e+00],\n",
              "       [ 6.14088754e-01],\n",
              "       [ 9.14700673e-01],\n",
              "       [ 1.13933519e+00],\n",
              "       [-5.18714965e-01],\n",
              "       [-1.06471594e+00],\n",
              "       [ 4.29477871e-01],\n",
              "       [ 2.20607706e-01],\n",
              "       [-1.41959184e+00],\n",
              "       [-1.97478755e-01],\n",
              "       [ 2.80598603e+00],\n",
              "       [-3.63960233e-01],\n",
              "       [ 7.34825138e-01],\n",
              "       [-6.19955219e-01],\n",
              "       [-3.95611995e-01],\n",
              "       [-6.81836217e-01],\n",
              "       [ 1.01190104e+00],\n",
              "       [ 2.66642944e-01],\n",
              "       [-7.52313210e-01],\n",
              "       [ 4.40877389e-01],\n",
              "       [-4.22306547e-01],\n",
              "       [-6.22460103e-01],\n",
              "       [-8.35759405e-01],\n",
              "       [ 1.21510952e+00],\n",
              "       [-3.05741891e-01],\n",
              "       [ 1.92225407e+00],\n",
              "       [-5.53904721e-01],\n",
              "       [ 8.11553041e-01],\n",
              "       [-5.00249253e-01],\n",
              "       [ 6.07109890e-02],\n",
              "       [ 2.99952168e-01],\n",
              "       [-6.47245230e-01],\n",
              "       [-1.39982517e+00],\n",
              "       [ 1.10827465e-01],\n",
              "       [ 2.71002357e+00],\n",
              "       [-2.35526640e+00],\n",
              "       [ 9.57180656e-01],\n",
              "       [ 6.04305337e-01],\n",
              "       [ 6.37434918e-02],\n",
              "       [ 6.18860556e-01],\n",
              "       [ 9.69331614e-01],\n",
              "       [-2.82883845e-01],\n",
              "       [-1.27531261e+00],\n",
              "       [-4.25732554e-01],\n",
              "       [-9.66541193e-02],\n",
              "       [-6.77462580e-01],\n",
              "       [-1.29232227e+00],\n",
              "       [ 1.21377837e+00],\n",
              "       [-1.73187212e-01],\n",
              "       [-4.49701696e-01],\n",
              "       [-2.39427419e-02],\n",
              "       [ 3.83292045e-01],\n",
              "       [ 1.25661218e+00],\n",
              "       [ 6.94272465e-01],\n",
              "       [-9.23681143e-01],\n",
              "       [-5.09457615e-01],\n",
              "       [-6.98216306e-01],\n",
              "       [ 3.75560907e-01],\n",
              "       [ 2.89812849e-01],\n",
              "       [-1.01757114e+00],\n",
              "       [ 5.43952510e-01],\n",
              "       [ 7.20312736e-01],\n",
              "       [-2.02676382e-01],\n",
              "       [-1.73171674e-02],\n",
              "       [-9.48087479e-01],\n",
              "       [ 3.22828617e-01],\n",
              "       [ 6.49294804e-01],\n",
              "       [ 1.16048070e+00],\n",
              "       [ 7.02106533e-01],\n",
              "       [-1.24108313e+00],\n",
              "       [-7.07173544e-01],\n",
              "       [ 3.31967263e+00],\n",
              "       [ 5.01599650e-01],\n",
              "       [ 3.71933891e-01],\n",
              "       [ 4.24310783e-01],\n",
              "       [-6.41588358e-02],\n",
              "       [ 1.04135600e-01],\n",
              "       [-1.61687264e+00],\n",
              "       [ 6.04799855e-01],\n",
              "       [ 7.17669919e-01],\n",
              "       [-1.77468512e-01],\n",
              "       [-2.10620381e+00],\n",
              "       [ 1.11884695e+00],\n",
              "       [-9.90847822e-01],\n",
              "       [ 9.45654067e-01],\n",
              "       [-7.16364817e-01],\n",
              "       [ 3.61792413e-01],\n",
              "       [-6.73889473e-01],\n",
              "       [-1.99221868e+00],\n",
              "       [ 1.12524734e+00],\n",
              "       [-7.84973437e-01],\n",
              "       [ 5.55660124e-01],\n",
              "       [ 1.29181609e+00],\n",
              "       [-5.62741761e-01],\n",
              "       [-7.95755887e-01],\n",
              "       [ 5.96931783e-01],\n",
              "       [-3.40414104e-01],\n",
              "       [-5.51664930e-01],\n",
              "       [-1.74135878e+00],\n",
              "       [-1.11815322e+00],\n",
              "       [ 6.08359290e-01],\n",
              "       [ 1.92381940e-01],\n",
              "       [-8.95333210e-01],\n",
              "       [ 1.44997823e-01],\n",
              "       [-4.45164407e-01],\n",
              "       [-9.77936550e-01],\n",
              "       [-1.21890409e+00],\n",
              "       [-1.57942568e-01],\n",
              "       [ 2.65388349e-02],\n",
              "       [ 2.07816801e+00],\n",
              "       [ 7.18378203e-01],\n",
              "       [ 2.70827258e+00],\n",
              "       [ 7.19179531e-01],\n",
              "       [-5.90115815e-01],\n",
              "       [ 6.88663206e-01],\n",
              "       [ 8.79633512e-01],\n",
              "       [ 1.39121734e+00],\n",
              "       [-7.96159017e-01],\n",
              "       [-3.67850394e-02],\n",
              "       [-3.64257334e-01],\n",
              "       [-1.63602852e-01],\n",
              "       [ 2.52969312e-01],\n",
              "       [ 5.54202756e-01],\n",
              "       [-1.79735085e+00],\n",
              "       [-6.18529458e-01],\n",
              "       [-2.45987145e-01],\n",
              "       [-1.98936654e-01],\n",
              "       [ 7.86242758e-01],\n",
              "       [-1.88117919e+00],\n",
              "       [-9.27415791e-01],\n",
              "       [ 8.72400349e-01],\n",
              "       [ 1.82043687e+00],\n",
              "       [ 1.10663958e-01],\n",
              "       [ 3.98425600e-01],\n",
              "       [ 3.61295444e-01],\n",
              "       [-1.20808577e-01],\n",
              "       [-2.21817423e-01],\n",
              "       [-2.89811212e-01],\n",
              "       [-4.07819106e-01],\n",
              "       [ 8.90013628e-01],\n",
              "       [ 1.09689994e-03],\n",
              "       [ 9.44866237e-01],\n",
              "       [-1.96675562e+00],\n",
              "       [-1.53105140e-01],\n",
              "       [-1.53243782e+00],\n",
              "       [-1.61509878e+00],\n",
              "       [ 3.27938049e-01],\n",
              "       [-2.09870536e-01],\n",
              "       [ 7.18437877e-01],\n",
              "       [ 4.44419067e-01],\n",
              "       [ 8.36924459e-01],\n",
              "       [-2.65005412e-01],\n",
              "       [ 9.77661680e-01],\n",
              "       [ 1.83128467e-01],\n",
              "       [-1.60744099e+00],\n",
              "       [-1.79518316e+00],\n",
              "       [-7.68456641e-01],\n",
              "       [-3.02275913e-02],\n",
              "       [ 1.31247693e+00],\n",
              "       [-9.29621243e-02],\n",
              "       [ 2.86723655e-01],\n",
              "       [-1.66792073e+00],\n",
              "       [-2.73882862e-01],\n",
              "       [ 1.69984610e-01],\n",
              "       [ 1.21950596e-01],\n",
              "       [ 5.96422895e-03],\n",
              "       [ 2.64313824e-01],\n",
              "       [ 2.55034361e+00],\n",
              "       [-1.47631708e+00],\n",
              "       [-2.12012588e+00],\n",
              "       [-5.49652747e-01],\n",
              "       [ 4.76181712e-01],\n",
              "       [ 3.24455317e-01],\n",
              "       [-2.28176527e-02],\n",
              "       [ 2.35737425e-01],\n",
              "       [-5.73003730e-01],\n",
              "       [ 1.44179481e+00],\n",
              "       [ 1.00425012e+00],\n",
              "       [-9.39545631e-01],\n",
              "       [ 4.95563290e-01],\n",
              "       [-1.53216029e+00],\n",
              "       [ 1.27013040e+00],\n",
              "       [ 5.93938152e-01],\n",
              "       [ 4.93596860e-01],\n",
              "       [ 3.17021310e-02],\n",
              "       [ 1.07519420e+00],\n",
              "       [ 2.97041833e-01],\n",
              "       [ 1.81844480e+00],\n",
              "       [ 2.01986265e+00],\n",
              "       [-3.41661690e-01],\n",
              "       [-1.64909183e+00],\n",
              "       [-7.05624739e-03],\n",
              "       [-1.30755060e+00],\n",
              "       [-1.09379411e+00],\n",
              "       [-7.74467578e-01],\n",
              "       [ 7.51120501e-01],\n",
              "       [ 4.46687426e-01],\n",
              "       [-7.71852942e-01],\n",
              "       [-2.45524910e-01],\n",
              "       [-6.31003354e-01],\n",
              "       [-2.48648776e+00],\n",
              "       [ 1.21056508e-01],\n",
              "       [-6.92253046e-01],\n",
              "       [-1.15382887e+00],\n",
              "       [ 1.57402339e+00],\n",
              "       [-8.19445975e-01],\n",
              "       [ 1.80721703e+00],\n",
              "       [ 6.22684229e-01],\n",
              "       [-3.37369565e-01],\n",
              "       [-1.23435432e+00],\n",
              "       [-2.60927276e-01],\n",
              "       [ 7.04480359e-01],\n",
              "       [ 3.79739417e-01],\n",
              "       [-4.78174438e-01],\n",
              "       [ 2.23595696e-02],\n",
              "       [-1.44304228e+00],\n",
              "       [ 1.15139027e-01],\n",
              "       [ 2.25749364e-01],\n",
              "       [ 6.41883081e-01],\n",
              "       [ 6.54858165e-01],\n",
              "       [ 1.38600706e-02],\n",
              "       [ 1.08659473e+00],\n",
              "       [ 9.45749913e-01],\n",
              "       [ 2.41067382e-01],\n",
              "       [ 4.45984829e-01],\n",
              "       [-1.48946081e+00],\n",
              "       [ 6.13898150e-01],\n",
              "       [ 3.60445167e-01],\n",
              "       [ 1.26613403e-01],\n",
              "       [ 3.13078057e-02],\n",
              "       [-2.47400974e+00],\n",
              "       [-2.05842697e-01],\n",
              "       [ 1.86724874e+00],\n",
              "       [ 6.22286172e-01],\n",
              "       [-1.17817575e+00],\n",
              "       [-8.96415976e-01],\n",
              "       [-1.31541290e-01],\n",
              "       [ 2.38766011e-01],\n",
              "       [-8.23975773e-01],\n",
              "       [-4.97715387e-01],\n",
              "       [ 1.52736407e+00],\n",
              "       [-1.86106124e+00],\n",
              "       [ 1.42739398e+00],\n",
              "       [-1.32642802e+00],\n",
              "       [-8.87893127e-01],\n",
              "       [ 1.52909514e+00],\n",
              "       [ 1.81864392e+00],\n",
              "       [-1.58234864e-01],\n",
              "       [-9.87070011e-02],\n",
              "       [ 8.00172883e-01],\n",
              "       [ 6.57429134e-01],\n",
              "       [ 1.17865970e-01],\n",
              "       [-8.73968054e-01],\n",
              "       [ 7.07667234e-01],\n",
              "       [ 1.38270016e+00],\n",
              "       [ 1.13206422e+00],\n",
              "       [ 1.21425685e+00],\n",
              "       [-1.17404940e+00],\n",
              "       [ 4.09081729e-01],\n",
              "       [ 3.69185185e-01],\n",
              "       [-2.23061746e+00],\n",
              "       [ 2.04369468e-01],\n",
              "       [-1.59458198e+00],\n",
              "       [-3.00743833e-01],\n",
              "       [ 2.38215648e-01],\n",
              "       [-1.11140166e+00],\n",
              "       [-2.58641449e-01],\n",
              "       [-1.43260006e+00],\n",
              "       [ 1.20196816e+00],\n",
              "       [ 5.05294633e-01],\n",
              "       [-3.77543778e-01],\n",
              "       [ 2.32706116e-01],\n",
              "       [ 7.57336365e-01],\n",
              "       [-2.38106660e-01],\n",
              "       [ 2.50475224e-01],\n",
              "       [-7.06745915e-02],\n",
              "       [ 1.32645177e+00],\n",
              "       [-4.46474717e-01],\n",
              "       [ 1.59067404e-01],\n",
              "       [ 5.70836489e-01],\n",
              "       [-7.24103420e-01],\n",
              "       [ 3.01174103e-01],\n",
              "       [-7.27481584e-01],\n",
              "       [ 8.83713368e-01],\n",
              "       [ 2.87285375e-01],\n",
              "       [-3.74835821e-01],\n",
              "       [ 1.73284013e+00],\n",
              "       [-1.59567586e+00],\n",
              "       [-6.55249837e-01],\n",
              "       [-9.35140886e-01],\n",
              "       [ 1.63071813e-01],\n",
              "       [ 7.46199757e-02],\n",
              "       [-4.90185746e-01],\n",
              "       [-2.59267314e-01],\n",
              "       [-1.18842788e+00],\n",
              "       [-2.08742814e-01],\n",
              "       [-2.68860048e+00],\n",
              "       [ 8.08697425e-01],\n",
              "       [ 3.56969872e-01],\n",
              "       [ 5.94529311e-01],\n",
              "       [ 2.68695270e+00],\n",
              "       [-1.86814356e+00],\n",
              "       [ 1.35195479e+00],\n",
              "       [-5.21670445e-01],\n",
              "       [-3.16575653e-01],\n",
              "       [-8.31029234e-01],\n",
              "       [ 7.30032583e-01],\n",
              "       [ 1.36985157e-01],\n",
              "       [-1.15176046e+00],\n",
              "       [ 1.69767481e+00],\n",
              "       [-5.25207669e-01],\n",
              "       [ 8.32580852e-01],\n",
              "       [-1.80687823e+00],\n",
              "       [-2.33676920e+00],\n",
              "       [ 9.28929328e-01],\n",
              "       [ 1.28786800e+00],\n",
              "       [ 5.09222640e-01],\n",
              "       [-3.07229190e+00],\n",
              "       [ 1.34035120e+00],\n",
              "       [ 1.34645808e-01],\n",
              "       [ 1.63642419e+00],\n",
              "       [-1.82083954e+00],\n",
              "       [ 4.68664496e-01],\n",
              "       [-1.65931280e+00],\n",
              "       [-1.51173882e+00],\n",
              "       [-2.74733884e-01],\n",
              "       [ 3.62815620e-01],\n",
              "       [-9.79918771e-01],\n",
              "       [-7.13043095e-01],\n",
              "       [ 1.54719141e+00],\n",
              "       [-9.98757073e-01],\n",
              "       [-1.54086028e+00],\n",
              "       [ 8.26799919e-01],\n",
              "       [-1.24465316e+00],\n",
              "       [-1.38568547e+00],\n",
              "       [ 6.98862954e-02],\n",
              "       [ 1.19551079e+00],\n",
              "       [-5.11556183e-01],\n",
              "       [ 1.06772070e+00],\n",
              "       [ 1.24612350e+00],\n",
              "       [ 2.69184922e-01],\n",
              "       [-7.96292646e-02],\n",
              "       [ 8.52717607e-02],\n",
              "       [-2.57234913e-01],\n",
              "       [ 3.32125339e-01],\n",
              "       [-6.92668403e-01],\n",
              "       [ 1.68920767e+00],\n",
              "       [-3.55483939e-01],\n",
              "       [ 4.90905288e-01],\n",
              "       [ 9.33713269e-01],\n",
              "       [ 8.06887315e-02],\n",
              "       [ 7.56227277e-01],\n",
              "       [-6.91280486e-01],\n",
              "       [-3.50318037e-01],\n",
              "       [-6.53312998e-01],\n",
              "       [ 9.99586251e-02],\n",
              "       [-9.49759776e-01],\n",
              "       [-9.57903292e-01],\n",
              "       [-2.25573509e-01],\n",
              "       [-7.47336166e-01],\n",
              "       [-2.75701840e-01],\n",
              "       [ 8.92653203e-01],\n",
              "       [-6.82512965e-01],\n",
              "       [-1.18614912e+00],\n",
              "       [-8.99546546e-03],\n",
              "       [ 4.73763989e-01],\n",
              "       [ 6.37467867e-02],\n",
              "       [-7.24323024e-02],\n",
              "       [ 1.97947309e-01],\n",
              "       [ 3.67202633e-02],\n",
              "       [ 1.52238403e-01],\n",
              "       [ 3.29140031e-02],\n",
              "       [-2.16782161e-01],\n",
              "       [ 1.25888897e+00],\n",
              "       [-4.65976242e-01],\n",
              "       [ 1.26919081e+00],\n",
              "       [-9.37831196e-01],\n",
              "       [-9.79407337e-02],\n",
              "       [ 3.44489155e-01],\n",
              "       [ 2.18666312e+00],\n",
              "       [ 2.00963106e+00],\n",
              "       [-1.40143155e-01],\n",
              "       [ 9.78333739e-01],\n",
              "       [-5.09944436e-02],\n",
              "       [ 1.16753480e+00],\n",
              "       [ 7.62583976e-01],\n",
              "       [ 4.71820644e-02],\n",
              "       [ 4.58161488e-01],\n",
              "       [-1.83421631e-01],\n",
              "       [ 8.30704651e-01],\n",
              "       [ 9.46734994e-01],\n",
              "       [ 6.04599114e-01],\n",
              "       [ 9.87993586e-01],\n",
              "       [-2.80909610e-01],\n",
              "       [ 1.16464197e+00],\n",
              "       [-1.97923924e+00],\n",
              "       [-5.60650127e-01],\n",
              "       [ 1.69065952e+00],\n",
              "       [-6.46997107e-02],\n",
              "       [-2.49308098e-01],\n",
              "       [-1.10110572e+00],\n",
              "       [-2.94842921e-01],\n",
              "       [-1.27162264e+00],\n",
              "       [ 7.76045445e-01],\n",
              "       [ 2.25379960e+00],\n",
              "       [-5.73252662e-01],\n",
              "       [ 3.92705720e-01],\n",
              "       [-4.46741700e-01],\n",
              "       [-4.86875442e-01],\n",
              "       [-4.43241879e-01],\n",
              "       [ 6.54505409e-01],\n",
              "       [-3.90665830e-01],\n",
              "       [ 2.10941438e-01],\n",
              "       [ 6.81889091e-01],\n",
              "       [ 1.50288963e-01],\n",
              "       [-1.00742721e+00],\n",
              "       [ 1.22479226e-01],\n",
              "       [ 9.65144165e-01],\n",
              "       [-6.48608428e-02],\n",
              "       [ 1.09167683e+00],\n",
              "       [-1.57617538e+00],\n",
              "       [ 4.55037872e-01],\n",
              "       [-5.58978378e-01],\n",
              "       [-6.26109832e-02],\n",
              "       [ 1.39297168e+00],\n",
              "       [-1.52996851e+00],\n",
              "       [-3.22481348e-01],\n",
              "       [ 4.46012662e-01],\n",
              "       [ 1.31733348e+00],\n",
              "       [ 6.77433029e-01],\n",
              "       [ 1.08358074e+00],\n",
              "       [ 4.53006183e-01],\n",
              "       [-9.75485534e-01],\n",
              "       [-7.30014669e-01],\n",
              "       [ 2.07313883e+00],\n",
              "       [ 5.81114767e-01],\n",
              "       [-8.69162538e-01],\n",
              "       [-1.96666673e-01],\n",
              "       [-8.64760269e-01],\n",
              "       [-1.02929974e+00],\n",
              "       [ 4.35368539e-02],\n",
              "       [ 8.84264798e-01],\n",
              "       [ 1.04879322e-01],\n",
              "       [ 1.94904553e+00],\n",
              "       [-4.00062694e-01],\n",
              "       [ 1.47364070e+00],\n",
              "       [ 5.35938713e-01],\n",
              "       [ 3.66720434e-01],\n",
              "       [-1.00987223e+00],\n",
              "       [ 6.06894819e-01],\n",
              "       [ 5.34088770e-01],\n",
              "       [ 8.75932163e-01],\n",
              "       [-1.10678478e+00],\n",
              "       [ 6.25402886e-02],\n",
              "       [ 1.15573289e+00],\n",
              "       [-1.40865787e+00],\n",
              "       [ 1.46961401e-01],\n",
              "       [ 4.70870236e-01],\n",
              "       [ 3.42698652e-01],\n",
              "       [-6.13050772e-01],\n",
              "       [ 5.10150753e-01],\n",
              "       [ 1.81137190e+00],\n",
              "       [ 4.73274567e-01],\n",
              "       [-1.36615458e+00],\n",
              "       [-1.03375077e+00],\n",
              "       [-1.89176787e-01],\n",
              "       [-2.07126668e+00],\n",
              "       [ 1.03406974e+00],\n",
              "       [ 8.29436442e-01],\n",
              "       [-1.09876758e+00],\n",
              "       [-1.39335287e+00],\n",
              "       [-2.04623761e+00],\n",
              "       [-1.09693853e+00],\n",
              "       [-9.49959515e-01],\n",
              "       [ 7.07538540e-01],\n",
              "       [ 3.97832696e-01],\n",
              "       [-2.53605473e-01],\n",
              "       [ 5.55435253e-01],\n",
              "       [-7.59558382e-01],\n",
              "       [ 7.48592941e-01],\n",
              "       [-1.48950078e+00],\n",
              "       [-4.13543416e-01],\n",
              "       [-7.80094390e-01],\n",
              "       [-1.47500068e+00],\n",
              "       [ 9.97995312e-02],\n",
              "       [ 3.18137533e-02],\n",
              "       [ 1.27250206e-01],\n",
              "       [-1.78497063e-01],\n",
              "       [-6.23159290e-02],\n",
              "       [-1.12191334e+00],\n",
              "       [ 1.09884569e+00],\n",
              "       [ 1.32218213e+00],\n",
              "       [-6.62273065e-01]])"
            ]
          },
          "metadata": {},
          "execution_count": 107
        }
      ]
    }
  ]
}