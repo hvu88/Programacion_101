{
  "nbformat": 4,
  "nbformat_minor": 0,
  "metadata": {
    "colab": {
      "provenance": [],
      "authorship_tag": "ABX9TyNI04MdE5L/RUU6RHFCub/D",
      "include_colab_link": true
    },
    "kernelspec": {
      "name": "python3",
      "display_name": "Python 3"
    },
    "language_info": {
      "name": "python"
    }
  },
  "cells": [
    {
      "cell_type": "markdown",
      "metadata": {
        "id": "view-in-github",
        "colab_type": "text"
      },
      "source": [
        "<a href=\"https://colab.research.google.com/github/hvu88/Programacion_101/blob/Parte2/Desafio_1_Estructura_de_datos.ipynb\" target=\"_parent\"><img src=\"https://colab.research.google.com/assets/colab-badge.svg\" alt=\"Open In Colab\"/></a>"
      ]
    },
    {
      "cell_type": "markdown",
      "source": [
        "## <b>5. Desafío</b>"
      ],
      "metadata": {
        "id": "_OlJynjWogPp"
      }
    },
    {
      "cell_type": "markdown",
      "source": [
        "### Desafío 1: Análisis de ventas de una tienda de ropa\n",
        "\n",
        "Eres el encargado de una tienda de ropa y tienes una lista de ventas diarias para diferentes productos. Cada día, vendes camisetas, pantalones y zapatos. Quieres analizar las ventas para entender mejor el rendimiento de cada producto.\n",
        "\n",
        "<b>Objetivo:</b>\n",
        "\n",
        "- Crea tres listas: una para camisetas, otra para pantalones y una para zapatos, con la cantidad vendida cada día durante una semana.\n",
        "- Usa slicing para extraer las ventas de los últimos 3 días de cada producto.\n",
        "- Usa listas por comprensión para calcular el total de ventas de cada producto y el promedio de ventas diarias.\n",
        "\n",
        "- Clasifica los productos en \"buenas ventas\" o \"malas ventas\" según si el promedio de ventas diarias es mayor o menor a 5.\n",
        "\n",
        "Instrucciones:\n",
        "- Genera los datos de ventas usando listas manualmente o simulándolos con valores constantes.\n",
        "- Calcula el total de ventas por producto usando sum() y el promedio con len().\n",
        "- Usa listas por comprensión para clasificar las ventas de los productos."
      ],
      "metadata": {
        "id": "jOJ9CcFColZn"
      }
    },
    {
      "cell_type": "code",
      "execution_count": 144,
      "metadata": {
        "colab": {
          "base_uri": "https://localhost:8080/"
        },
        "id": "ipe0r54Nodir",
        "outputId": "40cdbb2a-173a-4fb2-fce0-65da5d89a793"
      },
      "outputs": [
        {
          "output_type": "stream",
          "name": "stdout",
          "text": [
            "Ventas diarias durante una semana\n",
            "Camisetas: [3, 4, 1, 7, 3, 3, 5]\n",
            "Pantalones: [4, 5, 8, 6, 4, 6, 8]\n",
            "Zapatos: [2, 6, 7, 6, 9, 5, 7] \n",
            "\n",
            "Venta 3 últimos días\n",
            "Camisetas: [3, 3, 5]\n",
            "Pantalones: [4, 6, 8]\n",
            "Zapatos: [9, 5, 7] \n",
            "\n",
            "Producto       Venta_semanal  Promedio       \n",
            "----------------------------------------\n",
            "camisetas      26             3.71           \n",
            "pantalones     41             5.86           \n",
            "zapatos        42             6.0            \n",
            "\n",
            "Clasificación\n",
            "Buenas ventas: ['pantalones', 'zapatos']\n",
            "Malas ventas: ['camisetas']\n"
          ]
        }
      ],
      "source": [
        "productos = ['camisetas', 'pantalones', 'zapatos']\n",
        "\n",
        "# Ventas diarias\n",
        "camisetas = [3,4,1,7,3,3,5]\n",
        "pantalones = [4,5,8,6,4,6,8]\n",
        "zapatos = [2,6,7,6,9,5,7]\n",
        "print('Ventas diarias durante una semana')\n",
        "print(f'Camisetas: {camisetas}')\n",
        "print(f'Pantalones: {pantalones}')\n",
        "print(f'Zapatos: {zapatos} \\n')\n",
        "ventas = [sum(camisetas), sum(pantalones), sum(zapatos)]\n",
        "\n",
        "#Ventas últimos 3 días]\n",
        "print('Venta 3 últimos días')\n",
        "print(f'Camisetas: {camisetas[-3:]}')\n",
        "print(f'Pantalones: {pantalones[-3:]}')\n",
        "print(f'Zapatos: {zapatos[-3:]} \\n')\n",
        "\n",
        "#Promedios\n",
        "prom_camisetas = round(sum(camisetas)/len(camisetas),2)\n",
        "prom_pantalones = round(sum(pantalones)/len(pantalones),2)\n",
        "prom_zapatos = round(sum(zapatos)/len(zapatos),2)\n",
        "promedios = [prom_camisetas, prom_pantalones, prom_zapatos]\n",
        "\n",
        "#Imprimir tabla\n",
        "print(f\"{'Producto' :<15}{'Venta_semanal' :<15}{'Promedio' :<15}\")\n",
        "print('-'*40)\n",
        "for prod, venta, prom in zip(productos, ventas, promedios):\n",
        "  print(f\"{prod:<15}{venta:<15}{prom:<15}\")\n",
        "\n",
        "\n",
        "#Clasificación\n",
        "buenas_ventas = []\n",
        "malas_ventas = []\n",
        "\n",
        "def clasificacion_venta(prod, prom):\n",
        "  return buenas_ventas.append(prod) if prom > 5 else malas_ventas.append(prod)\n",
        "\n",
        "producto_prom = zip(productos, promedios)\n",
        "[clasificacion_venta(prod, prom) for prod, prom in producto_prom]\n",
        "\n",
        "print()\n",
        "print('Clasificación')\n",
        "print(f'Buenas ventas: {buenas_ventas}')\n",
        "print(f'Malas ventas: {malas_ventas}')\n",
        "\n",
        "\n",
        "\n"
      ]
    }
  ]
}